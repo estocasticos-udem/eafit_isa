{
  "nbformat": 4,
  "nbformat_minor": 0,
  "metadata": {
    "colab": {
      "name": "S03_Bases_Estadisticas.ipynb",
      "provenance": [],
      "collapsed_sections": [],
      "authorship_tag": "ABX9TyOWCgg0OKBGVifQ9GWVyYw/",
      "include_colab_link": true
    },
    "kernelspec": {
      "name": "python3",
      "display_name": "Python 3"
    },
    "language_info": {
      "name": "python"
    }
  },
  "cells": [
    {
      "cell_type": "markdown",
      "metadata": {
        "id": "view-in-github",
        "colab_type": "text"
      },
      "source": [
        "<a href=\"https://colab.research.google.com/github/ssanchezgoe/eafit_isa/blob/main/Nb_Google_Colab/S03_Bases_Estadisticas.ipynb\" target=\"_parent\"><img src=\"https://colab.research.google.com/assets/colab-badge.svg\" alt=\"Open In Colab\"/></a>"
      ]
    },
    {
      "cell_type": "markdown",
      "metadata": {
        "id": "D8XsvcYOlYfz"
      },
      "source": [
        "  <tr>\n",
        "     <th><p><img alt=\"Colaboratory logo\" height=\"80px\" src=\"https://upload.wikimedia.org/wikipedia/commons/thumb/8/83/Sena_Colombia_logo.svg/1045px-Sena_Colombia_logo.svg.png\" align=\"left\" hspace=\"10px\" vspace=\"0px\"></p></th> \n",
        "    <th><p><img alt=\"Colaboratory logo\" height=\"80px\" src=\"https://www.isa.co/wp-content/uploads/2020/11/logo.png\" align=\"right\" hspace=\"10px\" vspace=\"0px\"></p></th>\n",
        "    <th><p><img alt=\"Colaboratory logo\" height=\"80px\" src=\"https://upload.wikimedia.org/wikipedia/commons/b/bf/EAFIT-2015.png\" align=\"left\" hspace=\"10px\" vspace=\"0px\"></p></th> \n",
        "     <th><h1>  Bases de Estadística Básica Aplicada </h1></th>\n",
        "  </tr>\n",
        "\n",
        "\n",
        "\n",
        "\n",
        "\n",
        "\n"
      ]
    },
    {
      "cell_type": "markdown",
      "metadata": {
        "id": "4P9HBHTa2566"
      },
      "source": [
        "# Temática\n",
        "- <a href=\"#manipulacionDatos\">1. Manipulación de datos</a><br>\n",
        " - <a href=\"#formateo\">1.1 Formateo de datos temporales</a><br>\n",
        " - <a href=\"#procesamientoNulos\">1.2 Procesamiento de datos nulos</a><br>\n",
        " - <a href=\"#indexacion\">1.3. Indexación y localización</a><br>\n",
        " - <a href=\"#organizacionDF\">1.4. Organización de dataframes</a><br>\n",
        " - <a href=\"#graficasPandas\">1.5. Graficando desde pandas</a><br>\n",
        " - <a href=\"#operacionesColFil\">1.6. Operaciones con columnas y filas</a><br>\n",
        "  - <a href=\"#agrupacion\"> 1.7. Agrupando dataframes</a><br>\n",
        "  - <a href=\"#renormalizacion\">1.8. Renormalización de datos</a><br>\n",
        "  - <a href=\"#bineado\"> 1.9. Bineado de datos</a><br>\n",
        "  - <a href=\"#concom\"> 1.10. Concatenación y combinación de dataframes</a><br>\n",
        "- <a href=\"#tallpan\">2. Taller Pandas</a><br>"
      ]
    },
    {
      "cell_type": "markdown",
      "metadata": {
        "id": "bcholMKi38Qz"
      },
      "source": [
        "<p><a name=\"manipulacionDatos\"></a></p>\n",
        "\n",
        "# 1. Manipulación de datos"
      ]
    },
    {
      "cell_type": "code",
      "metadata": {
        "id": "cjdALyDr5fQu"
      },
      "source": [
        "import pandas as pd\n",
        "import numpy as np\n",
        "\n",
        "df=pd.read_csv(\"https://raw.githubusercontent.com/diplomado-bigdata-machinelearning-udea/Curso1/master/s03/dataVentas2009.csv\") "
      ],
      "execution_count": null,
      "outputs": []
    },
    {
      "cell_type": "code",
      "metadata": {
        "id": "CFy5EutLf_7U"
      },
      "source": [
        "df.head()"
      ],
      "execution_count": null,
      "outputs": []
    },
    {
      "cell_type": "code",
      "metadata": {
        "id": "8RKPq77HkBJs"
      },
      "source": [
        "df.columns"
      ],
      "execution_count": null,
      "outputs": []
    },
    {
      "cell_type": "code",
      "metadata": {
        "id": "-taPUR91kBVJ"
      },
      "source": [
        "df.shape"
      ],
      "execution_count": null,
      "outputs": []
    },
    {
      "cell_type": "code",
      "metadata": {
        "id": "M1J0ucuGkBXy"
      },
      "source": [
        "df.describe()"
      ],
      "execution_count": null,
      "outputs": []
    },
    {
      "cell_type": "code",
      "metadata": {
        "id": "brvIm-PYySHc"
      },
      "source": [
        "df[\"Producto4\"].unique()  "
      ],
      "execution_count": null,
      "outputs": []
    },
    {
      "cell_type": "markdown",
      "metadata": {
        "id": "N0sYljD4K4UX"
      },
      "source": [
        "<p><a name=\"formateo\"></a></p>\n",
        "\n",
        "## 1.1. Formateo de datos temporales"
      ]
    },
    {
      "cell_type": "markdown",
      "metadata": {
        "id": "HtYNEVV9LC-z"
      },
      "source": [
        "La función `to_datetime` permite convertir los datos a un formato especial de tiempo"
      ]
    },
    {
      "cell_type": "code",
      "metadata": {
        "id": "5XzounFS_4zL"
      },
      "source": [
        "pd.to_datetime(df.Fecha).head()"
      ],
      "execution_count": null,
      "outputs": []
    },
    {
      "cell_type": "code",
      "metadata": {
        "id": "RRD46rmYLvcm"
      },
      "source": [
        "pd.to_datetime(df.Fecha, format='%d/%m/%Y').head()"
      ],
      "execution_count": null,
      "outputs": []
    },
    {
      "cell_type": "code",
      "metadata": {
        "id": "l2i3pwVcAaeP"
      },
      "source": [
        "df.Fecha=pd.to_datetime(df.Fecha)\n",
        "df.set_index('Fecha', inplace=True)\n",
        "df.head()"
      ],
      "execution_count": null,
      "outputs": []
    },
    {
      "cell_type": "markdown",
      "metadata": {
        "id": "L5pKpKPmN8-3"
      },
      "source": [
        "<p><a name=\"procesamientoNulos\"></a></p>\n",
        "\n",
        "## 1.2. Procesamiento de datos nulos"
      ]
    },
    {
      "cell_type": "code",
      "metadata": {
        "id": "fQRvzVfuBKRS"
      },
      "source": [
        "df.isna().head() "
      ],
      "execution_count": null,
      "outputs": []
    },
    {
      "cell_type": "markdown",
      "metadata": {
        "id": "9q_xfpstLYS6"
      },
      "source": [
        " Es lo mismo que df.isnull, ver: https://datascience.stackexchange.com/questions/37878/difference-between-isna-and-isnull-in-pandas"
      ]
    },
    {
      "cell_type": "markdown",
      "metadata": {
        "id": "mvt0PKf1CpsC"
      },
      "source": [
        "Usar el comando `fillna()` para reemplazar los valores nulos con el valor deseado. Puede hacerse en una sola columna `df.columna.fillna()` o en todas al mismo tiempo `df.fillna()` "
      ]
    },
    {
      "cell_type": "code",
      "metadata": {
        "id": "pu5d3XsZoJuJ"
      },
      "source": [
        "# Solo visual\n",
        "df.Producto4.fillna(0)"
      ],
      "execution_count": null,
      "outputs": []
    },
    {
      "cell_type": "code",
      "metadata": {
        "id": "TVtHx9DhymFo"
      },
      "source": [
        "# Cambiando los datos\n",
        "df.Producto4.fillna(df.Producto4.mean(),inplace=True) #Importante inplace"
      ],
      "execution_count": null,
      "outputs": []
    },
    {
      "cell_type": "markdown",
      "metadata": {
        "id": "JozGd7c9Fsso"
      },
      "source": [
        "<p><a name=\"indexacion\"></a></p>\n",
        "\n",
        "## 1.3. Indexación y localización\n",
        "Usando los comandos `iloc` y `loc`  en un dataframe, se puede acceder a los datos con base en las etiquetas y la ubicación respectivamente "
      ]
    },
    {
      "cell_type": "code",
      "metadata": {
        "id": "6ozNIUigzLgG"
      },
      "source": [
        "df.iloc[100:110]"
      ],
      "execution_count": null,
      "outputs": []
    },
    {
      "cell_type": "markdown",
      "metadata": {
        "id": "xQ3ai7KcPKdA"
      },
      "source": [
        "Indexación para un subconjunto de columnas"
      ]
    },
    {
      "cell_type": "code",
      "metadata": {
        "id": "Vy9_2BNyPJPU"
      },
      "source": [
        "df[['Producto1','Producto4']].iloc[100:110]"
      ],
      "execution_count": null,
      "outputs": []
    },
    {
      "cell_type": "code",
      "metadata": {
        "id": "UZwfvVR1yVoH"
      },
      "source": [
        "df.iloc[:,1:3]"
      ],
      "execution_count": null,
      "outputs": []
    },
    {
      "cell_type": "code",
      "metadata": {
        "id": "_-TPOca3zOHd"
      },
      "source": [
        "df.loc[\"2009-10-01\":\"2009-10-10\"]"
      ],
      "execution_count": null,
      "outputs": []
    },
    {
      "cell_type": "markdown",
      "metadata": {
        "id": "ELqP9yEhg1Tb"
      },
      "source": [
        "Parar reasignar un valor de dataframe, simplemente se debe saber la localización, ya sea por indice o por etiqueta y usar el operador de asignación `=`"
      ]
    },
    {
      "cell_type": "code",
      "metadata": {
        "id": "y3iwyTO2gZhD"
      },
      "source": [
        "df.iloc[109,0]=1000"
      ],
      "execution_count": null,
      "outputs": []
    },
    {
      "cell_type": "code",
      "metadata": {
        "id": "JjRmd-N3hVqZ"
      },
      "source": [
        "df.loc['2009-04-19','Producto1']=999"
      ],
      "execution_count": null,
      "outputs": []
    },
    {
      "cell_type": "markdown",
      "metadata": {
        "id": "rSN2AyoUhukD"
      },
      "source": [
        "Validemos la re-asignación de los valores"
      ]
    },
    {
      "cell_type": "code",
      "metadata": {
        "id": "ED45O4mPhiBG"
      },
      "source": [
        "df[['Producto1']].iloc[108:110]"
      ],
      "execution_count": null,
      "outputs": []
    },
    {
      "cell_type": "markdown",
      "metadata": {
        "id": "ZkASh8amHAZJ"
      },
      "source": [
        "<p><a name=\"organizacionDF\"></a></p>\n",
        "\n",
        "## 1.4. Organización de dataframes\n",
        "El método `sort_values` permite organizar los dataframes con base a los valores de las columnas o las filas"
      ]
    },
    {
      "cell_type": "code",
      "metadata": {
        "id": "mH5XUssqzRTP"
      },
      "source": [
        "df.sort_values(by=\"Producto1\").head()"
      ],
      "execution_count": null,
      "outputs": []
    },
    {
      "cell_type": "markdown",
      "metadata": {
        "id": "hAo8K_5pzjjA"
      },
      "source": [
        "<p><a name=\"graficasPandas\"></a></p>\n",
        "\n",
        "## 1.5. Graficando desde pandas\n",
        "Pandas permite realizar algunas gráficas directamente con el comando `DataFrame.plot()`.   "
      ]
    },
    {
      "cell_type": "code",
      "metadata": {
        "id": "s3PyHmNH02_H"
      },
      "source": [
        "df.Producto1.plot(figsize=(15,3))"
      ],
      "execution_count": null,
      "outputs": []
    },
    {
      "cell_type": "code",
      "metadata": {
        "id": "sGFfkAxpzWnJ"
      },
      "source": [
        "df.plot(figsize=(15,3))"
      ],
      "execution_count": null,
      "outputs": []
    },
    {
      "cell_type": "markdown",
      "metadata": {
        "id": "FbXvkQgdinjx"
      },
      "source": [
        "Además de gráficos de línea, pandas tiene otro tipo de gráficos los cuales se puede usar con el argumento `kind` dentro del método DataFrame.plot(). Los otro gráficos disponibles son:\n",
        "\n",
        "* `'bar'` or `'barh'` for bar plots\n",
        "* `'hist'` for histogram\n",
        "* `'box'` for boxplot\n",
        "* `'kde'` or `'density'` for density plots\n",
        "* ‘`'area'` for area plots\n",
        "* `'scatter'` for scatter plots\n",
        "* `'hexbin'` for hexagonal bin plots\n",
        "* `'pie'` for pie plots"
      ]
    },
    {
      "cell_type": "code",
      "metadata": {
        "id": "V0ftRiDyoG2_"
      },
      "source": [
        "df.Producto1.plot(kind='hist')"
      ],
      "execution_count": null,
      "outputs": []
    },
    {
      "cell_type": "code",
      "metadata": {
        "id": "0xC0aaJKbKUW"
      },
      "source": [
        "df.hist(column='Producto1')"
      ],
      "execution_count": null,
      "outputs": []
    },
    {
      "cell_type": "markdown",
      "metadata": {
        "id": "f_22rRw1W3kL"
      },
      "source": [
        "<p><a name=\"operacionesColFil\"></a></p>\n",
        "\n",
        "## 1.6. Operaciones con columnas y filas\n",
        "La función `apply` regresa algún valor después de aplicarle una función a cada columna/fila del dataframe. \n"
      ]
    },
    {
      "cell_type": "code",
      "metadata": {
        "id": "eCyZEb3zW2r0"
      },
      "source": [
        "df['Producto3sqrt']=df.Producto3.apply(np.sqrt)"
      ],
      "execution_count": null,
      "outputs": []
    },
    {
      "cell_type": "code",
      "metadata": {
        "id": "yUNmqGbsYRD5"
      },
      "source": [
        "df.tail()"
      ],
      "execution_count": null,
      "outputs": []
    },
    {
      "cell_type": "code",
      "metadata": {
        "id": "i3LBg-iZYbxY"
      },
      "source": [
        "df.apply(np.sum, axis=0)"
      ],
      "execution_count": null,
      "outputs": []
    },
    {
      "cell_type": "code",
      "metadata": {
        "id": "kw2hTTsiolEn"
      },
      "source": [
        "df.apply(np.sum, axis=0).plot(kind='pie')"
      ],
      "execution_count": null,
      "outputs": []
    },
    {
      "cell_type": "markdown",
      "metadata": {
        "id": "ssS9xwPYz-fW"
      },
      "source": [
        "<p><a name=\"agrupacion\"></a></p>\n",
        "\n",
        "## 1.7. Agrupando dataframes\n",
        "El comando `groupby` permite agrupar y generar calculos y operaciónes sobre los valores agrupados."
      ]
    },
    {
      "cell_type": "code",
      "metadata": {
        "id": "Xyw-6Pzw0H6O"
      },
      "source": [
        "df[\"month\"] = [i.month for i in df.index]\n",
        "df.head()"
      ],
      "execution_count": null,
      "outputs": []
    },
    {
      "cell_type": "code",
      "metadata": {
        "id": "aRAVt8rUzpLY"
      },
      "source": [
        "df.groupby(\"month\").max()"
      ],
      "execution_count": null,
      "outputs": []
    },
    {
      "cell_type": "code",
      "metadata": {
        "id": "YzsSLl_hz9LB"
      },
      "source": [
        "df.groupby(\"month\")[\"Producto1\"].count()"
      ],
      "execution_count": null,
      "outputs": []
    },
    {
      "cell_type": "code",
      "metadata": {
        "id": "UFkYHBpIEV2t"
      },
      "source": [
        "df2 = pd.DataFrame({\"Person\": [\"John\", \"Myla\", \"Lewis\", \"John\", \"Myla\", \"Lewis\", \"John\", \"Myla\"], \"Age\": [24, 55, 21, 24, 26, 43, 64, 55]})\n",
        "df2.head(8)"
      ],
      "execution_count": null,
      "outputs": []
    },
    {
      "cell_type": "code",
      "metadata": {
        "id": "71xLKPMAAsM3"
      },
      "source": [
        "# Agrupar por persona y aplicar \"min\" a \"Age\"\n",
        "df2.groupby(\"Person\").Age.agg(\"min\")             \n",
        "#df2.groupby(\"Person\").Age.agg([\"min\"])\n"
      ],
      "execution_count": null,
      "outputs": []
    },
    {
      "cell_type": "code",
      "metadata": {
        "id": "mlRSIjfxGEkG"
      },
      "source": [
        "# Agrupar por persona y edad y aplicar \"count\" a \"Age\"\n",
        "df2.groupby([\"Person\",\"Age\"]).agg({\"Age\":\"count\"})"
      ],
      "execution_count": null,
      "outputs": []
    },
    {
      "cell_type": "code",
      "metadata": {
        "id": "98rgSQOcWudL"
      },
      "source": [
        "# frecuencia de las edades\n",
        "df2['Age'].value_counts()\n",
        "#df2[\"Age\"].value_counts(Normlize=True)"
      ],
      "execution_count": null,
      "outputs": []
    },
    {
      "cell_type": "markdown",
      "metadata": {
        "id": "Ai38-726bxxc"
      },
      "source": [
        "<p><a name=\"renormalizacion\"></a></p>\n",
        "\n",
        "## 1.8. Normalización de datos\n",
        "En algunos algoritmos de Machine Learning (ML) es importante tener los datos normalizados. Para ellos la función `scale` se encarga de normalizar los datos quedando con una media cercana a 0 y una desviación estandar de 1"
      ]
    },
    {
      "cell_type": "code",
      "metadata": {
        "id": "NHh3nEUv0NjS"
      },
      "source": [
        "from sklearn import preprocessing"
      ],
      "execution_count": null,
      "outputs": []
    },
    {
      "cell_type": "code",
      "metadata": {
        "id": "NbgMxdzfesFh"
      },
      "source": [
        "scaled=preprocessing.scale(df[['Producto4', 'Producto3sqrt']])"
      ],
      "execution_count": null,
      "outputs": []
    },
    {
      "cell_type": "code",
      "metadata": {
        "id": "IPE1WrsecqgP"
      },
      "source": [
        "scaled"
      ],
      "execution_count": null,
      "outputs": []
    },
    {
      "cell_type": "code",
      "metadata": {
        "id": "3VGOA0sEcrae"
      },
      "source": [
        "scaled.mean(axis=0)"
      ],
      "execution_count": null,
      "outputs": []
    },
    {
      "cell_type": "code",
      "metadata": {
        "id": "TCYzJoeFdH9G"
      },
      "source": [
        "scaled.std(axis=0)"
      ],
      "execution_count": null,
      "outputs": []
    },
    {
      "cell_type": "markdown",
      "metadata": {
        "id": "nrfjXjHSebwk"
      },
      "source": [
        "<p><a name=\"bineado\"></a></p>\n",
        "\n",
        "## 1.9. Bineado de datos\n",
        "La función `cut` nos permite separar los datos en bloques (bins)"
      ]
    },
    {
      "cell_type": "code",
      "metadata": {
        "id": "tO7iwmdJfTTy"
      },
      "source": [
        "df.Producto1[:10]"
      ],
      "execution_count": null,
      "outputs": []
    },
    {
      "cell_type": "markdown",
      "metadata": {
        "id": "fZcu4dM8qILP"
      },
      "source": [
        "Se puede seleccionar el número de bins deseado y el programa obtiene la distribución óptima de los mismos"
      ]
    },
    {
      "cell_type": "code",
      "metadata": {
        "id": "Y5_LO951ega1"
      },
      "source": [
        "pd.cut(df.Producto1[:10], bins=3)"
      ],
      "execution_count": null,
      "outputs": []
    },
    {
      "cell_type": "markdown",
      "metadata": {
        "id": "tR3M7j8fqRTG"
      },
      "source": [
        "Se puede seleccionar los intervalos de los bins deseados"
      ]
    },
    {
      "cell_type": "code",
      "metadata": {
        "id": "1OSXunBefNjG"
      },
      "source": [
        "pd.cut(df.Producto1[:10],bins=[0,100,200,300])"
      ],
      "execution_count": null,
      "outputs": []
    },
    {
      "cell_type": "markdown",
      "metadata": {
        "id": "J8E-DXXWrn3v"
      },
      "source": [
        "Se pueden poner etiquetas sobre los bins"
      ]
    },
    {
      "cell_type": "code",
      "metadata": {
        "id": "pZwv60b1rm-E"
      },
      "source": [
        "pd.cut(df.Producto1[:10],bins=3, labels=['bajo','medio','alto'])"
      ],
      "execution_count": null,
      "outputs": []
    },
    {
      "cell_type": "markdown",
      "metadata": {
        "id": "fBvOlZqSsMz5"
      },
      "source": [
        "<p><a name=\"concom\"></a></p>\n",
        "\n",
        "## 1.10. Concatenación y combinación de dataframes\n",
        "\n",
        "La concatenación se realiza mediante la función `concat()` y la combinación mediante la función `merge()`"
      ]
    },
    {
      "cell_type": "code",
      "metadata": {
        "id": "kxTLE1_0sL-B"
      },
      "source": [
        "raw_data_1 = {\n",
        "        'subject_id': ['1', '2', '3', '4', '5'],\n",
        "        'first_name': ['Alex', 'Amy', 'Allen', 'Alice', 'Ayoung'], \n",
        "        'last_name': ['Anderson', 'Ackerman', 'Ali', 'Aoni', 'Atiches']}\n",
        "\n",
        "raw_data_2 = {\n",
        "        'subject_id': ['4', '5', '6', '7', '8'],\n",
        "        'first_name': ['Billy', 'Brian', 'Bran', 'Bryce', 'Betty'], \n",
        "        'last_name': ['Bonder', 'Black', 'Balwner', 'Brice', 'Btisan']}\n",
        "\n",
        "raw_data_3 = {\n",
        "        'subject_id': ['1', '2', '3', '4', '5', '7', '8', '9', '10', '11'],\n",
        "        'test_id': [51, 15, 15, 61, 16, 14, 15, 1, 61, 16]}\n",
        "\n",
        "data1 = pd.DataFrame(raw_data_1, columns = ['subject_id', 'first_name', 'last_name'])\n",
        "data2 = pd.DataFrame(raw_data_2, columns = ['subject_id', 'first_name', 'last_name'])\n",
        "data3 = pd.DataFrame(raw_data_3, columns = ['subject_id','test_id'])"
      ],
      "execution_count": null,
      "outputs": []
    },
    {
      "cell_type": "code",
      "metadata": {
        "id": "vbHWFPRRsmNI"
      },
      "source": [
        "# Concatenar por filas\n",
        "all_data = pd.concat([data1, data2])\n",
        "all_data"
      ],
      "execution_count": null,
      "outputs": []
    },
    {
      "cell_type": "code",
      "metadata": {
        "id": "4koHlxR0tA4l"
      },
      "source": [
        "# Concatenar por columnas\n",
        "all_data_col = pd.concat([data1, data2], axis = 1)\n",
        "all_data_col"
      ],
      "execution_count": null,
      "outputs": []
    },
    {
      "cell_type": "code",
      "metadata": {
        "id": "RGbNfQvis92d"
      },
      "source": [
        "# Combinar all_data y data3 a lo largo del valor de subject_id\n",
        "pd.merge(all_data, data3, on='subject_id')"
      ],
      "execution_count": null,
      "outputs": []
    },
    {
      "cell_type": "code",
      "metadata": {
        "id": "h7UW_E-BthxT"
      },
      "source": [
        "# Combinar solo los datos que tienen el mismo 'subject_id' en data1 y data2 (interseccion)\n",
        "pd.merge(data1, data2, on='subject_id', how='inner')"
      ],
      "execution_count": null,
      "outputs": []
    },
    {
      "cell_type": "code",
      "metadata": {
        "id": "BQqrG4TitxYg"
      },
      "source": [
        "# Combinar solo los datos que tienen el mismo 'subject_id' en data1 y data2 (union)\n",
        "pd.merge(data1, data2, on='subject_id', how='outer')\n",
        "\n"
      ],
      "execution_count": null,
      "outputs": []
    },
    {
      "cell_type": "markdown",
      "metadata": {
        "id": "O2ehaErhoIav"
      },
      "source": [
        "<p><a name=\"tallpan\"></a></p>\n",
        "\n",
        "## 3. Taller Pandas"
      ]
    },
    {
      "cell_type": "markdown",
      "metadata": {
        "id": "yz3mwAY5mdCi"
      },
      "source": [
        "### Ejercicio 1 \n",
        "\n",
        "Cargue el dataset provisto en la dirección 'https://pynative.com/wp-content/uploads/2019/01/company_sales_data.csv'  grafique la ganancia total (total_profit) para todos los meses. La gráfica debe tener las siguientes propiedades:\n",
        "\n",
        "* El estilo de línea punteado y de color rojo \n",
        "* Mostrar la legenda (legend) en la parte inferior derecha\n",
        "* X label name = Month Number\n",
        "* Y label name = Profits in dollars\n",
        "* Título : Company sales data of last year\n",
        "* Los markers deben ser circulares y de color negro\n",
        "* El grosor de la línea debe ser 3\n",
        "\n",
        "Solución esperada:\n",
        "<p><img  height=\"260px\" src=\"https://pynative.com/wp-content/uploads/2019/01/matplotlib_and_pandas_exercise_2_plot_style_properties-768x512.png\" align=\"center\" hspace=\"10px\" vspace=\"0px\"></p>"
      ]
    },
    {
      "cell_type": "markdown",
      "metadata": {
        "id": "FmT4jjbmmqFq"
      },
      "source": [
        "Para ver la solución haga double-click <b>aquí</b>.\n",
        "<!--\n",
        "\n",
        "import pandas as pd\n",
        "import matplotlib.pyplot as plt  \n",
        "df = pd.read_csv('https://pynative.com/wp-content/uploads/2019/01/company_sales_data.csv')\n",
        "profitList = df ['total_profit'].tolist()\n",
        "monthList  = df ['month_number'].tolist()\n",
        "plt.plot(monthList, profitList, label = 'Profit data of last year', \n",
        "      color='r', marker='o', markerfacecolor='k', \n",
        "      linestyle='--', linewidth=3)\n",
        "      \n",
        "plt.xlabel('Month Number')\n",
        "plt.ylabel('Profit in dollar')\n",
        "plt.legend(loc='lower right')\n",
        "plt.title('Company Sales data of last year')\n",
        "plt.xticks(monthList)\n",
        "plt.yticks([100000, 200000, 300000, 400000, 500000])\n",
        "plt.show()\n",
        "-->"
      ]
    },
    {
      "cell_type": "markdown",
      "metadata": {
        "id": "es-m65sEpb7b"
      },
      "source": [
        "### Ejercicio 2\n",
        "\n",
        "Dataset: https://raw.githubusercontent.com/justmarkham/DAT8/master/data/u.user\n",
        "\n",
        "1. Importar el dataset, asignarlo a una variable llamada *users* y usar el *user_id* como índice.\n",
        "2. ¿Cuál es el número de observaciones y columnas en el dataset? \n",
        "3. Mostrar el nombre de las columnas y el tipo de dato que contiene.\n",
        "4. Mostrar la indexación del dataset.\n",
        "5. ¿Cuántas ocupaciones diferentes hay en este conjunto de datos?\n",
        "6. ¿Cuál es la ocupación más frecuente?\n",
        "7. ¿Cuál es la edad media de los usuarios?\n",
        "8. ¿Cuál es la edad con menos ocurrencia?\n"
      ]
    },
    {
      "cell_type": "markdown",
      "metadata": {
        "id": "Wuwt_G1GpbN_"
      },
      "source": [
        "Para ver la solución haga double-click <b>aquí</b>.\n",
        "<!--\n",
        "\n",
        "1. \n",
        "\n",
        "import pandas as pd\n",
        "\n",
        "users = pd.read_csv('https://raw.githubusercontent.com/justmarkham/DAT8/master/data/u.user', delimiter='|', index_col='user_id')\n",
        "users.head()\n",
        "  \n",
        "2.\n",
        "print(\"Número de observaciones:\",users.shape[0])\n",
        "print(\"Número de columnas: \",users.shape[1])\n",
        "\n",
        "3.\n",
        "print(\"Columnas: \",users.columns)\n",
        "print(\"Tipo de datos: \\n\",users.dtypes)\n",
        "\n",
        "4.\n",
        "print(\"Indexación: \",users.index)\n",
        "\n",
        "5.\n",
        "print(\"Número de ocupaciones diferentes:\",users.occupation.nunique())\n",
        "\n",
        "6.\n",
        "print(\"Ocupaciones más frecuentes:\\n\",users.occupation.value_counts().head())\n",
        "\n",
        "7.\n",
        "print(\"Edad media de los usuarios:\",round(users.age.mean()))\n",
        "\n",
        "8.\n",
        "print(\"Edades de menos ocurrencia:\\n\",users.age.value_counts().tail(10))\n",
        "\n",
        "-->"
      ]
    },
    {
      "cell_type": "markdown",
      "metadata": {
        "id": "pCX-t7lsuSVv"
      },
      "source": [
        "### Ejercicio 3"
      ]
    },
    {
      "cell_type": "markdown",
      "metadata": {
        "id": "brSEH5NbyWwA"
      },
      "source": [
        "Diccionario dado:\n",
        "\n",
        "raw_data = {'regiment': ['Nighthawks', 'Nighthawks', 'Nighthawks', 'Nighthawks', 'Dragoons', 'Dragoons', 'Dragoons', 'Dragoons', 'Scouts', 'Scouts', 'Scouts', 'Scouts'],\n",
        "            'company': ['1st', '1st', '2nd', '2nd', '1st', '1st', '2nd', '2nd','1st', '1st', '2nd', '2nd'],\n",
        "            'deaths': [523, 52, 25, 616, 43, 234, 523, 62, 62, 73, 37, 35],\n",
        "            'battles': [5, 42, 2, 2, 4, 7, 8, 3, 4, 7, 8, 9],\n",
        "            'size': [1045, 957, 1099, 1400, 1592, 1006, 987, 849, 973, 1005, 1099, 1523],\n",
        "            'veterans': [1, 5, 62, 26, 73, 37, 949, 48, 48, 435, 63, 345],\n",
        "            'readiness': [1, 2, 3, 3, 2, 1, 2, 3, 2, 1, 2, 3],\n",
        "            'armored': [1, 0, 1, 1, 0, 1, 0, 1, 0, 0, 1, 1],\n",
        "            'deserters': [4, 24, 31, 2, 3, 4, 24, 31, 2, 3, 2, 3],\n",
        "            'origin': ['Arizona', 'California', 'Texas', 'Florida', 'Maine', 'Iowa', 'Alaska', 'Washington', 'Oregon', 'Wyoming', 'Louisana', 'Georgia']}\n",
        "            \n",
        "1. Crea un DataFrame llamado *army* a partir del diccionario dado \n",
        "\n",
        "(No olvide incluir los nombres de las columnas en el orden presentado en el diccionario ('regimen', 'company', ...) para que el orden del índice de la columna sea coherente con las soluciones. Si se omite, Pandas ordenará las columnas alfabéticamente.\n",
        "\n",
        "2. Establezca la columna 'origin' como índice del dataset.\n",
        "3. Imprima las columnas 'veterans' y 'deaths'\n",
        "4. Seleccione las columnas 'deaths', 'size' y 'deserters' de Maine a Alaska.\n",
        "5. Seleccione la tercera columna hasta la séptima columna.\n",
        "6. Seleccione las filas donde *deaths* sea mayor que 50.\n",
        "7. Seleccione las filas donde *deaths* sea mayor que 500 o menor que 50.\n",
        "8. Selecciona todos los *regiments* no nombrados *Dragoons*.\n",
        "9. Seleccione la tercera celda en la fila llamada *Arizona*\n",
        "10. Seleccione la tercera celda en la columna llamada *deaths*\n"
      ]
    },
    {
      "cell_type": "markdown",
      "metadata": {
        "id": "gTBNeJy0yQFB"
      },
      "source": [
        "Para ver la solución haga double-click <b>aquí</b>.\n",
        "<!--\n",
        "1.\n",
        "raw_data = {'regiment': ['Nighthawks', 'Nighthawks', 'Nighthawks', 'Nighthawks', 'Dragoons', 'Dragoons', 'Dragoons', 'Dragoons', 'Scouts', 'Scouts', 'Scouts', 'Scouts'], 'company': ['1st', '1st', '2nd', '2nd', '1st', '1st', '2nd', '2nd','1st', '1st', '2nd', '2nd'], 'deaths': [523, 52, 25, 616, 43, 234, 523, 62, 62, 73, 37, 35], 'battles': [5, 42, 2, 2, 4, 7, 8, 3, 4, 7, 8, 9], 'size': [1045, 957, 1099, 1400, 1592, 1006, 987, 849, 973, 1005, 1099, 1523], 'veterans': [1, 5, 62, 26, 73, 37, 949, 48, 48, 435, 63, 345], 'readiness': [1, 2, 3, 3, 2, 1, 2, 3, 2, 1, 2, 3], 'armored': [1, 0, 1, 1, 0, 1, 0, 1, 0, 0, 1, 1], 'deserters': [4, 24, 31, 2, 3, 4, 24, 31, 2, 3, 2, 3], 'origin': ['Arizona', 'California', 'Texas', 'Florida', 'Maine', 'Iowa', 'Alaska', 'Washington', 'Oregon', 'Wyoming', 'Louisana', 'Georgia']}\n",
        "\n",
        "army = pd.DataFrame(raw_data, columns = ['regiment', 'company', 'deaths', 'battles', 'size', 'veterans', 'readiness', 'armored', 'deserters', 'origin'])\n",
        "\n",
        "army.head()\n",
        "\n",
        "2.\n",
        "army = army.set_index(\"origin\")\n",
        "army.head()\n",
        "\n",
        "3. \n",
        "army[['veterans', 'deaths']]\n",
        "\n",
        "4.\n",
        "army.loc[['Maine','Alaska'] , [\"deaths\",\"size\",\"deserters\"]]\n",
        "\n",
        "5.\n",
        "army.iloc[: , 4:7]\n",
        "\n",
        "6.\n",
        "army[army['deaths'] > 50]\n",
        "\n",
        "7. \n",
        "army[(army['deaths'] > 500) | (army['deaths'] < 50)]\n",
        "\n",
        "8.\n",
        "army[(army['regiment'] != 'Dragoons')]\n",
        "\n",
        "9.\n",
        "army.loc[['Arizona'], ['deaths']]\n",
        "\n",
        "#O\n",
        "\n",
        "#army.iloc[[0]\n",
        "\n",
        "10.\n",
        "army.loc['Texas', 'deaths']\n",
        "\n",
        "#O\n",
        "\n",
        "#army.iloc[[2]\n",
        "\n",
        "\n",
        "-->"
      ]
    },
    {
      "cell_type": "markdown",
      "metadata": {
        "id": "2uqS7sNd8_Fk"
      },
      "source": [
        "### Ejercicio 4\n",
        "\n",
        "Dataset: https://raw.githubusercontent.com/justmarkham/DAT8/master/data/u.user\n",
        "\n",
        "1.  Importar el dataset, asignarlo a una variable llamada *users* y usar el *user_id* como índice.\n",
        "2. ¿Cuál es la edad media por ocupación?\n",
        "3. Descubra la proporción de hombres por ocupación y clasifíquela de mayor a menor (cree una columna).\n",
        "4. Para cada ocupación calcule las edades mínimas y máximas.\n",
        "5. Para cada combinación de ocupación y género calcule la edad media.\n",
        "6. Para cada ocupación muestre el porcentaje de mujeres y hombres."
      ]
    },
    {
      "cell_type": "markdown",
      "metadata": {
        "id": "TVbi8B-a-gZ9"
      },
      "source": [
        "Para ver la solución haga double-click <b>aquí</b>.\n",
        "<!--\n",
        "\n",
        "1. \n",
        "\n",
        "import pandas as pd\n",
        "\n",
        "users = pd.read_csv('https://raw.githubusercontent.com/justmarkham/DAT8/master/data/u.user', delimiter='|', index_col='user_id')\n",
        "users.head()\n",
        "  \n",
        "2.\n",
        "users.groupby('occupation').age.mean()\n",
        "\n",
        "3.\n",
        "# funcion que mapea el genero a un numero\n",
        "def gender_to_numeric(x):\n",
        "    if x == 'M':\n",
        "        return 1\n",
        "    if x == 'F':\n",
        "        return 0\n",
        "\n",
        "# aplica la funcion a la columna genero y saca el porcentaje de hombres por ocupacion\n",
        "users['gender_n'] = users['gender'].apply(gender_to_numeric)\n",
        "\n",
        "# se \n",
        "a = users.groupby('occupation').gender_n.sum() / users.occupation.value_counts() * 100 \n",
        "\n",
        "# ordenamiento de mayor a menor\n",
        "a.sort_values(ascending = False)\n",
        "\n",
        "4.\n",
        "users.groupby('occupation').age.agg(['min', 'max'])\n",
        "\n",
        "5.\n",
        "users.groupby(['occupation', 'gender']).age.mean()\n",
        "\n",
        "6.\n",
        "# crea un dataframe y aplica \"count\" al genero\n",
        "gender_ocup = users.groupby(['occupation', 'gender']).agg({'gender': 'count'})\n",
        "\n",
        "# crea un dataframe y aplica \"count\" para cada ocupacion\n",
        "occup_count = users.groupby(['occupation']).agg('count')\n",
        "\n",
        "# divida gender_ocup por occup_count y multiplique por 100\n",
        "occup_gender = gender_ocup.div(occup_count, level = \"occupation\") * 100\n",
        "\n",
        "# mostrar todas las filas de la columna genero\n",
        "occup_gender.loc[: , 'gender']\n",
        "\n",
        "-->"
      ]
    }
  ]
}