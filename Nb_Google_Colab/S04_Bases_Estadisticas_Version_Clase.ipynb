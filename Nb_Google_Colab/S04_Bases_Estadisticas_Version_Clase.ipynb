{
  "nbformat": 4,
  "nbformat_minor": 0,
  "metadata": {
    "colab": {
      "name": "S04_Bases_Estadisticas_Version_Clase.ipynb",
      "provenance": [],
      "collapsed_sections": [],
      "include_colab_link": true
    },
    "kernelspec": {
      "name": "python3",
      "display_name": "Python 3"
    },
    "language_info": {
      "name": "python"
    }
  },
  "cells": [
    {
      "cell_type": "markdown",
      "metadata": {
        "id": "view-in-github",
        "colab_type": "text"
      },
      "source": [
        "<a href=\"https://colab.research.google.com/github/ssanchezgoe/eafit_isa/blob/main/Nb_Google_Colab/S04_Bases_Estadisticas_Version_Clase.ipynb\" target=\"_parent\"><img src=\"https://colab.research.google.com/assets/colab-badge.svg\" alt=\"Open In Colab\"/></a>"
      ]
    },
    {
      "cell_type": "markdown",
      "metadata": {
        "id": "D8XsvcYOlYfz"
      },
      "source": [
        "  <tr>\n",
        "     <th><p><img alt=\"Colaboratory logo\" height=\"80px\" src=\"https://upload.wikimedia.org/wikipedia/commons/thumb/8/83/Sena_Colombia_logo.svg/1045px-Sena_Colombia_logo.svg.png\" align=\"left\" hspace=\"10px\" vspace=\"0px\"></p></th> \n",
        "    <th><p><img alt=\"Colaboratory logo\" height=\"80px\" src=\"https://www.isa.co/wp-content/uploads/2020/11/logo.png\" align=\"right\" hspace=\"10px\" vspace=\"0px\"></p></th>\n",
        "    <th><p><img alt=\"Colaboratory logo\" height=\"80px\" src=\"https://upload.wikimedia.org/wikipedia/commons/b/bf/EAFIT-2015.png\" align=\"left\" hspace=\"10px\" vspace=\"0px\"></p></th> \n",
        "     <th><h1>  Bases de Estadística Básica Aplicada </h1></th>\n",
        "  </tr>\n",
        "\n",
        "\n",
        "\n",
        "\n",
        "\n",
        "\n"
      ]
    },
    {
      "cell_type": "markdown",
      "metadata": {
        "id": "NxliSzo0mxeq"
      },
      "source": [
        "<p><a name=\"contents\"></a></p>\n",
        "\n",
        "# Contenido Sesión: Análisis exploratorio.\n",
        "\n",
        "- <a href=\"#intro\">1. Introducción</a><br>\n",
        "- <a href=\"#eStat\">2. Estadística descriptiva.</a><br>\n",
        "    - <a href=\"#des_count\">2.1. Métodos <code>.describe()</code> y <code>value_count()</code>.</a><br>\n",
        "    - <a href=\"#bPlot\">2.2. Box Plots.</a><br>\n",
        "    - <a href=\"#sPlot\">2.3. Scatter Plots.</a><br>\n",
        "    - <a href=\"#hmaps\">2.1. Groupby y Heatmaps.</a><br>\n",
        "- <a href=#corr> 3. Correlación\n",
        "- <a href=\"#anova2\">4. ANOVA </a><br>\n",
        "  - <a href=\"#single_anova\">4.1. Introducción y ANOVA ONE Way</a><br> \n",
        "  - <a href=\"#oneway\">4.2. One-way ANOVA Varios grupos (Opcional)</a><br>"
      ]
    },
    {
      "cell_type": "markdown",
      "metadata": {
        "id": "NdK13yJ5mxeu"
      },
      "source": [
        "<p><a name=\"intro\"></a></p>\n",
        "\n",
        "## Introducción:\n",
        "\n",
        "El análisis exploratorio de datos (EDA del inglés Exploratory Data Analysis) se realiza con el fin de:\n",
        "\n",
        "<ol>\n",
        "  <li>Resumir las principales características del conjunto de datos.</li>\n",
        "  <li>Entender mejor el conjunto de datos que se está tratando.</li>\n",
        "  <li>Establecer relaciones entre variables.</li>\n",
        "  <li>Determinar si una variables es un buen predictor de una variable blanco.</li>\n",
        "  <li>Extraer las variables más importantes.</li>\n",
        "  <li>Análisis de componentes principales (PCA).</li>\n",
        "  <li>Análisis de componentes independientes (ICA).</li>\n",
        "</ol>\n",
        "\n",
        "**Objetivo:** Determinar las características que más impactan en lo que se busca establecer.\n",
        "\n",
        "Para abordar el análisis exploratorio de datos, es útil aplicar las siguientes técnicas que abordaremos en el presente notebook:\n",
        "\n",
        "<ol>\n",
        "  <li> Estadística descriptiva</li>\n",
        "  <li> Agrupamiento: Método GroupBy()</li>  \n",
        "  <li> Correlación de Pearson</li>\n",
        "  <li> Mapas de correlación</li>\n",
        "  <li> Análisis de variaciones: Anova</li>\n",
        "</ol>\n",
        "\n",
        "En primer lugar, carguemos el dataset de caractarísticas de carros que vamos a analizar."
      ]
    },
    {
      "cell_type": "code",
      "metadata": {
        "id": "s73XW0NomFTr"
      },
      "source": [
        "import pandas as pd # Librería que tiene como objeto principal los dataframes\n",
        "import numpy as np # Librería que tiene como objeto principal los arrays\n",
        "import matplotlib.pyplot as plt"
      ],
      "execution_count": null,
      "outputs": []
    },
    {
      "cell_type": "code",
      "metadata": {
        "id": "d6toM2ynmxez"
      },
      "source": [
        "archivo = 'https://s3-api.us-geo.objectstorage.softlayer.net/cf-courses-data/CognitiveClass/DA0101EN/automobileEDA.csv'\n",
        "df = pd.read_csv(archivo)"
      ],
      "execution_count": null,
      "outputs": []
    },
    {
      "cell_type": "code",
      "metadata": {
        "id": "0ELSmHcFmxfE"
      },
      "source": [
        "#Apariencia de la tabla de datos\n",
        "df.head()"
      ],
      "execution_count": null,
      "outputs": []
    },
    {
      "cell_type": "code",
      "metadata": {
        "id": "hikb4pHKpgOC"
      },
      "source": [
        "df['engine-type'].replace({'dohc':np.nan})"
      ],
      "execution_count": null,
      "outputs": []
    },
    {
      "cell_type": "code",
      "metadata": {
        "id": "MADpouOHU3bq"
      },
      "source": [
        "True+True+False"
      ],
      "execution_count": null,
      "outputs": []
    },
    {
      "cell_type": "code",
      "metadata": {
        "id": "mfLyOApLmxfT"
      },
      "source": [
        "df.isna().sum()"
      ],
      "execution_count": null,
      "outputs": []
    },
    {
      "cell_type": "code",
      "metadata": {
        "id": "D0kUa8f6oO8x"
      },
      "source": [
        "df['horsepower-binned'].value_counts()"
      ],
      "execution_count": null,
      "outputs": []
    },
    {
      "cell_type": "code",
      "metadata": {
        "id": "SS7_JQS4okbr"
      },
      "source": [
        "df.groupby('horsepower-binned')['horsepower'].count()"
      ],
      "execution_count": null,
      "outputs": []
    },
    {
      "cell_type": "markdown",
      "metadata": {
        "id": "GqkVfIk_VGsG"
      },
      "source": [
        "Dropeo de los datos faltantes en el dataframe"
      ]
    },
    {
      "cell_type": "code",
      "metadata": {
        "id": "7ILHbwyoo6l-"
      },
      "source": [
        "df.dropna().isnull().sum()"
      ],
      "execution_count": null,
      "outputs": []
    },
    {
      "cell_type": "code",
      "metadata": {
        "id": "XSRZTT7GVT6x"
      },
      "source": [
        "df['num-of-doors']"
      ],
      "execution_count": null,
      "outputs": []
    },
    {
      "cell_type": "code",
      "metadata": {
        "id": "9Y7Js--amxfh"
      },
      "source": [
        "df.dtypes"
      ],
      "execution_count": null,
      "outputs": []
    },
    {
      "cell_type": "code",
      "metadata": {
        "id": "h8uYAgtZqbHH"
      },
      "source": [
        "df['horsepower-binned'] = df['horsepower-binned'].astype('str')"
      ],
      "execution_count": null,
      "outputs": []
    },
    {
      "cell_type": "code",
      "metadata": {
        "id": "u5OLKBoYVleV"
      },
      "source": [
        "print(df['horsepower-binned'].dtype)"
      ],
      "execution_count": null,
      "outputs": []
    },
    {
      "cell_type": "markdown",
      "metadata": {
        "id": "7-TVAEAtmxfv"
      },
      "source": [
        "<p><a name=\"eStat\"></a></p>\n",
        "\n",
        "## Estadística descriptiva:\n",
        "\n",
        "[[Contenidos]](#contents)\n",
        "\n",
        "Antes de ponernos en la tarea de construir un modelo que pretenda predecir alguna característica del conjunto de datos, es importante realizar una exploración de los datos. La **estadística descriptiva** nos permite explorar los datos con el propósito de hallar las características principales, mediante la implementación de gráficas y el cálculo de algunas variable estadísticas. Para este fín, en Python, podemos hacer uso de:\n",
        "\n",
        "<ol>\n",
        "  <li>Métodos: <code>.describe()</code>, el cual permite obtener un resumen estadístico de las <b>variables numéricas</b> en <code>pandas</code>, o la función <code>.value_counts()</code>, la cual permite contabilizar variables categóricas .</li>\n",
        "    <li>Box plots. </li>\n",
        "    <li>Gráficos de dispersión. </li>\n",
        "</ol>"
      ]
    },
    {
      "cell_type": "markdown",
      "metadata": {
        "id": "HA5hcsZwmxf0"
      },
      "source": [
        "<p><a name=\"des_count\"></a></p>\n",
        "\n",
        "### 2.1 Metodos .describe() y .value_counts()"
      ]
    },
    {
      "cell_type": "code",
      "metadata": {
        "id": "JH0PYYeZrJ7n"
      },
      "source": [
        "df.head()"
      ],
      "execution_count": null,
      "outputs": []
    },
    {
      "cell_type": "code",
      "metadata": {
        "id": "rDP9rVJHVz8B"
      },
      "source": [
        "df.sample(5)"
      ],
      "execution_count": null,
      "outputs": []
    },
    {
      "cell_type": "code",
      "metadata": {
        "id": "MGNmO0Q9mxf4"
      },
      "source": [
        "# Para dar una descripción estadística de variables numéricas:\n",
        "df.describe()"
      ],
      "execution_count": null,
      "outputs": []
    },
    {
      "cell_type": "markdown",
      "metadata": {
        "id": "Trn9gmhrr0N3"
      },
      "source": [
        "**Nota:** Si fuesemos a crear un modelo lineal con todas las variables, convendría normalizarlas. "
      ]
    },
    {
      "cell_type": "markdown",
      "metadata": {
        "id": "2fwQoo2AmxgE"
      },
      "source": [
        "Por ejemplo, la variable \"drive-wheels\" describe la tracción de los vehiculos consignados en la tabla; son variables categóricas que representan:\n",
        "\n",
        "<ol>\n",
        "    <li>fwd - Front Wheel Drive: Tracción delantera.</li>\n",
        "    <li>rwd - Rear Wheel Drive: Tracción Tracera.</li>\n",
        "    <li>4wd - 4 Wheel Drive: Tracción de cuatro ruedas.</li>\n",
        "</ol>\n",
        "\n",
        "Para contabilizar esta variable usamos el método <code>.value_counts()</code>"
      ]
    },
    {
      "cell_type": "code",
      "metadata": {
        "id": "zGMMFBOrmxgH"
      },
      "source": [
        "# Para contabilizar variables categóricas:\n",
        "df[\"drive-wheels\"].value_counts()"
      ],
      "execution_count": null,
      "outputs": []
    },
    {
      "cell_type": "code",
      "metadata": {
        "id": "q8ww-k6l_Jzq"
      },
      "source": [
        "df[\"drive-wheels\"].value_counts().plot(kind = \"pie\", autopct='%1.2f%%')\n",
        "plt.show()"
      ],
      "execution_count": null,
      "outputs": []
    },
    {
      "cell_type": "code",
      "metadata": {
        "id": "ky_5ozy5u6yH"
      },
      "source": [
        "df[\"num-of-doors\"].value_counts().plot(kind = \"pie\", autopct='%1.2f%%')\n",
        "plt.show()"
      ],
      "execution_count": null,
      "outputs": []
    },
    {
      "cell_type": "code",
      "metadata": {
        "id": "7k5Yb84YvfZL"
      },
      "source": [
        "df[\"engine-location\"].value_counts().plot(kind = \"pie\", autopct='%1.2f%%')\n",
        "plt.show()"
      ],
      "execution_count": null,
      "outputs": []
    },
    {
      "cell_type": "markdown",
      "metadata": {
        "id": "gTKY2ky5mxgU"
      },
      "source": [
        "<b>Ejercicio</b>: Guarde el número de cuentas por tipo de tracción en un nuevo DataFrame, renombre la columna a \"value_counts\" y establezca el nombre de los índices como \"drive-wheels\".\n",
        "\n",
        "De doble click <b>aquí</b> para ver la solución:\n",
        "\n",
        "<!-- Respuesta:\n",
        "#Definición del dataFrame\n",
        "drive_wheels_counts = df[\"drive-wheels\"].value_counts().to_frame()\n",
        "# Renombramiento de la columna a value_counts\n",
        "drive_wheels_counts.rename(columns={'drive-wheels':'value_counts'},inplace=True)\n",
        "#Renimbramiento de los índices\n",
        "drive_wheels_counts.index.name='drive_wheels'\n",
        "#Visualización del dataFrame:\n",
        "drive_wheels_counts\n",
        "--->"
      ]
    },
    {
      "cell_type": "code",
      "metadata": {
        "id": "mXt_OkXKtmxe"
      },
      "source": [
        "#Definición del dataFrame\n",
        "drive_wheels_counts = df[\"drive-wheels\"].value_counts().to_frame()\n",
        "drive_wheels_counts"
      ],
      "execution_count": null,
      "outputs": []
    },
    {
      "cell_type": "code",
      "metadata": {
        "id": "vUJYmRpHt4Nq"
      },
      "source": [
        "drive_wheels_counts[['drive-wheels']]"
      ],
      "execution_count": null,
      "outputs": []
    },
    {
      "cell_type": "code",
      "metadata": {
        "id": "MpBqS1z2uPdm"
      },
      "source": [
        "drive_wheels_counts.index.name"
      ],
      "execution_count": null,
      "outputs": []
    },
    {
      "cell_type": "code",
      "metadata": {
        "id": "5-FwcQXnttHj"
      },
      "source": [
        "# Renombramiento de la columna a value_counts\n",
        "drive_wheels_counts = drive_wheels_counts.rename(columns={'drive-wheels':'cuentas'})\n",
        "#Renimbramiento de los índices\n",
        "drive_wheels_counts.index.name='tracción'\n",
        "#Visualización del dataFrame:\n",
        "drive_wheels_counts"
      ],
      "execution_count": null,
      "outputs": []
    },
    {
      "cell_type": "code",
      "metadata": {
        "id": "gskYbj_uuayw"
      },
      "source": [
        "drive_wheels_counts.cuentas"
      ],
      "execution_count": null,
      "outputs": []
    },
    {
      "cell_type": "markdown",
      "metadata": {
        "id": "5XnZpQzZmxgZ"
      },
      "source": [
        "No obstante, esta función también permite contabilizar las variables numéricas. Por ejemplo, \"width\" representa el ancho de los carros:"
      ]
    },
    {
      "cell_type": "code",
      "metadata": {
        "id": "D_KJYpIDmxgd"
      },
      "source": [
        "df[\"width\"].value_counts()"
      ],
      "execution_count": null,
      "outputs": []
    },
    {
      "cell_type": "code",
      "metadata": {
        "id": "pXRt-ZW8unPC"
      },
      "source": [
        "df.describe(include='all')"
      ],
      "execution_count": null,
      "outputs": []
    },
    {
      "cell_type": "markdown",
      "metadata": {
        "id": "GLnDzvWTmxgw"
      },
      "source": [
        "<p><a name=\"bPlot\"></a></p>\n",
        "\n",
        "### 2.2 Box Plots\n",
        "\n",
        "[Contenidos](#contents) "
      ]
    },
    {
      "cell_type": "markdown",
      "metadata": {
        "id": "1FxxmkPLmxg5"
      },
      "source": [
        "Los box plot representan gráficas en las que se pueden analizar varias características de un conjunto de datos como:\n",
        "\n",
        "<ol>\n",
        "    <li> La distribución de los datos.</li>\n",
        "    <li> Asimetría.</li>\n",
        "    <li> Los puntos aislados.</li>\n",
        "</ol>\n",
        "\n",
        "En la siguiente gráfica se muestran las diferentes partes de una gráfica de caja:\n",
        "\n",
        "<img src=\"https://imgbb.com/\"><img src=\"https://i.ibb.co/6tkRtg0/Captura-de-pantalla-2019-08-22-19-01-17.png\" style=\"width:250px;height:300px;\" alt=\"Captura-de-pantalla-2019-08-20-22-39-39\" border=\"0\"></a>\n",
        "\n",
        "En esta gráfica, podemos identificar las siguiente cantidades:\n",
        "\n",
        "<ol>\n",
        "    <li> Mediana.</li><br>\n",
        "    <li> Cuartil superior $P_{75}.$</li><br>\n",
        "    <li> Cuartil inferior $P_{25}$</li><br>\n",
        "    <li>Rango intercuartil $IQR=P_{75}-P_{25}$</li><br>\n",
        "    <li>Extremo superior \\[UE= \\begin{cases} \n",
        "   P_{\\text{75}}+1.5\\times IQR = UP & \\text{si } UP < \\text{max(Data)} \\\\\n",
        "   \\text{max(Data)}       & \\text{si } UP \\ge \\text{max(Data)}\n",
        "  \\end{cases}\\]<br> </li><br>\n",
        "    <li>Extremo inferior \\[LE= \\begin{cases} \n",
        "   P_{\\text{25}}-1.5\\times IQR = LO & \\text{si } LO > \\text{min(Data)} \\\\\n",
        "   \\text{min(Data)}       & \\text{si } LO \\le \\text{min(Data)}\n",
        "  \\end{cases}\\]<br></li>\n",
        "</ol>"
      ]
    },
    {
      "cell_type": "markdown",
      "metadata": {
        "id": "y6_ZIJXRwrfz"
      },
      "source": [
        "Usaremos `seaborn` para realizar graficas de dataframes.\n",
        "\n",
        "Seaborn is a Python data visualization library based on matplotlib.\n",
        "\n",
        "**Nota:** Sea born presenta una alta compatibilidad con los dataframes."
      ]
    },
    {
      "cell_type": "code",
      "metadata": {
        "id": "8vZvd5n4wWv2"
      },
      "source": [
        "import seaborn as sns\n",
        "import matplotlib.pyplot as plt"
      ],
      "execution_count": null,
      "outputs": []
    },
    {
      "cell_type": "code",
      "metadata": {
        "id": "Annjdb3wxUHc"
      },
      "source": [
        "df.head()"
      ],
      "execution_count": null,
      "outputs": []
    },
    {
      "cell_type": "code",
      "metadata": {
        "scrolled": true,
        "id": "P7Z-QcV5mxg9"
      },
      "source": [
        "plt.figure(figsize=(4.5, 4.5))\n",
        "sns.boxplot(x=\"drive-wheels\",y=\"price\", data=df)"
      ],
      "execution_count": null,
      "outputs": []
    },
    {
      "cell_type": "markdown",
      "metadata": {
        "id": "Mv8n33IxmxhN"
      },
      "source": [
        "En este caso se tiene que:\n",
        "\n",
        "<ol>\n",
        "    <li> Mediana: rwd $\\rightarrow$ 16900, fwd $\\rightarrow$ 8192 y 4wd$\\rightarrow$9005.5</li><br>\n",
        "    <li> Cuartil superior: $P_{75\\text{-rwd}}\\approx 22547.50$, $P_{75\\text{-fwd}}\\approx 10333$ y $P_{75\\text{-4wd}}\\approx 11368$</li><br>\n",
        "    <li> Cuartil inferior: $P_{25\\text{-rwd}}= 13455$, $P_{25\\text{-fwd}}\\approx 6951$ y $P_{25\\text{-4wd}}\\approx 7984$</li><br>\n",
        "    <li>Rango intercuartil: $IQR_{\\text{rwd}}\\approx 9023$, $IQR_{\\text{fwd}}\\approx 3381$ y $IQR_{\\text{4wd}}\\approx 3384$</li><br>\n",
        "    <li>Extremo superior \\[UE= \\begin{cases} \n",
        "   P_{\\text{75}}+1.5\\times IQR = UP & \\text{si } UP < \\text{max(Data)} \\\\\n",
        "   \\text{max(Data)}       & \\text{si } UP \\ge \\text{max(Data)}\n",
        "  \\end{cases}\\]<br>\n",
        "        Por ejemplo, $UE_{\\text{rwd}}= P_{\\text{75}\\text{rwd}}+1.5\\times IQR_{\\text{rwd}}\\rightarrow UE_{\\text{rwd}}=22547.50+(22547.50-13455.00)\\times1.5 \\therefore UE_{\\text{rwd}}=36186.25$, ya que $UE_{\\text{rwd}}<\\text{max(Data)}$. </li><br>\n",
        "    <li>Extremo inferior \\[LE= \\begin{cases} \n",
        "   P_{\\text{25}}-1.5\\times IQR = LO & \\text{si } LO > \\text{min(Data)} \\\\\n",
        "   \\text{min(Data)}       & \\text{si } LO \\le \\text{min(Data)}\n",
        "  \\end{cases}\\]<br>\n",
        "    Por ejemplo, $LE_{\\text{rwd}}=\\text{min(Data)}\\rightarrow LE_{\\text{rwd}}=6785$, ya que se cumple que $LO\\leq \\text{min(Data)}$. </li><br>\n",
        "</ol>"
      ]
    },
    {
      "cell_type": "code",
      "metadata": {
        "id": "Ds5Dvp7VmxhQ"
      },
      "source": [
        "df.groupby([\"drive-wheels\"]).price.describe()"
      ],
      "execution_count": null,
      "outputs": []
    },
    {
      "cell_type": "markdown",
      "metadata": {
        "id": "F1iw51E2mxha"
      },
      "source": [
        "Los box plots, o diagramas de cajas permiten comparar facilmente diferentes grupos. En este ejemplo, mediante el uso de diagramas de cajas podemos ver diferentes categorías y sus distribuciones respecto al precio. \n",
        "\n",
        "Vemos que, por ejemplo, que el precio de los carros de tracción trasera (rwd) son distintos a los de otras categorias, no obstante, el precio de los carros de tracción delantera y $4\\times4$ son casi indistinguibles."
      ]
    },
    {
      "cell_type": "markdown",
      "metadata": {
        "id": "dYW53rkumxhd"
      },
      "source": [
        "**Ejercicio:** Use un diagrama de cajas para determinar si la variable \"body-style\" y \"engine-location\", la cual determina el tipo de carro, es un buen predictor del precio. Argumente su respuesta.\n",
        "\n",
        "De click **aquí** para ver la respuesta.\n",
        "\n",
        "<!--- Respuesta:\n",
        "#Celda 1:\n",
        "sns.boxplot(x=\"body-style\", y=\"price\", data=df)\n",
        "# Argumentación: Se puede observar que el precio de los carros para los diferentes tipos de carros presenta una superposición significativa, de tal forma que la variable \"body-style\" no sería un predictor adecuado del precio\n",
        "#Celda 2:\n",
        "sns.boxplot(x=\"engine-location\", y=\"price\", data=df)\n",
        "# Argumentación: Puede observarse qu la distribución de los precios entre las subcategorias fron y rear son lo suficiente diferentes como para considerar la variable categórica \"engine-location\" como un predictor adecuado del precio.\n",
        "--->"
      ]
    },
    {
      "cell_type": "code",
      "metadata": {
        "id": "0kgEzBCT02BB"
      },
      "source": [
        "sns.boxplot(x=\"body-style\", y=\"price\", data=df)\n",
        "plt.show()"
      ],
      "execution_count": null,
      "outputs": []
    },
    {
      "cell_type": "code",
      "metadata": {
        "id": "huOIVh6K191N"
      },
      "source": [
        "df.groupby(\"body-style\").price.describe()"
      ],
      "execution_count": null,
      "outputs": []
    },
    {
      "cell_type": "code",
      "metadata": {
        "id": "m0Swt1_u06pu"
      },
      "source": [
        "sns.boxplot(x=\"engine-location\", y=\"price\", data=df)\n",
        "plt.show()"
      ],
      "execution_count": null,
      "outputs": []
    },
    {
      "cell_type": "code",
      "metadata": {
        "id": "J7PwFu4p3uH0"
      },
      "source": [
        "df.groupby(\"engine-location\").price.describe()"
      ],
      "execution_count": null,
      "outputs": []
    },
    {
      "cell_type": "code",
      "metadata": {
        "id": "cuIDh-0n2v06"
      },
      "source": [
        "df[\"engine-location\"].value_counts()"
      ],
      "execution_count": null,
      "outputs": []
    },
    {
      "cell_type": "markdown",
      "metadata": {
        "id": "4hlXgSWm66HT"
      },
      "source": [
        "**Dataset de flores IRIS**\n",
        "\n",
        "Se tienen 4 característica y tres categorías"
      ]
    },
    {
      "cell_type": "code",
      "metadata": {
        "id": "bR4Swull7N-E"
      },
      "source": [
        "import seaborn as sns\n",
        "import pandas as pd\n",
        "import seaborn as sns\n",
        "import matplotlib.pyplot as plt\n",
        "from sklearn import datasets"
      ],
      "execution_count": null,
      "outputs": []
    },
    {
      "cell_type": "code",
      "metadata": {
        "id": "8IwQcQVk7Lsx"
      },
      "source": [
        "sns.set(style=\"ticks\", color_codes=True)\n",
        "iris=pd.read_csv('https://raw.githubusercontent.com/mwaskom/seaborn-data/master/iris.csv')\n",
        "iris"
      ],
      "execution_count": null,
      "outputs": []
    },
    {
      "cell_type": "code",
      "metadata": {
        "id": "chQyfIXV7vgE"
      },
      "source": [
        "#iris.drop('Id',axis=1,inplace=True)\n",
        "#print(iris.head())\n",
        "#sns.pairplot(iris)\n",
        "sns.pairplot(iris, hue=\"species\", palette=\"husl\", markers=[\"o\", \"s\", \"D\"])\n",
        "plt.show()"
      ],
      "execution_count": null,
      "outputs": []
    },
    {
      "cell_type": "markdown",
      "metadata": {
        "id": "8pIzHRgQmxhg"
      },
      "source": [
        "<p><a name=\"sPlot\"></a></p>\n",
        "\n",
        "### 2.3 Scatter plots\n",
        "\n",
        "[Contenidos](#contents) \n",
        "\n",
        "Dentro de nuestros datos podemos tener en varias ocaciones variables continuas. Este tipo de datos representan puntos dentro de un rango. En el conjunto de datos que estamos trabajando, por ejemplo, las variables correspondientes a las columnas **\"price\"** y **\"engine-size\"** son variables continuas. ¿Qué deberiamos hacer si queremos predecir el precio a partir del tamaño del motor?.\n",
        "\n",
        "Una forma rápida para inspeccionar este tipo de relaciones consiste en realizar un scatter plot de ambas variables. Cada observación en el scatter plot es representada  como un punto. Este tipo de gráficas representa la relación ente ambas variables. La variable predictora representa la variable que se usa para predecir un determinado resultado. Por otra parte, la variable diana o blanco, corresponde a la variable que se pretende predecir. En nuestro caso tenemos que:\n",
        "\n",
        "<ol>\n",
        "    <li>Variable diana o blanco: \"price\".</li>\n",
        "    <li>Variable predictora: \"engine-size\".</li>\n",
        "</ol>\n",
        "\n",
        "En una gráfica de dispersión, usualmente el eje x, o eje horizontal, se hace coincidir con la variable predictora y el eje y, o eje vertical, con la variable diana.\n",
        "\n",
        "Veamos ahora como se relacionan las variables \"price\" y \"engine-size\"."
      ]
    },
    {
      "cell_type": "code",
      "metadata": {
        "id": "UwmheV4g5vhG"
      },
      "source": [
        "numerics = ['int16', 'int32', 'int64', 'float16', 'float32', 'float64']\n",
        "df.select_dtypes(include=numerics).columns"
      ],
      "execution_count": null,
      "outputs": []
    },
    {
      "cell_type": "code",
      "metadata": {
        "id": "1ki0k5k6mxhn"
      },
      "source": [
        "df.plot(kind=\"scatter\", y = \"price\", x = \"engine-size\", title = \"Gráfica de dispersión de \\\"engine-size\\\" vs \\\"price\\\"\", alpha = 0.4)\n",
        "plt.show()"
      ],
      "execution_count": null,
      "outputs": []
    },
    {
      "cell_type": "code",
      "metadata": {
        "id": "tUpxgfmZ6KAJ"
      },
      "source": [
        "df.plot(kind=\"scatter\", y = \"price\", x = \"curb-weight\", title = \"Gráfica de dispersión de \\\"engine-size\\\" vs \\\"price\\\"\", alpha = 0.4)"
      ],
      "execution_count": null,
      "outputs": []
    },
    {
      "cell_type": "code",
      "metadata": {
        "id": "vT-epIAs6gYb"
      },
      "source": [
        "df.plot(kind=\"scatter\", y = \"price\", x = \"symboling\", title = \"Gráfica de dispersión de \\\"engine-size\\\" vs \\\"price\\\"\", alpha = 0.4)"
      ],
      "execution_count": null,
      "outputs": []
    },
    {
      "cell_type": "markdown",
      "metadata": {
        "id": "OcXdxVFimxh0"
      },
      "source": [
        "<p><a name=\"hmaps\"></a></p>\n",
        "\n",
        "### 2.4 Groupby y Heatmaps\n",
        "\n",
        "[Contenidos](#contents)\n",
        "\n",
        "Recordemos que con el método groupby podemos agrupar los datos en diferentes categorías. Los datos son agrupados con base en una o varias características y el análisis se realiza sobre los grupos individuales. Veamos esto."
      ]
    },
    {
      "cell_type": "code",
      "metadata": {
        "id": "_WPtIN9Mb4QD"
      },
      "source": [
        "df.select_dtypes(include='object').columns"
      ],
      "execution_count": null,
      "outputs": []
    },
    {
      "cell_type": "markdown",
      "metadata": {
        "id": "p5Hvn5FSb2wu"
      },
      "source": [
        "Agrupemos, por ejemplo la tabla por tipo de tracción (\"drive-wheels\"). Podemos observar que tenemos tres tipos de categorias."
      ]
    },
    {
      "cell_type": "code",
      "metadata": {
        "id": "5Jqda4qAmxh5"
      },
      "source": [
        "df['drive-wheels'].unique()"
      ],
      "execution_count": null,
      "outputs": []
    },
    {
      "cell_type": "code",
      "metadata": {
        "id": "JJoT4nydcfrW"
      },
      "source": [
        "df['body-style'].unique()"
      ],
      "execution_count": null,
      "outputs": []
    },
    {
      "cell_type": "markdown",
      "metadata": {
        "id": "mq0cv3_OmxiJ"
      },
      "source": [
        "Definamos un subdataFrame con las columnas 'drive-wheels', 'body-style' y 'price' y agrupemos por 'drive-wheels' para calcular el valor medio en cada categoria:"
      ]
    },
    {
      "cell_type": "code",
      "metadata": {
        "id": "OsXl3V0VmxiN"
      },
      "source": [
        "df_group = df[['drive-wheels','body-style','price']]"
      ],
      "execution_count": null,
      "outputs": []
    },
    {
      "cell_type": "code",
      "metadata": {
        "id": "sRThkeWZc83P"
      },
      "source": [
        "# Agrupamiento de los resultados\n",
        "df_grupo1 = df_group.groupby(['drive-wheels'], as_index = False).mean().sort_values(by = \"price\", ascending = False).reset_index(drop = True)\n",
        "df_grupo1"
      ],
      "execution_count": null,
      "outputs": []
    },
    {
      "cell_type": "markdown",
      "metadata": {
        "id": "Isvaraqdmxif"
      },
      "source": [
        "De los datos, se puede ver que los carros con tracción tracera son, en promedio, los mas caros. Por otra parte, los carros de tracción delantera y tracción total son, en promedio, similares. \n",
        "\n",
        "Podemos agrupar de acuerdo a varias variables. Por ejemplo, agrupemos por 'drive-wheels' y 'body-style'. Este procedimento agrupara el dataframe por combinaciones unicas de 'drive-wheels' y 'body-style'. Guardemos el resultado en la variable de prueba 'grupo_test'"
      ]
    },
    {
      "cell_type": "code",
      "metadata": {
        "id": "x_8VmGW7mxij"
      },
      "source": [
        "# grouping results\n",
        "grupo_test = df_group.groupby(['drive-wheels','body-style'], as_index = False).mean().sort_values(by = \"price\", ascending = False).reset_index(drop = True)\n",
        "grupo_test"
      ],
      "execution_count": null,
      "outputs": []
    },
    {
      "cell_type": "markdown",
      "metadata": {
        "id": "TQQH4cIbmxi0"
      },
      "source": [
        "Este tipo de tablas es más facil visualizarlas cuando se convierten en una tabla pivote. Como en Excel, en las tablas pivote podemos visualizar los datos especificando una variable categórica a lo largo de las columnas y otra variable categórica a lo largo de las filas.\n",
        "\n",
        "En este caso, la categoria \"drive-wheel\" le asignaremos las filas de la tabla, y realizacemos un pivote en \"body-style\" para convertirla en las columnas de la tabla:"
      ]
    },
    {
      "cell_type": "code",
      "metadata": {
        "id": "-E9N86oumxi5"
      },
      "source": [
        "grouped_pivot = grupo_test.pivot(index = 'drive-wheels', columns = 'body-style')\n",
        "grouped_pivot"
      ],
      "execution_count": null,
      "outputs": []
    },
    {
      "cell_type": "markdown",
      "metadata": {
        "id": "fW5zoFNVmxjO"
      },
      "source": [
        "En muchas ocaciones, tenemos valores nulos para algunas celdas de la tabla. Podemos rellenar estos casos con un valor 0.\n",
        "\n",
        "---\n",
        "\n"
      ]
    },
    {
      "cell_type": "code",
      "metadata": {
        "id": "zrmG8XtFmxjW"
      },
      "source": [
        "grouped_pivot = grouped_pivot.fillna(0) #fill missing values with 0\n",
        "grouped_pivot"
      ],
      "execution_count": null,
      "outputs": []
    },
    {
      "cell_type": "markdown",
      "metadata": {
        "id": "zqtcCeCSmxju"
      },
      "source": [
        "El uso de heatmaps nos permite visualizar el comportamiento del precio en función de dos variables. Por ejemplo, pordemos visualizar la tabla pivote anterior como una imagen de píxeles con el color correspondiente al valor del precio. De esta forma, podemos ver, por ejemplo, como se relaciona el precio con el tipo de tracción y el tipo de carro:"
      ]
    },
    {
      "cell_type": "code",
      "metadata": {
        "id": "bIZ0T-1Pmxjy"
      },
      "source": [
        "fig, ax = plt.subplots()\n",
        "im = ax.pcolor(grouped_pivot, cmap='jet')\n",
        "\n",
        "#labels\n",
        "row_labels = grouped_pivot.columns.levels[1]\n",
        "col_labels = grouped_pivot.index\n",
        "\n",
        "#move ticks to the center\n",
        "ax.set_xticks(np.arange(grouped_pivot.shape[1]) + 0.5, minor=False)\n",
        "ax.set_yticks(np.arange(grouped_pivot.shape[0]) + 0.5, minor=False)\n",
        "\n",
        "#insert labels\n",
        "ax.set_xticklabels(row_labels, minor=False)\n",
        "ax.set_yticklabels(col_labels, minor=False)\n",
        "\n",
        "#rotate the labels\n",
        "plt.xticks(rotation=90)\n",
        "\n",
        "fig.colorbar(im)\n",
        "plt.show()"
      ],
      "execution_count": null,
      "outputs": []
    },
    {
      "cell_type": "code",
      "metadata": {
        "id": "U7tyjaJPgUWp"
      },
      "source": [
        "sns.heatmap(grouped_pivot, cmap='jet')\n",
        "plt.show()"
      ],
      "execution_count": null,
      "outputs": []
    },
    {
      "cell_type": "markdown",
      "metadata": {
        "id": "iLqeN1LrgRfz"
      },
      "source": [
        "**Ejercicio Guiado**"
      ]
    },
    {
      "cell_type": "code",
      "metadata": {
        "id": "vvAQcxWGg173"
      },
      "source": [
        "df.select_dtypes(include='object').columns"
      ],
      "execution_count": null,
      "outputs": []
    },
    {
      "cell_type": "code",
      "metadata": {
        "id": "te3he0_Sg8y9"
      },
      "source": [
        "df['fuel-system'].value_counts()"
      ],
      "execution_count": null,
      "outputs": []
    },
    {
      "cell_type": "code",
      "metadata": {
        "id": "DqftXgAvhISz"
      },
      "source": [
        "df['num-of-cylinders'].value_counts()"
      ],
      "execution_count": null,
      "outputs": []
    },
    {
      "cell_type": "code",
      "metadata": {
        "id": "HHuzCN9EhQTi"
      },
      "source": [
        "df['make'].value_counts()"
      ],
      "execution_count": null,
      "outputs": []
    },
    {
      "cell_type": "code",
      "metadata": {
        "id": "zAe_lL_5hawn"
      },
      "source": [
        "df_group = df[['make','num-of-cylinders','price']]\n",
        "\n",
        "# grouping results\n",
        "grupo_test = df_group.groupby(['make','num-of-cylinders'], as_index = False).mean().sort_values(by = \"price\", ascending = False).reset_index(drop = True)\n",
        "grupo_test\n",
        "\n",
        "#pivot table\n",
        "grouped_pivot = grupo_test.pivot(index = 'make', columns = 'num-of-cylinders')\n",
        "grouped_pivot = grouped_pivot.fillna(0)\n",
        "\n",
        "grouped_pivot"
      ],
      "execution_count": null,
      "outputs": []
    },
    {
      "cell_type": "code",
      "metadata": {
        "id": "9z-fkBLbidXL"
      },
      "source": [
        "sns.heatmap(grouped_pivot, cmap='jet')\n",
        "plt.show()"
      ],
      "execution_count": null,
      "outputs": []
    },
    {
      "cell_type": "markdown",
      "metadata": {
        "id": "pIc0hLXGg8Vu"
      },
      "source": [
        ""
      ]
    },
    {
      "cell_type": "markdown",
      "metadata": {
        "id": "vuvabBYHmxkB"
      },
      "source": [
        "<p><a name=\"corr\"></a></p>\n",
        "\n",
        "## 3. Correlación\n",
        "\n",
        "[Contenidos](#contents)\n",
        "\n",
        "La correlación es una medida de la relación entre variables que se mide en una escala de -1 a 1. Cuanto más cercano sea el valor de correlación a -1 o 1, más fuerte será la relación, y mientras más cerca de 0, más débil será la relación. Mide cómo el cambio en una variable está asociado con el cambio en otra variable.\n",
        "\n",
        "Existen algunos tipos comunes de pruebas para medir la correlación, estos son: Pearson, Spearman y Kendall. Cada uno tiene sus propias suposiciones sobre los datos que deben cumplirse para que la prueba pueda medir con precisión el nivel de correlación. Veamos cómo están distribuidas nuestras variables:\n",
        "\n",
        "* Para la correlación de Pearson, ambas variables deben estar normalmente distribuidas. Otras suposiciones incluyen linealidad y homogeneidad en la varianza.\n",
        "\n",
        "* La correlación de Kendall es una prueba no paramétrica que no hace suposiciones sobre la distribución de los datos. Debe haber una relación monotónica entre las variables que se están probando y los datos deben medirse en una escala ordinal, de intervalo o de relación.\n",
        "\n",
        "* Las correlación de Spearman es no paramétrica y no hace suposiciones sobre la distribución de los datos. Al igual que en el caso anterior, debe haber una relación monotónica entre las variables y es el análisis de correlación apropiado cuando las variables se miden en una escala que es al menos ordinal."
      ]
    },
    {
      "cell_type": "code",
      "metadata": {
        "id": "sCgOkKgNqm-M"
      },
      "source": [
        "df.hist(figsize=(15,13))\n",
        "plt.show()"
      ],
      "execution_count": null,
      "outputs": []
    },
    {
      "cell_type": "markdown",
      "metadata": {
        "id": "BZxeB8s2T9B_"
      },
      "source": [
        "En el caso de la correlación de Pearson, las suposiciones de normalidad de la distribución y homogeneidad de la varianza se pueden evaluar mediante las funciones `skewtest()` y `levene()`, respectivamente. Ambas pertenecientes al módulo `scipy.stats`. Evaluemos las suposiciones para las variables \"price\" y \"engine-size\""
      ]
    },
    {
      "cell_type": "code",
      "metadata": {
        "id": "kbWFVRuhZeLp"
      },
      "source": [
        "# test linearity\n",
        "df.plot(kind=\"scatter\", y = \"price\", x = \"engine-size\", alpha = 0.4)\n",
        "plt.show()"
      ],
      "execution_count": null,
      "outputs": []
    },
    {
      "cell_type": "code",
      "metadata": {
        "id": "vjajGLYWU7U-"
      },
      "source": [
        "from scipy.stats import skewtest, levene\n",
        "\n",
        "# test the null hypothesis that the skewness of the population that the sample was drawn from is the same as that of a corresponding normal distribution.\n",
        "print(skewtest(df[\"price\"]))\n",
        "print(skewtest(df[\"engine-size\"]))\n",
        "print(skewtest(df[\"length\"]))\n",
        "\n",
        "print(skewtest(df[\"height\"]))\n",
        "\n",
        "\n",
        "\n"
      ],
      "execution_count": null,
      "outputs": []
    },
    {
      "cell_type": "code",
      "metadata": {
        "id": "20jaeuVkSE7H"
      },
      "source": [
        "# test the null hypothesis that all input samples are from populations with equal variances\n",
        "print(levene(df[\"price\"],df[\"engine-size\"]))\n",
        "\n",
        "# A smaller p-value means that there is stronger evidence in favor of the alternative hypothesis."
      ],
      "execution_count": null,
      "outputs": []
    },
    {
      "cell_type": "markdown",
      "metadata": {
        "id": "66Tib7WuquG4"
      },
      "source": [
        "Para calcular el coeficiente de correlación podemos utilizar el método `corr()` de Pandas"
      ]
    },
    {
      "cell_type": "code",
      "metadata": {
        "id": "XHfK9bMvVxZo"
      },
      "source": [
        "corr_p = df.corr(method = \"pearson\")\n",
        "corr_k = df.corr(method = \"kendall\")\n",
        "corr_s = df.corr(method = \"spearman\")\n",
        "\n",
        "corr_p"
      ],
      "execution_count": null,
      "outputs": []
    },
    {
      "cell_type": "code",
      "metadata": {
        "id": "NnwjzMqAoIiC"
      },
      "source": [
        "corr_p[['engine-size','price']]"
      ],
      "execution_count": null,
      "outputs": []
    },
    {
      "cell_type": "markdown",
      "metadata": {
        "id": "mXq_cJ6tV0dK"
      },
      "source": [
        "Veamos cómo se correlaciona el atributo precio con los demás atributos"
      ]
    },
    {
      "cell_type": "code",
      "metadata": {
        "id": "-ZqkkGL0V1YK"
      },
      "source": [
        "corr_p[\"price\"].sort_values(ascending=False)"
      ],
      "execution_count": null,
      "outputs": []
    },
    {
      "cell_type": "code",
      "metadata": {
        "id": "UhPXqsjwq8db"
      },
      "source": [
        "corr_k[\"price\"].sort_values(ascending=False)"
      ],
      "execution_count": null,
      "outputs": []
    },
    {
      "cell_type": "markdown",
      "metadata": {
        "id": "_shJ8EzMV3mH"
      },
      "source": [
        "Vemos que el precio del automóvil tiende a subir a medida que, por ejemplo, aumenta el tamaño del motor (engine-size), el ancho (width) y largo (length) del vehículo; no así de su altura (heigth) o del tipo de combustible que utiliza. El atributo más prometedor para predecir el precio del vehículo es el tamaño del motor (Pearson) y el peso del motor (kendall)."
      ]
    },
    {
      "cell_type": "markdown",
      "metadata": {
        "id": "ckEafrXBV_g2"
      },
      "source": [
        "Otra forma de verificar la correlación entre los atributos es usar el método `scatter_matrix`, que dibuja cada atributo numérico contra cualquier otro atributo numérico. Como tenemos 29 columnas (se generarían $29^2=841$ gráficos), grafiquemos solo algunos de los atributos que tienen más correlación con el precio:"
      ]
    },
    {
      "cell_type": "code",
      "metadata": {
        "id": "IgluxEeapKWt"
      },
      "source": [
        "from pandas.plotting import scatter_matrix"
      ],
      "execution_count": null,
      "outputs": []
    },
    {
      "cell_type": "code",
      "metadata": {
        "id": "Qgqr4N2gWBSJ"
      },
      "source": [
        "attributes = [\"engine-size\",\"curb-weight\",\"horsepower\",\"bore\", \"price\"]\n",
        "\n",
        "scatter_matrix(df[attributes], figsize=(12, 8))\n",
        "plt.show()"
      ],
      "execution_count": null,
      "outputs": []
    },
    {
      "cell_type": "markdown",
      "metadata": {
        "id": "xPsQl9LdWEXU"
      },
      "source": [
        "La diagonal principal estaría llena de líneas rectas si Pandas dibujara cada variable contra sí misma, lo que no sería muy útil. En su lugar, Pandas muestra un histograma de cada atributo.\n",
        "\n",
        "La librería `seaborn` nos permite realizar gráficos como el anterior o, por ejemplo, en un mapa de calor, mediante las funciones `pairplot()` y `heatmap()`, respectivamente."
      ]
    },
    {
      "cell_type": "code",
      "metadata": {
        "id": "k442nxetrKih"
      },
      "source": [
        "sns.pairplot(df, hue = \"drive-wheels\", vars = [\"engine-size\",\"curb-weight\",\"horsepower\",\"bore\"])"
      ],
      "execution_count": null,
      "outputs": []
    },
    {
      "cell_type": "code",
      "metadata": {
        "id": "T_ZRYA_cWO_V"
      },
      "source": [
        "df_new = df[['engine-size','curb-weight','height','width','length','horsepower','peak-rpm','price','stroke','compression-ratio']]\n",
        "corr_new = df_new.corr()\n",
        "\n",
        "ax = sns.heatmap(\n",
        "    corr_new, \n",
        "    vmin=-1, vmax=1, center=0,\n",
        "    cmap='jet',\n",
        "    square=True\n",
        ")\n",
        "ax.set_xticklabels(\n",
        "    ax.get_xticklabels(),\n",
        "    rotation=45,\n",
        "    horizontalalignment='right'\n",
        ");"
      ],
      "execution_count": null,
      "outputs": []
    },
    {
      "cell_type": "markdown",
      "metadata": {
        "id": "f3MbcY8W4VZE"
      },
      "source": [
        "**Coclusión:** Es que es utilizada en parejas de varibles de la forma\n",
        "\n",
        "$$(x_i, y)$$\n",
        "\n",
        "Siendo $x_i$ una característica (o campo/columna) de la tabla de entrada e $y$ es la variable objetivo."
      ]
    },
    {
      "cell_type": "markdown",
      "metadata": {
        "id": "gPrturbz5oKk"
      },
      "source": [
        "<p><a name=\"anova2\"></a></p>\n",
        "\n",
        "# 4. ANOVA.\n",
        "\n",
        "<p><a name=\"single_anova\"></a></p>\n",
        "\n",
        "## 4.1. One-way ANOVA:\n",
        "\n",
        "[[Contenidos]](#contents)\n",
        "\n",
        "El el test one-way ANOVA es una técnica que es usada para variables blanco numéricas (\"Y\", siguendo la notación establecida), usualmente una variable, y datos de entrada de solo una variable numérica o categórica, por tal motivo se le conoce como \"one-way\".\n",
        "\n",
        "El test de análisis de varianzas puede pensarse como una generalización del t-test a más de dos grupos. En ANOVA, la **hipotesis nula** establece que **las medias de las poblaciones de las cuales se tomaron las muestras de los grupos son iguales**. De forma más concisa tenemos que:\n",
        "\n",
        " $\\mu_1=\\cdots=\\mu_n$\n",
        " \n",
        "\n",
        "Para un grupo de $n$ datos. La hipótesis alternativa sería que alguna de las medias de la ecuación anterior no se cumpla. Por lo tanto, tener un F-value alto y un p-value pequeño, implica que la probabilidad de que la hipótesis nula sea cierta es baja, por tanto, decimos que la hipotesis alternativa se debe cumplir.\n",
        "\n",
        "Supongamos que queremos analizar una variable categórica y ver la correlación con otras variables. \n",
        "\n",
        "Uno de los principales usos de ANOVA es el de analizar el impacto que las subcategorías tienen sobre en otra variable. \n",
        "\n",
        "Por ejemplo, en el caso del dataset de carros, resultaría interesante responder a la pregunta:\n",
        "\n",
        "* ¿Qué subcategorias de la categoría make (Fabricantes de carros), tienen algun impacto sobre la variable precio?.\n",
        "\n",
        "Empecemos por cargar los datos de carros y volverlos a inspeccionar:"
      ]
    },
    {
      "cell_type": "markdown",
      "metadata": {
        "id": "d5W_wTu-9lE4"
      },
      "source": [
        "Realicemos una gráfica del precio medio en función de la de la marca, con el fin de analizar si existe alguna dependencia."
      ]
    },
    {
      "cell_type": "code",
      "metadata": {
        "id": "0-Pa9a0fvHUv"
      },
      "source": [
        "import pandas as pd\n",
        "import numpy as np\n",
        "\n",
        "archivo = 'https://s3-api.us-geo.objectstorage.softlayer.net/cf-courses-data/CognitiveClass/DA0101EN/automobileEDA.csv'\n",
        "df = pd.read_csv(archivo)"
      ],
      "execution_count": 125,
      "outputs": []
    },
    {
      "cell_type": "code",
      "metadata": {
        "colab": {
          "base_uri": "https://localhost:8080/",
          "height": 261
        },
        "id": "LElX1X2Eka47",
        "outputId": "70dbf529-63e3-467b-f8e7-06a2f3045744"
      },
      "source": [
        "df.sample(5)"
      ],
      "execution_count": 126,
      "outputs": [
        {
          "output_type": "execute_result",
          "data": {
            "text/html": [
              "<div>\n",
              "<style scoped>\n",
              "    .dataframe tbody tr th:only-of-type {\n",
              "        vertical-align: middle;\n",
              "    }\n",
              "\n",
              "    .dataframe tbody tr th {\n",
              "        vertical-align: top;\n",
              "    }\n",
              "\n",
              "    .dataframe thead th {\n",
              "        text-align: right;\n",
              "    }\n",
              "</style>\n",
              "<table border=\"1\" class=\"dataframe\">\n",
              "  <thead>\n",
              "    <tr style=\"text-align: right;\">\n",
              "      <th></th>\n",
              "      <th>symboling</th>\n",
              "      <th>normalized-losses</th>\n",
              "      <th>make</th>\n",
              "      <th>aspiration</th>\n",
              "      <th>num-of-doors</th>\n",
              "      <th>body-style</th>\n",
              "      <th>drive-wheels</th>\n",
              "      <th>engine-location</th>\n",
              "      <th>wheel-base</th>\n",
              "      <th>length</th>\n",
              "      <th>width</th>\n",
              "      <th>height</th>\n",
              "      <th>curb-weight</th>\n",
              "      <th>engine-type</th>\n",
              "      <th>num-of-cylinders</th>\n",
              "      <th>engine-size</th>\n",
              "      <th>fuel-system</th>\n",
              "      <th>bore</th>\n",
              "      <th>stroke</th>\n",
              "      <th>compression-ratio</th>\n",
              "      <th>horsepower</th>\n",
              "      <th>peak-rpm</th>\n",
              "      <th>city-mpg</th>\n",
              "      <th>highway-mpg</th>\n",
              "      <th>price</th>\n",
              "      <th>city-L/100km</th>\n",
              "      <th>horsepower-binned</th>\n",
              "      <th>diesel</th>\n",
              "      <th>gas</th>\n",
              "    </tr>\n",
              "  </thead>\n",
              "  <tbody>\n",
              "    <tr>\n",
              "      <th>195</th>\n",
              "      <td>-1</td>\n",
              "      <td>74</td>\n",
              "      <td>volvo</td>\n",
              "      <td>turbo</td>\n",
              "      <td>four</td>\n",
              "      <td>wagon</td>\n",
              "      <td>rwd</td>\n",
              "      <td>front</td>\n",
              "      <td>104.3</td>\n",
              "      <td>0.907256</td>\n",
              "      <td>0.933333</td>\n",
              "      <td>57.5</td>\n",
              "      <td>3157</td>\n",
              "      <td>ohc</td>\n",
              "      <td>four</td>\n",
              "      <td>130</td>\n",
              "      <td>mpfi</td>\n",
              "      <td>3.62</td>\n",
              "      <td>3.15</td>\n",
              "      <td>7.5</td>\n",
              "      <td>162.000000</td>\n",
              "      <td>5100.000000</td>\n",
              "      <td>17</td>\n",
              "      <td>22</td>\n",
              "      <td>18950.0</td>\n",
              "      <td>13.823529</td>\n",
              "      <td>High</td>\n",
              "      <td>0</td>\n",
              "      <td>1</td>\n",
              "    </tr>\n",
              "    <tr>\n",
              "      <th>116</th>\n",
              "      <td>1</td>\n",
              "      <td>119</td>\n",
              "      <td>plymouth</td>\n",
              "      <td>turbo</td>\n",
              "      <td>two</td>\n",
              "      <td>hatchback</td>\n",
              "      <td>fwd</td>\n",
              "      <td>front</td>\n",
              "      <td>93.7</td>\n",
              "      <td>0.755887</td>\n",
              "      <td>0.886111</td>\n",
              "      <td>50.8</td>\n",
              "      <td>2128</td>\n",
              "      <td>ohc</td>\n",
              "      <td>four</td>\n",
              "      <td>98</td>\n",
              "      <td>spdi</td>\n",
              "      <td>3.03</td>\n",
              "      <td>3.39</td>\n",
              "      <td>7.6</td>\n",
              "      <td>102.000000</td>\n",
              "      <td>5500.000000</td>\n",
              "      <td>24</td>\n",
              "      <td>30</td>\n",
              "      <td>7957.0</td>\n",
              "      <td>9.791667</td>\n",
              "      <td>Medium</td>\n",
              "      <td>0</td>\n",
              "      <td>1</td>\n",
              "    </tr>\n",
              "    <tr>\n",
              "      <th>126</th>\n",
              "      <td>0</td>\n",
              "      <td>122</td>\n",
              "      <td>renault</td>\n",
              "      <td>std</td>\n",
              "      <td>four</td>\n",
              "      <td>wagon</td>\n",
              "      <td>fwd</td>\n",
              "      <td>front</td>\n",
              "      <td>96.1</td>\n",
              "      <td>0.872177</td>\n",
              "      <td>0.923611</td>\n",
              "      <td>55.2</td>\n",
              "      <td>2579</td>\n",
              "      <td>ohc</td>\n",
              "      <td>four</td>\n",
              "      <td>132</td>\n",
              "      <td>mpfi</td>\n",
              "      <td>3.46</td>\n",
              "      <td>3.90</td>\n",
              "      <td>8.7</td>\n",
              "      <td>104.256158</td>\n",
              "      <td>5125.369458</td>\n",
              "      <td>23</td>\n",
              "      <td>31</td>\n",
              "      <td>9295.0</td>\n",
              "      <td>10.217391</td>\n",
              "      <td>Medium</td>\n",
              "      <td>0</td>\n",
              "      <td>1</td>\n",
              "    </tr>\n",
              "    <tr>\n",
              "      <th>99</th>\n",
              "      <td>0</td>\n",
              "      <td>108</td>\n",
              "      <td>nissan</td>\n",
              "      <td>std</td>\n",
              "      <td>four</td>\n",
              "      <td>wagon</td>\n",
              "      <td>fwd</td>\n",
              "      <td>front</td>\n",
              "      <td>100.4</td>\n",
              "      <td>0.887074</td>\n",
              "      <td>0.923611</td>\n",
              "      <td>56.1</td>\n",
              "      <td>3296</td>\n",
              "      <td>ohcv</td>\n",
              "      <td>six</td>\n",
              "      <td>181</td>\n",
              "      <td>mpfi</td>\n",
              "      <td>3.43</td>\n",
              "      <td>3.27</td>\n",
              "      <td>9.0</td>\n",
              "      <td>152.000000</td>\n",
              "      <td>5200.000000</td>\n",
              "      <td>17</td>\n",
              "      <td>22</td>\n",
              "      <td>14399.0</td>\n",
              "      <td>13.823529</td>\n",
              "      <td>Medium</td>\n",
              "      <td>0</td>\n",
              "      <td>1</td>\n",
              "    </tr>\n",
              "    <tr>\n",
              "      <th>172</th>\n",
              "      <td>-1</td>\n",
              "      <td>65</td>\n",
              "      <td>toyota</td>\n",
              "      <td>std</td>\n",
              "      <td>four</td>\n",
              "      <td>sedan</td>\n",
              "      <td>fwd</td>\n",
              "      <td>front</td>\n",
              "      <td>102.4</td>\n",
              "      <td>0.843825</td>\n",
              "      <td>0.923611</td>\n",
              "      <td>54.9</td>\n",
              "      <td>2414</td>\n",
              "      <td>ohc</td>\n",
              "      <td>four</td>\n",
              "      <td>122</td>\n",
              "      <td>mpfi</td>\n",
              "      <td>3.31</td>\n",
              "      <td>3.54</td>\n",
              "      <td>8.7</td>\n",
              "      <td>92.000000</td>\n",
              "      <td>4200.000000</td>\n",
              "      <td>27</td>\n",
              "      <td>32</td>\n",
              "      <td>10898.0</td>\n",
              "      <td>8.703704</td>\n",
              "      <td>Low</td>\n",
              "      <td>0</td>\n",
              "      <td>1</td>\n",
              "    </tr>\n",
              "  </tbody>\n",
              "</table>\n",
              "</div>"
            ],
            "text/plain": [
              "     symboling  normalized-losses      make  ... horsepower-binned diesel gas\n",
              "195         -1                 74     volvo  ...              High      0   1\n",
              "116          1                119  plymouth  ...            Medium      0   1\n",
              "126          0                122   renault  ...            Medium      0   1\n",
              "99           0                108    nissan  ...            Medium      0   1\n",
              "172         -1                 65    toyota  ...               Low      0   1\n",
              "\n",
              "[5 rows x 29 columns]"
            ]
          },
          "metadata": {},
          "execution_count": 126
        }
      ]
    },
    {
      "cell_type": "code",
      "metadata": {
        "colab": {
          "base_uri": "https://localhost:8080/"
        },
        "id": "d_5q2JuykhdN",
        "outputId": "a3e53a13-fcfa-43df-ae95-82033e1662b7"
      },
      "source": [
        "df['make'].value_counts()"
      ],
      "execution_count": 127,
      "outputs": [
        {
          "output_type": "execute_result",
          "data": {
            "text/plain": [
              "toyota           32\n",
              "nissan           18\n",
              "mazda            17\n",
              "mitsubishi       13\n",
              "honda            13\n",
              "subaru           12\n",
              "volkswagen       12\n",
              "peugot           11\n",
              "volvo            11\n",
              "dodge             9\n",
              "mercedes-benz     8\n",
              "bmw               8\n",
              "plymouth          7\n",
              "saab              6\n",
              "audi              6\n",
              "porsche           4\n",
              "jaguar            3\n",
              "chevrolet         3\n",
              "alfa-romero       3\n",
              "renault           2\n",
              "isuzu             2\n",
              "mercury           1\n",
              "Name: make, dtype: int64"
            ]
          },
          "metadata": {},
          "execution_count": 127
        }
      ]
    },
    {
      "cell_type": "code",
      "metadata": {
        "colab": {
          "base_uri": "https://localhost:8080/"
        },
        "id": "5TRtLnx6ks2W",
        "outputId": "41b7b2d2-3c57-40a1-dbfa-a5bfdc14217e"
      },
      "source": [
        "len(df)"
      ],
      "execution_count": 128,
      "outputs": [
        {
          "output_type": "execute_result",
          "data": {
            "text/plain": [
              "201"
            ]
          },
          "metadata": {},
          "execution_count": 128
        }
      ]
    },
    {
      "cell_type": "code",
      "metadata": {
        "colab": {
          "base_uri": "https://localhost:8080/",
          "height": 770
        },
        "id": "JLU4uccNl25h",
        "outputId": "2a2a8ec9-01bd-4356-b6f0-5bcc45363bfa"
      },
      "source": [
        "df[[\"make\",\"price\"]].groupby(\"make\").mean().sort_values(by=\"price\")"
      ],
      "execution_count": 130,
      "outputs": [
        {
          "output_type": "execute_result",
          "data": {
            "text/html": [
              "<div>\n",
              "<style scoped>\n",
              "    .dataframe tbody tr th:only-of-type {\n",
              "        vertical-align: middle;\n",
              "    }\n",
              "\n",
              "    .dataframe tbody tr th {\n",
              "        vertical-align: top;\n",
              "    }\n",
              "\n",
              "    .dataframe thead th {\n",
              "        text-align: right;\n",
              "    }\n",
              "</style>\n",
              "<table border=\"1\" class=\"dataframe\">\n",
              "  <thead>\n",
              "    <tr style=\"text-align: right;\">\n",
              "      <th></th>\n",
              "      <th>price</th>\n",
              "    </tr>\n",
              "    <tr>\n",
              "      <th>make</th>\n",
              "      <th></th>\n",
              "    </tr>\n",
              "  </thead>\n",
              "  <tbody>\n",
              "    <tr>\n",
              "      <th>chevrolet</th>\n",
              "      <td>6007.000000</td>\n",
              "    </tr>\n",
              "    <tr>\n",
              "      <th>dodge</th>\n",
              "      <td>7875.444444</td>\n",
              "    </tr>\n",
              "    <tr>\n",
              "      <th>plymouth</th>\n",
              "      <td>7963.428571</td>\n",
              "    </tr>\n",
              "    <tr>\n",
              "      <th>honda</th>\n",
              "      <td>8184.692308</td>\n",
              "    </tr>\n",
              "    <tr>\n",
              "      <th>subaru</th>\n",
              "      <td>8541.250000</td>\n",
              "    </tr>\n",
              "    <tr>\n",
              "      <th>isuzu</th>\n",
              "      <td>8916.500000</td>\n",
              "    </tr>\n",
              "    <tr>\n",
              "      <th>mitsubishi</th>\n",
              "      <td>9239.769231</td>\n",
              "    </tr>\n",
              "    <tr>\n",
              "      <th>renault</th>\n",
              "      <td>9595.000000</td>\n",
              "    </tr>\n",
              "    <tr>\n",
              "      <th>toyota</th>\n",
              "      <td>9885.812500</td>\n",
              "    </tr>\n",
              "    <tr>\n",
              "      <th>volkswagen</th>\n",
              "      <td>10077.500000</td>\n",
              "    </tr>\n",
              "    <tr>\n",
              "      <th>nissan</th>\n",
              "      <td>10415.666667</td>\n",
              "    </tr>\n",
              "    <tr>\n",
              "      <th>mazda</th>\n",
              "      <td>10652.882353</td>\n",
              "    </tr>\n",
              "    <tr>\n",
              "      <th>saab</th>\n",
              "      <td>15223.333333</td>\n",
              "    </tr>\n",
              "    <tr>\n",
              "      <th>peugot</th>\n",
              "      <td>15489.090909</td>\n",
              "    </tr>\n",
              "    <tr>\n",
              "      <th>alfa-romero</th>\n",
              "      <td>15498.333333</td>\n",
              "    </tr>\n",
              "    <tr>\n",
              "      <th>mercury</th>\n",
              "      <td>16503.000000</td>\n",
              "    </tr>\n",
              "    <tr>\n",
              "      <th>audi</th>\n",
              "      <td>17859.166667</td>\n",
              "    </tr>\n",
              "    <tr>\n",
              "      <th>volvo</th>\n",
              "      <td>18063.181818</td>\n",
              "    </tr>\n",
              "    <tr>\n",
              "      <th>bmw</th>\n",
              "      <td>26118.750000</td>\n",
              "    </tr>\n",
              "    <tr>\n",
              "      <th>porsche</th>\n",
              "      <td>31400.500000</td>\n",
              "    </tr>\n",
              "    <tr>\n",
              "      <th>mercedes-benz</th>\n",
              "      <td>33647.000000</td>\n",
              "    </tr>\n",
              "    <tr>\n",
              "      <th>jaguar</th>\n",
              "      <td>34600.000000</td>\n",
              "    </tr>\n",
              "  </tbody>\n",
              "</table>\n",
              "</div>"
            ],
            "text/plain": [
              "                      price\n",
              "make                       \n",
              "chevrolet       6007.000000\n",
              "dodge           7875.444444\n",
              "plymouth        7963.428571\n",
              "honda           8184.692308\n",
              "subaru          8541.250000\n",
              "isuzu           8916.500000\n",
              "mitsubishi      9239.769231\n",
              "renault         9595.000000\n",
              "toyota          9885.812500\n",
              "volkswagen     10077.500000\n",
              "nissan         10415.666667\n",
              "mazda          10652.882353\n",
              "saab           15223.333333\n",
              "peugot         15489.090909\n",
              "alfa-romero    15498.333333\n",
              "mercury        16503.000000\n",
              "audi           17859.166667\n",
              "volvo          18063.181818\n",
              "bmw            26118.750000\n",
              "porsche        31400.500000\n",
              "mercedes-benz  33647.000000\n",
              "jaguar         34600.000000"
            ]
          },
          "metadata": {},
          "execution_count": 130
        }
      ]
    },
    {
      "cell_type": "code",
      "metadata": {
        "id": "NP0Pa3cx9UxA",
        "colab": {
          "base_uri": "https://localhost:8080/",
          "height": 469
        },
        "outputId": "f8617a40-fa0b-475f-a377-d83a9cd50220"
      },
      "source": [
        "dftest1 = df[[\"make\",\"price\"]].groupby(\"make\").mean().sort_values(by=\"price\")\n",
        "dftest1.plot(kind=\"bar\",figsize=(9,6))\n",
        "plt.show()"
      ],
      "execution_count": 131,
      "outputs": [
        {
          "output_type": "display_data",
          "data": {
            "image/png": "[encoded data removed]",
            "text/plain": [
              "<Figure size 648x432 with 1 Axes>"
            ]
          },
          "metadata": {}
        }
      ]
    },
    {
      "cell_type": "markdown",
      "metadata": {
        "id": "skBBV_VV9RiX"
      },
      "source": [
        "De este gráfica se puede observar que existe una  variación del precio medio a medida que nos movemos de izquierda a derecha en las diferentes marcas, no obstente, no sabemos cual marca de carro tienen el impacto más alto y cual menos en la predicción del precio. \n",
        "\n",
        "Mediante ANOVA podemos ver si existe una diferencia significativa entre las medias de los precios de dos o más marcas.\n",
        "\n",
        "Recuerdemos que ANOVA retorna dos valores:\n",
        "\n",
        "* F-value: Que representa la razón de la variación entre la media de los grupos y la variación dentro de cada grupo.\n",
        "\n",
        "* p-value: Que representa la probabilidad de que la hipótesis nula (medias iguales) sea cierta. El valor p respresenta entonces, la significancia estadística.\n",
        "\n",
        "Veamos en una grafica de boxplots como se relacionan las diferentes marcas segun el precio."
      ]
    },
    {
      "cell_type": "code",
      "metadata": {
        "id": "hKhcRHmgmt32"
      },
      "source": [
        "import matplotlib.pyplot as plt\n",
        "import seaborn as sns"
      ],
      "execution_count": 132,
      "outputs": []
    },
    {
      "cell_type": "code",
      "metadata": {
        "id": "olD4JJ-89vjL",
        "colab": {
          "base_uri": "https://localhost:8080/",
          "height": 360
        },
        "outputId": "8b8e946e-be84-4de2-da7d-b8daa67c0a6c"
      },
      "source": [
        "sns.boxplot(x=\"make\", y=\"price\", data=df[[\"make\",\"price\"]])\n",
        "plt.xticks(rotation=90)\n",
        "plt.show()"
      ],
      "execution_count": 133,
      "outputs": [
        {
          "output_type": "display_data",
          "data": {
            "image/png": "[encoded data removed]",
            "text/plain": [
              "<Figure size 432x288 with 1 Axes>"
            ]
          },
          "metadata": {}
        }
      ]
    },
    {
      "cell_type": "markdown",
      "metadata": {
        "id": "LSJZJsam92vY"
      },
      "source": [
        "De esta gráfica resulta dificil establecer si existe una relacion entre la variable categórica \"marca\" y el precio.\n",
        "\n",
        "Con el fin de comprender más a fondo la finalidad de ANOVA y lo que mide, intentemos diferenciar entre precios de carro según las marcas.\n",
        "\n",
        "Iniciemos la comparación entre dos grupos de marcas, aunque la finalidad de ANOVA consiste en diferenciar más de dos grupos (para diferenciar solo dos grupos, la prueba más adecuada es la t-student).\n",
        "\n",
        "De la base de datos de carros, extraigamos solo la marca y el precio y almacenémoslo en un nuevo dataFrame:"
      ]
    },
    {
      "cell_type": "code",
      "metadata": {
        "id": "cZuvBZ9m97AZ"
      },
      "source": [
        "df_test = df[[\"make\",\"price\"]]"
      ],
      "execution_count": 134,
      "outputs": []
    },
    {
      "cell_type": "markdown",
      "metadata": {
        "id": "shmLE_VG9_UD"
      },
      "source": [
        "Creemos una función que nos sirva para escoger dos marcas dadas dentro de la columna de make y que la guarde con el respectivo precio en una nueva variable. Sea esta función escoger2marcas:"
      ]
    },
    {
      "cell_type": "code",
      "metadata": {
        "id": "JE2I-mja993F"
      },
      "source": [
        "def escoger2marcas(df,marca1,marca2):\n",
        "  locations = [bool(df.loc[i][0]==marca1)|bool(df.loc[i][0]==marca2) for i in range(len(df))]\n",
        "  marca1_marca2 = df.loc[:][locations]\n",
        "  \n",
        "  return marca1_marca2"
      ],
      "execution_count": 135,
      "outputs": []
    },
    {
      "cell_type": "markdown",
      "metadata": {
        "id": "gcP7pZQr-GJd"
      },
      "source": [
        "Establezcamos dos pares de marcas cuyo valor medio difieran notablemente y cuyo valor medio sean aproximados con el fin de ver los resultados de un test ANOVA:\n",
        "\n",
        "* Medias diferentes honda vs volvo.\n",
        "* Medias similares volkswagen vs nissan."
      ]
    },
    {
      "cell_type": "code",
      "metadata": {
        "id": "o5h8Ywip-FWn",
        "colab": {
          "base_uri": "https://localhost:8080/",
          "height": 285
        },
        "outputId": "706b95a5-792d-4fd1-9b38-2190e2cac18a"
      },
      "source": [
        "# Grupos de medias diferentes\n",
        "honda_volvo = escoger2marcas(df_test,\"chevrolet\",\"bmw\")\n",
        "sns.boxplot(x=\"make\", y=\"price\", data=honda_volvo)\n",
        "plt.show()"
      ],
      "execution_count": 148,
      "outputs": [
        {
          "output_type": "display_data",
          "data": {
            "image/png": "[encoded data removed]",
            "text/plain": [
              "<Figure size 432x288 with 1 Axes>"
            ]
          },
          "metadata": {}
        }
      ]
    },
    {
      "cell_type": "markdown",
      "metadata": {
        "id": "N9j1uRfp-SR_"
      },
      "source": [
        "Si comparamos dos grupos muy diferentes obtenemos un F-value elevado y un p-value pequeño.\n",
        "\n",
        "Apliquemos ANOVA con scipy.stats:\n",
        "\n",
        "NOTA: la función que verán a continuación de `get_group()` obtienen el subgrupo que se le pase al argumento dentro de una lista, es decir, `test2.get_group('reanault')` devuelve una lista del dataframe solo con la subcategoria `renault`.\n",
        "\n",
        "Agrupemos primero por fabricante el data frame:\n"
      ]
    },
    {
      "cell_type": "code",
      "metadata": {
        "id": "8NRpJXik-dA4",
        "colab": {
          "base_uri": "https://localhost:8080/"
        },
        "outputId": "b714b95b-137e-47ff-b0f1-b2d7006a46e6"
      },
      "source": [
        "df_test2 = df[['make', 'price']].groupby(['make'])\n",
        "print(df_test2.get_group('chevrolet'))\n",
        "print(df_test2.get_group('bmw'))"
      ],
      "execution_count": 149,
      "outputs": [
        {
          "output_type": "stream",
          "name": "stdout",
          "text": [
            "         make   price\n",
            "17  chevrolet  5151.0\n",
            "18  chevrolet  6295.0\n",
            "19  chevrolet  6575.0\n",
            "   make    price\n",
            "9   bmw  16430.0\n",
            "10  bmw  16925.0\n",
            "11  bmw  20970.0\n",
            "12  bmw  21105.0\n",
            "13  bmw  24565.0\n",
            "14  bmw  30760.0\n",
            "15  bmw  41315.0\n",
            "16  bmw  36880.0\n"
          ]
        }
      ]
    },
    {
      "cell_type": "code",
      "metadata": {
        "colab": {
          "base_uri": "https://localhost:8080/"
        },
        "id": "CVUBp1eGnwig",
        "outputId": "ebfec2d4-c3c3-486f-d4e0-d74010a70c80"
      },
      "source": [
        "df_test2.count().loc['volvo']"
      ],
      "execution_count": 145,
      "outputs": [
        {
          "output_type": "execute_result",
          "data": {
            "text/plain": [
              "price    11\n",
              "Name: volvo, dtype: int64"
            ]
          },
          "metadata": {},
          "execution_count": 145
        }
      ]
    },
    {
      "cell_type": "markdown",
      "metadata": {
        "id": "vWUY3QBB-vvP"
      },
      "source": [
        "Realicemos el test ANOVA mediante la librería de scipy y el módulo de stats:"
      ]
    },
    {
      "cell_type": "code",
      "metadata": {
        "id": "jc1Icqe5oX1T"
      },
      "source": [
        "from scipy import stats"
      ],
      "execution_count": 146,
      "outputs": []
    },
    {
      "cell_type": "code",
      "metadata": {
        "id": "FB8W3yGo-osQ",
        "colab": {
          "base_uri": "https://localhost:8080/"
        },
        "outputId": "c0c9c94e-cd2e-40ce-a485-3f720eceb36c"
      },
      "source": [
        "f_val, p_val = stats.f_oneway(df_test2.get_group('chevrolet')['price'], df_test2.get_group('bmw')['price'])  \n",
        "   \n",
        "print( \"ANOVA results: F=\", f_val, \", P =\", p_val)   "
      ],
      "execution_count": 151,
      "outputs": [
        {
          "output_type": "stream",
          "name": "stdout",
          "text": [
            "ANOVA results: F= 13.196514939655819 , P = 0.005462599814656492\n"
          ]
        }
      ]
    },
    {
      "cell_type": "code",
      "metadata": {
        "id": "Hz3Tx8rC-5pT",
        "colab": {
          "base_uri": "https://localhost:8080/",
          "height": 303
        },
        "outputId": "3bd2e63a-62c5-439f-c4bf-4640608d8919"
      },
      "source": [
        "# Grupos de medias similares\n",
        "honda_volvo = escoger2marcas(df_test,\"volkswagen\",\"nissan\")\n",
        "sns.boxplot(x=\"make\", y=\"price\", data=honda_volvo)"
      ],
      "execution_count": 152,
      "outputs": [
        {
          "output_type": "execute_result",
          "data": {
            "text/plain": [
              "<matplotlib.axes._subplots.AxesSubplot at 0x7f060d153b50>"
            ]
          },
          "metadata": {},
          "execution_count": 152
        },
        {
          "output_type": "display_data",
          "data": {
            "image/png": "[encoded data removed]",
            "text/plain": [
              "<Figure size 432x288 with 1 Axes>"
            ]
          },
          "metadata": {}
        }
      ]
    },
    {
      "cell_type": "code",
      "metadata": {
        "id": "8Gk5xdqd_ATD",
        "colab": {
          "base_uri": "https://localhost:8080/"
        },
        "outputId": "7082a68d-6484-464f-d0df-3b1042033c24"
      },
      "source": [
        "f_val, p_val = stats.f_oneway(df_test2.get_group('volkswagen')['price'], df_test2.get_group('volkswagen')['price'])  \n",
        "   \n",
        "print( \"ANOVA results: F=\", f_val, \", P =\", p_val)  "
      ],
      "execution_count": 154,
      "outputs": [
        {
          "output_type": "stream",
          "name": "stdout",
          "text": [
            "ANOVA results: F= 0.0 , P = 1.0\n"
          ]
        }
      ]
    },
    {
      "cell_type": "markdown",
      "metadata": {
        "id": "i6gE3_Kn_C_A"
      },
      "source": [
        "Vemos que con ANOVA tenemos una \"forma cuantitativa\" de corroborar la inspección visual que se realiza con los boxplots.\n",
        "\n",
        "Los resultados del test ANOVA para la comparación de este par de los grupos de marcas de carros es el siguiente:\n",
        "\n",
        "honda vs volvo: El test ANOVA arroja un F-value alto y un p-value pequeño, lo que implica que deberíamos rechazar la hipótesis nula de que las medias de los grupos son aproximadamente iguales. En este sentido ambos grupos son diferentes y guardarian relacion con el precio.\n",
        "volkswagen vs nissan: El test ANOVA arroja un F-value bajo y un p-value alto, lo que indica que debemos aceptar la hipótesis nula de que las medias son aproximadamente iguales y no guardarían correlación con el precio.\n",
        "\n",
        "**Recapitulando**:\n",
        "\n",
        "El test de análisis de varianzas (ANOVA - Analysis Of Variance) es un método estadístico usado para provar las diferencias entre dos o más grupos.\n",
        "\n",
        "ANOVA se usa para el análisis de diferencias generales, en lugar de específicas, entre medias.\n",
        "\n",
        "Mediante un test ANOVA, podemos averiguar si los resultados de un experimento o encuesta son significativos. En otras palabras, el test ANOVA nos permite rechazar o aceptar la hipótesis nula. Básicamente, lo que se hace es probar si existe una diferencia entre grupos. Algunos ejemplos en los que se puede aplicar este método son:\n",
        "\n",
        "Un grupo de pacientes psiquiátricos está probando tres terapias diferentes: asesoramiento, medicación y biorretroalimentación, en el que se desea ver si una terapia es mejor que las otras.\n",
        "\n",
        "Un fabricante que tiene dos procesos diferentes para hacer bombillas y quieren saber si un proceso es mejor que el otro.\n",
        "\n",
        "Los estudiantes de diferentes universidades realizan el mismo examen y se desea ver si una universidad supera a la otra."
      ]
    },
    {
      "cell_type": "markdown",
      "metadata": {
        "id": "deqjsWP1_pG2"
      },
      "source": [
        "<p><a name=\"oneway\"></a></p>\n",
        "\n",
        "## 4.2. One-way ANOVA: Incluyendo varios grupos.\n",
        "\n",
        "[[Contenidos]](#contents)\n",
        "\n",
        "Apliquemos ahora un test ANOVA sobre todos los grupos conformados por las diferentes marcas para ver su relación con el precio.\n",
        "\n",
        "Tengamos que ANOVA lo podemos aplicar de dos formas:\n",
        "\n",
        "1.   Mediante el módulo `stats` de `scipy`\n",
        "2.   Mediante el módulo `statmodels`, ajustando un modelo a los datos.\n",
        "\n",
        "Ambos métodos son similares pero cuentan con implementaciones de fondo, ligeramente diferentes , por lo que los resultados obtenidos de los valores F-value y p-value son, también, ligeramente diferentes.\n",
        "\n"
      ]
    },
    {
      "cell_type": "markdown",
      "metadata": {
        "id": "FO_QHbiEDLJF"
      },
      "source": [
        "**ANOVA - mediante el módulo stats de scipy**:\n",
        "\n",
        "Procedamos a ver todas las marcas de carros de nuestro dataset:"
      ]
    },
    {
      "cell_type": "code",
      "metadata": {
        "id": "2mmhZwC9DTNX"
      },
      "source": [
        "df[\"make\"].unique()"
      ],
      "execution_count": null,
      "outputs": []
    },
    {
      "cell_type": "code",
      "metadata": {
        "id": "afIxVVF4DZ5x"
      },
      "source": [
        "from scipy import stats\n",
        "f_val, p_val = stats.f_oneway(df_test2.get_group('alfa-romero')['price'],df_test2.get_group('audi')['price'],df_test2.get_group('bmw')['price'],df_test2.get_group('chevrolet')['price'],df_test2.get_group('dodge')['price'],df_test2.get_group('honda')['price'],df_test2.get_group('jaguar')['price'],df_test2.get_group('mazda')['price'],df_test2.get_group('mercedes-benz')['price'],df_test2.get_group('mercury')['price'],df_test2.get_group('mitsubishi')['price'],df_test2.get_group('nissan')['price'],df_test2.get_group('peugot')['price'],df_test2.get_group('plymouth')['price'],df_test2.get_group('porsche')['price'],df_test2.get_group('renault')['price'],df_test2.get_group('saab')['price'],df_test2.get_group('subaru')['price'],df_test2.get_group('toyota')['price'],df_test2.get_group('volkswagen')['price'],df_test2.get_group('volvo')['price'])  \n",
        "   \n",
        "print(\"ANOVA results: F=\", f_val, \", P =\", p_val)   "
      ],
      "execution_count": null,
      "outputs": []
    },
    {
      "cell_type": "markdown",
      "metadata": {
        "id": "qP7vkxTfDAZy"
      },
      "source": [
        "**ANOVA - mediante statsmodels:**"
      ]
    },
    {
      "cell_type": "code",
      "metadata": {
        "id": "a7qNzuWi_oLb"
      },
      "source": [
        "import statsmodels.api as sm\n",
        "from statsmodels.formula.api import ols\n",
        "\n",
        "results = ols('price ~ C(make)', data=df).fit()\n",
        "results.summary()"
      ],
      "execution_count": null,
      "outputs": []
    },
    {
      "cell_type": "code",
      "metadata": {
        "id": "yvpiHiIUD2vw"
      },
      "source": [
        "aov_table = sm.stats.anova_lm(results, typ=2)\n",
        "aov_table"
      ],
      "execution_count": null,
      "outputs": []
    },
    {
      "cell_type": "markdown",
      "metadata": {
        "id": "rYrpEdWBD9LA"
      },
      "source": [
        "De los resultados del test ANOVA para todas las las marcas, podemos concluir que puede ser un buen predictor del precio, no obstante, no podemos concluir cuales marcas no aportan diferencias en relación al precio.\n",
        "\n",
        "Para hallar los grupos que contribuyen más a diferenciar los precios y cuales menos, debemos hacer un test post-hoc."
      ]
    },
    {
      "cell_type": "markdown",
      "metadata": {
        "id": "7TLlqCNIEDxS"
      },
      "source": [
        "**Test Post-hoc:**\n",
        "\n",
        "No entraremos en detalle sobre la parte teórica de un test post-hoc, sino que nos centraremos los resultados que arroja la prueba.\n",
        "\n",
        "Hay algunas técnicas diferentes que se pueden utilizar para establecer que grupos contribuyen o no a diferenciar el precio. Cada una de estas técnicas tiene diferentes formas de controlar el [tasa de error por familia](https://support.minitab.com/es-mx/minitab/18/help-and-how-to/modeling-statistics/anova/supporting-topics/multiple-comparisons/what-are-individual-and-family-error-rates/). Los métodos principales que pueden encontrarse en python son:\n",
        "\n",
        "* Fisher’s Least Significant Difference (LSD).\n",
        "* Bonferroni correction.\n",
        "* Tukey’s HSD.\n",
        "\n",
        "Usemos el último de estos para hacer un test post-hoc."
      ]
    },
    {
      "cell_type": "code",
      "metadata": {
        "id": "MwnaiAEdER_7"
      },
      "source": [
        "#Implementemos el método de Turkey's:\n",
        "from statsmodels.stats.multicomp import pairwise_tukeyhsd\n",
        "from statsmodels.stats.multicomp import MultiComparison\n",
        "\n",
        "mc = MultiComparison(df['price'], df['make'])\n",
        "mc_results = mc.tukeyhsd()\n",
        "print(mc_results)"
      ],
      "execution_count": null,
      "outputs": []
    },
    {
      "cell_type": "markdown",
      "metadata": {
        "id": "L1yMVGSzEY07"
      },
      "source": [
        "El test post-hoc Turkey HDS contrala el error tipo I y mantienen el la tasa de error familiar en 0.05 (en la tabla se indica como FWER=0.05). Sobre la tabla anterior se tiene que: \n",
        "* Las columnas \"grupo1\" y grupo2 corresponden a los grupos que son comparados. \n",
        "* `meandiff` representa la diferencia en valores medios de los grupos calculados (group1-group2).\n",
        "* Las columnas `lower` y `upper` corresponden a los límites inferior y superior del intervalo de confianza del 95%.\n",
        "* En la columna `reject` se establece si debemos rechazar o no la hipotesis nula (medias iguales). "
      ]
    }
  ]
}