{
  "nbformat": 4,
  "nbformat_minor": 0,
  "metadata": {
    "colab": {
      "name": "S05_Bases_Estadisticas_Version_Clase.ipynb",
      "provenance": [],
      "collapsed_sections": [],
      "include_colab_link": true
    },
    "kernelspec": {
      "name": "python3",
      "display_name": "Python 3"
    },
    "language_info": {
      "name": "python"
    }
  },
  "cells": [
    {
      "cell_type": "markdown",
      "metadata": {
        "id": "view-in-github",
        "colab_type": "text"
      },
      "source": [
        "<a href=\"https://colab.research.google.com/github/ssanchezgoe/eafit_isa/blob/main/Nb_Google_Colab/S05_Bases_Estadisticas_Version_Clase.ipynb\" target=\"_parent\"><img src=\"https://colab.research.google.com/assets/colab-badge.svg\" alt=\"Open In Colab\"/></a>"
      ]
    },
    {
      "cell_type": "markdown",
      "metadata": {
        "id": "D8XsvcYOlYfz"
      },
      "source": [
        "  <tr>\n",
        "     <th><p><img alt=\"Colaboratory logo\" height=\"80px\" src=\"https://upload.wikimedia.org/wikipedia/commons/thumb/8/83/Sena_Colombia_logo.svg/1045px-Sena_Colombia_logo.svg.png\" align=\"left\" hspace=\"10px\" vspace=\"0px\"></p></th> \n",
        "    <th><p><img alt=\"Colaboratory logo\" height=\"80px\" src=\"https://www.isa.co/wp-content/uploads/2020/11/logo.png\" align=\"right\" hspace=\"10px\" vspace=\"0px\"></p></th>\n",
        "    <th><p><img alt=\"Colaboratory logo\" height=\"80px\" src=\"https://upload.wikimedia.org/wikipedia/commons/b/bf/EAFIT-2015.png\" align=\"left\" hspace=\"10px\" vspace=\"0px\"></p></th> \n",
        "     <th><h1>  Bases de Estadística Básica Aplicada </h1></th>\n",
        "  </tr>\n",
        "\n",
        "\n",
        "\n",
        "\n",
        "\n",
        "\n"
      ]
    },
    {
      "cell_type": "markdown",
      "metadata": {
        "id": "UBAGa-A40g6Q"
      },
      "source": [
        "<p><a name=\"contents\"></a></p>\n",
        "\n",
        "# Contenido Sesión: Introducción al Machine Learning.\n",
        "\n",
        "- <a href=\"#ML\">1. Modelos basados en datos y Machine Learning</a><br>\n",
        "  - <a href=\"#modelML\">1.1. Modelos que se pueden construir</code></a><br>\n",
        "  - <a href=\"#terms\">1.2. Terminología</code></a><br>\n",
        "  - <a href=\"#supML\">1.3. Aprendizaje supervisado</code></a><br>\n",
        "  - <a href=\"#nonsupML\">1.4. Aprendizaje no supervisado</code></a><br>\n",
        "  - <a href=\"#data\">1.5. Observaciones acerca de los datos</code></a><br>\n",
        "- <a href=\"#sklearn\">2. Introducción a Scikit-Learn</a><br>\n",
        "  - <a href=\"#sklearnG\">2.1 Generalidades</a><br>\n",
        "  - <a href=\"#sklearnT\">2.2. Tratamiento de datos</a><br>\n",
        "    - <a href=\"#sklearnTT\">2.2.1 Datos de entrenamiento y de prueba</a><br>\n",
        "    - <a href=\"#sklearnCT\">2.2.2 Conversión de variables categóricas</a><br>\n",
        "    - <a href=\"#sklearnFS\">2.2.3 Escalamiento de características</a><br>\n",
        "    - <a href=\"#sklearnPL\">2.2.4 Pipeline</a><br>\n",
        "- <a href=\"#taller\">3. Taller</a><br>\n",
        "\n",
        "\n"
      ]
    },
    {
      "cell_type": "markdown",
      "metadata": {
        "id": "QE8JRK9e5uT6"
      },
      "source": [
        "<p><a name=\"ML\"></a></p>\n",
        "\n",
        "# 1. Modelos basados en datos y Machine Learning\n",
        "\n",
        "[Contenidos](#contents) "
      ]
    },
    {
      "cell_type": "markdown",
      "metadata": {
        "id": "QON9ti9x6anA"
      },
      "source": [
        "<p><a name=\"modelML\"></a></p>\n",
        "\n",
        "## 1.1. Modelos que se pueden construir\n",
        "\n",
        "[Contenidos](#contents)\n"
      ]
    },
    {
      "cell_type": "markdown",
      "metadata": {
        "id": "uFOQl_5Qs_3e"
      },
      "source": [
        "¿Qué es un modelo derivado de los datos?\n",
        "\n",
        "Caso ideal: Sabemos las distribuciones de las que vienen los datos. ⇒ podemos calcular analíticamente nuestro modelo.\n",
        "\n",
        "¿Podemos encontrar un modelo con 100% de acierto? ¿Por qué sí, o por qué no?\n",
        "\n"
      ]
    },
    {
      "cell_type": "code",
      "metadata": {
        "id": "_pGwvGxGo2Ix",
        "colab": {
          "base_uri": "https://localhost:8080/",
          "height": 279
        },
        "outputId": "0852e8d5-7293-4a55-bd2a-6e979d6aa39f"
      },
      "source": [
        "from scipy import stats\n",
        "from scipy import optimize\n",
        "import numpy as np\n",
        "import matplotlib.pyplot as plt\n",
        "\n",
        "\n",
        "d1 = stats.norm(loc=10,scale=2)\n",
        "d2 = stats.norm(loc=17,scale=3)\n",
        "\n",
        "\n",
        "x = np.linspace(0,30,100)\n",
        "plt.plot(x, d1.pdf(x), color=\"red\", label=\"pop 1\")\n",
        "plt.plot(x, d2.pdf(x), color=\"blue\", label=\"pop 2\")\n",
        "plt.xlabel('Size')\n",
        "plt.ylabel('PDF')\n",
        "plt.grid()\n",
        "plt.legend();"
      ],
      "execution_count": null,
      "outputs": [
        {
          "output_type": "display_data",
          "data": {
            "image/png": "[encoded data removed]",
            "text/plain": [
              "<Figure size 432x288 with 1 Axes>"
            ]
          },
          "metadata": {
            "needs_background": "light"
          }
        }
      ]
    },
    {
      "cell_type": "markdown",
      "metadata": {
        "id": "23tURt3KTU0-"
      },
      "source": [
        "**Cálculo de la frontera óptima** (conocida también como _frontera bayesiana_)."
      ]
    },
    {
      "cell_type": "code",
      "metadata": {
        "id": "lsDaOt7otIrE",
        "colab": {
          "base_uri": "https://localhost:8080/",
          "height": 297
        },
        "outputId": "865469ac-9471-43c0-d164-54ff809d4315"
      },
      "source": [
        "x = np.linspace(5,25,1000)\n",
        "minx = x[np.argmin(np.abs(d1.pdf(x)-d2.pdf(x)))]\n",
        "\n",
        "print (\"frontera óptima en %.2f\"%minx)\n",
        "\n",
        "x = np.linspace(0,30,100)\n",
        "plt.plot(x, d1.pdf(x), color=\"red\", label=\"pop 1\")\n",
        "plt.plot(x, d2.pdf(x), color=\"blue\", label=\"pop 2\")\n",
        "plt.axvline(minx, color=\"black\", label=u\"óptimo = %.2f\"%minx)\n",
        "plt.xlabel('Size')\n",
        "plt.ylabel('PDF')\n",
        "plt.grid()\n",
        "plt.legend();"
      ],
      "execution_count": null,
      "outputs": [
        {
          "output_type": "stream",
          "name": "stdout",
          "text": [
            "frontera óptima en 13.15\n"
          ]
        },
        {
          "output_type": "display_data",
          "data": {
            "image/png": "[encoded data removed]",
            "text/plain": [
              "<Figure size 432x288 with 1 Axes>"
            ]
          },
          "metadata": {
            "needs_background": "light"
          }
        }
      ]
    },
    {
      "cell_type": "markdown",
      "metadata": {
        "id": "PDmE8KVMtXEB"
      },
      "source": [
        "Cálculo analítico de los errores de clasificación"
      ]
    },
    {
      "cell_type": "code",
      "metadata": {
        "id": "i56j_xf5tWaH",
        "colab": {
          "base_uri": "https://localhost:8080/"
        },
        "outputId": "e9397b63-2dde-459b-9e19-28e72f9a9a64"
      },
      "source": [
        "print (\"pop 1 error\", 1-d1.cdf(minx))\n",
        "print (\"pop 2 error\", d2.cdf(minx))"
      ],
      "execution_count": null,
      "outputs": [
        {
          "output_type": "stream",
          "name": "stdout",
          "text": [
            "pop 1 error 0.05773516274534907\n",
            "pop 2 error 0.09957961739117976\n"
          ]
        }
      ]
    },
    {
      "cell_type": "markdown",
      "metadata": {
        "id": "fFrU-pa5SIkY"
      },
      "source": [
        "### Caso 1D"
      ]
    },
    {
      "cell_type": "markdown",
      "metadata": {
        "id": "34WQy9SBtzCB"
      },
      "source": [
        "**Caso real**: Tenemos una muestra de los datos \n",
        "\n",
        "$\\rightarrow$ ¿Cómo determinamos donde poner la frontera?\n",
        "\n",
        "$\\rightarrow$ ¿Qué frontera qusiéramos obtener?"
      ]
    },
    {
      "cell_type": "code",
      "metadata": {
        "id": "J1g4z-Hmt6Zc"
      },
      "source": [
        "# Función para construir y graficar datasets con dos grupos, rojos y azules, en una dimensión\n",
        "def show_1D_dataset_samples(n, n_datasets=10, dot_alpha=.5, line_alpha=.5, figsize=(20,5)):\n",
        "    from sklearn.tree import DecisionTreeClassifier\n",
        "    plt.figure(figsize=figsize)\n",
        "    for i in range(n_datasets):\n",
        "\n",
        "        m1 = d1.rvs(n)\n",
        "        m2 = d2.rvs(n)\n",
        "        X = np.append(m1, m2).reshape(-1,1)\n",
        "        y = np.r_[[0]*len(m1)+[1]*len(m2)]\n",
        "        estimator = DecisionTreeClassifier(max_depth=1)\n",
        "        estimator.fit(X,y)\n",
        "        Xr = np.linspace(5, 30, 100).reshape(-1,1)\n",
        "        yr = estimator.predict(Xr)\n",
        "        plt.plot(Xr[yr==0], [i]*np.sum(yr==0), color=\"red\", alpha=line_alpha, lw=4)\n",
        "        plt.plot(Xr[yr==1], [i]*np.sum(yr==1), color=\"blue\", alpha=line_alpha, lw=4)\n",
        "        plt.scatter(m1, [i+.1]*len(m1), color=\"red\", alpha=dot_alpha, s=100)\n",
        "        plt.scatter(m2, [i+.1]*len(m2), color=\"blue\", alpha=dot_alpha, s=100)\n",
        "    plt.axis(\"off\")"
      ],
      "execution_count": null,
      "outputs": []
    },
    {
      "cell_type": "code",
      "metadata": {
        "id": "knqaRgu0t7ZJ",
        "colab": {
          "base_uri": "https://localhost:8080/",
          "height": 119
        },
        "outputId": "bcd1c8e5-fb57-4f66-8778-1864eff65a6d"
      },
      "source": [
        "show_1D_dataset_samples(10, n_datasets=1, dot_alpha=.5, line_alpha=0, figsize=(20,1))\n",
        "plt.axis(\"on\")\n",
        "plt.ylim(.095, .105)\n",
        "plt.yticks([])\n",
        "plt.axhline(.1, color=\"black\", alpha=.2)"
      ],
      "execution_count": null,
      "outputs": [
        {
          "output_type": "execute_result",
          "data": {
            "text/plain": [
              "<matplotlib.lines.Line2D at 0x7f09020d8b50>"
            ]
          },
          "metadata": {},
          "execution_count": 6
        },
        {
          "output_type": "display_data",
          "data": {
            "image/png": "[encoded data removed]",
            "text/plain": [
              "<Figure size 1440x72 with 1 Axes>"
            ]
          },
          "metadata": {
            "needs_background": "light"
          }
        }
      ]
    },
    {
      "cell_type": "markdown",
      "metadata": {
        "id": "BqjE_uV-0G71"
      },
      "source": [
        "Veamos como se puede mejorar la definición de la frontera a medida que aumentamos la cantidad de muestras."
      ]
    },
    {
      "cell_type": "code",
      "metadata": {
        "id": "tXaNZLRqt75l",
        "colab": {
          "base_uri": "https://localhost:8080/",
          "height": 303
        },
        "outputId": "db7bb5cf-557d-48aa-93d3-a2ad58584bb6"
      },
      "source": [
        "show_1D_dataset_samples(10, dot_alpha=.3)"
      ],
      "execution_count": null,
      "outputs": [
        {
          "output_type": "display_data",
          "data": {
            "image/png": "[encoded data removed]",
            "text/plain": [
              "<Figure size 1440x360 with 1 Axes>"
            ]
          },
          "metadata": {
            "needs_background": "light"
          }
        }
      ]
    },
    {
      "cell_type": "code",
      "metadata": {
        "id": "TK87NcF2t8Nu",
        "colab": {
          "base_uri": "https://localhost:8080/",
          "height": 303
        },
        "outputId": "1738eb61-6778-4e0c-a445-b119bbb83c90"
      },
      "source": [
        "show_1D_dataset_samples(100, dot_alpha=.05)"
      ],
      "execution_count": null,
      "outputs": [
        {
          "output_type": "display_data",
          "data": {
            "image/png": "[encoded data removed]",
            "text/plain": [
              "<Figure size 1440x360 with 1 Axes>"
            ]
          },
          "metadata": {
            "needs_background": "light"
          }
        }
      ]
    },
    {
      "cell_type": "code",
      "metadata": {
        "id": "vhWNrFP4t8hz",
        "colab": {
          "base_uri": "https://localhost:8080/",
          "height": 303
        },
        "outputId": "81ad7732-6b4c-4feb-fa2a-baa749283a45"
      },
      "source": [
        "show_1D_dataset_samples(10000, dot_alpha=.001)"
      ],
      "execution_count": null,
      "outputs": [
        {
          "output_type": "display_data",
          "data": {
            "image/png": "[encoded data removed]",
            "text/plain": [
              "<Figure size 1440x360 with 1 Axes>"
            ]
          },
          "metadata": {
            "needs_background": "light"
          }
        }
      ]
    },
    {
      "cell_type": "markdown",
      "metadata": {
        "id": "lXrFYHtUPTPo"
      },
      "source": [
        "### Caso en 2D\n",
        "\n",
        "- En 2D, un modelo de clasificación **es una frontera** en el plano\n",
        "\n",
        "\n",
        "- **Objetivo:** hallar la frontera que produce menos error de clasificación\n"
      ]
    },
    {
      "cell_type": "code",
      "metadata": {
        "id": "n7wNSKZYctIA",
        "colab": {
          "base_uri": "https://localhost:8080/"
        },
        "outputId": "e006f0d7-f8e5-4a55-db90-0900626aca18"
      },
      "source": [
        "# copiando el archivo mlutils.py en la carpeta local\n",
        "!wget \"https://raw.githubusercontent.com/diplomado-bigdata-machinelearning-udea/Curso1/master/s06/mlutils.py\""
      ],
      "execution_count": null,
      "outputs": [
        {
          "output_type": "stream",
          "name": "stdout",
          "text": [
            "--2021-09-10 12:21:45--  https://raw.githubusercontent.com/diplomado-bigdata-machinelearning-udea/Curso1/master/s06/mlutils.py\n",
            "Resolving raw.githubusercontent.com (raw.githubusercontent.com)... 185.199.110.133, 185.199.109.133, 185.199.108.133, ...\n",
            "Connecting to raw.githubusercontent.com (raw.githubusercontent.com)|185.199.110.133|:443... connected.\n",
            "HTTP request sent, awaiting response... 200 OK\n",
            "Length: 10691 (10K) [text/plain]\n",
            "Saving to: ‘mlutils.py’\n",
            "\n",
            "\rmlutils.py            0%[                    ]       0  --.-KB/s               \rmlutils.py          100%[===================>]  10.44K  --.-KB/s    in 0s      \n",
            "\n",
            "2021-09-10 12:21:45 (60.8 MB/s) - ‘mlutils.py’ saved [10691/10691]\n",
            "\n"
          ]
        }
      ]
    },
    {
      "cell_type": "code",
      "metadata": {
        "id": "9QstlcMfPrYy"
      },
      "source": [
        "import mlutils \n",
        "import numpy as np\n",
        "import matplotlib.pyplot as plt\n",
        "from sklearn.metrics import accuracy_score\n",
        "from sklearn.model_selection import train_test_split"
      ],
      "execution_count": null,
      "outputs": []
    },
    {
      "cell_type": "markdown",
      "metadata": {
        "id": "bwZUY6ggRUYw"
      },
      "source": [
        "Muestreo de datos \"pseudoaleatoria\" para clasificar en dos grupos: rojos, azules"
      ]
    },
    {
      "cell_type": "code",
      "metadata": {
        "id": "JgsqtEGUPrKL",
        "colab": {
          "base_uri": "https://localhost:8080/",
          "height": 279
        },
        "outputId": "dc77943a-479d-4bae-eecf-d80bc67ae028"
      },
      "source": [
        "mc = mlutils.Example_Bayes2DClassifier(mean0=[1.5, 2.5], cov0=[[0.1, 0.], [0., 0.1]],\n",
        "                                        mean1=[1.5, 2.], cov1=[[0.2,0.1],[0.1,.2]])\n",
        "X,y = mc.sample(100)\n",
        "mlutils.plot_2Ddata(X, y)\n",
        "plt.xlabel('Ancho')\n",
        "plt.ylabel('Alto')\n",
        "plt.show()"
      ],
      "execution_count": null,
      "outputs": [
        {
          "output_type": "display_data",
          "data": {
            "image/png": "[encoded data removed]",
            "text/plain": [
              "<Figure size 432x288 with 1 Axes>"
            ]
          },
          "metadata": {
            "needs_background": "light"
          }
        }
      ]
    },
    {
      "cell_type": "markdown",
      "metadata": {
        "id": "WYoGrKCHUES3"
      },
      "source": [
        "Clasificador lineal"
      ]
    },
    {
      "cell_type": "code",
      "metadata": {
        "id": "Wh2oDs3APqoX",
        "colab": {
          "base_uri": "https://localhost:8080/",
          "height": 279
        },
        "outputId": "29c3bcb5-1e2f-4e83-cf39-9994781fcac9"
      },
      "source": [
        "from sklearn.linear_model import LogisticRegression\n",
        "estimador=LogisticRegression()\n",
        "estimador.fit(X,y)\n",
        "mlutils.plot_2Ddata_with_boundary(estimador.predict,X,y)\n",
        "plt.xlabel('Ancho')\n",
        "plt.ylabel('Alto')\n",
        "plt.show()"
      ],
      "execution_count": null,
      "outputs": [
        {
          "output_type": "display_data",
          "data": {
            "image/png": "[encoded data removed]",
            "text/plain": [
              "<Figure size 432x288 with 1 Axes>"
            ]
          },
          "metadata": {
            "needs_background": "light"
          }
        }
      ]
    },
    {
      "cell_type": "markdown",
      "metadata": {
        "id": "swTUSq8LUITV"
      },
      "source": [
        "Clasificador bosque aleatorio"
      ]
    },
    {
      "cell_type": "code",
      "metadata": {
        "id": "qlabETUtQVGH",
        "colab": {
          "base_uri": "https://localhost:8080/",
          "height": 279
        },
        "outputId": "dca9f19d-8e26-428c-c4cd-d1c84894874a"
      },
      "source": [
        "from sklearn.ensemble import RandomForestClassifier\n",
        "estimador=RandomForestClassifier()\n",
        "estimador.fit(X,y)\n",
        "mlutils.plot_2Ddata_with_boundary(estimador.predict,X,y)\n",
        "plt.xlabel('Ancho')\n",
        "plt.ylabel('Alto')\n",
        "plt.show()"
      ],
      "execution_count": null,
      "outputs": [
        {
          "output_type": "display_data",
          "data": {
            "image/png": "[encoded data removed]",
            "text/plain": [
              "<Figure size 432x288 with 1 Axes>"
            ]
          },
          "metadata": {
            "needs_background": "light"
          }
        }
      ]
    },
    {
      "cell_type": "markdown",
      "metadata": {
        "id": "QDkkUrgSULjV"
      },
      "source": [
        "Clasificador máquina de soporte vectorial"
      ]
    },
    {
      "cell_type": "code",
      "metadata": {
        "id": "D7U8ayfuQXIP",
        "colab": {
          "base_uri": "https://localhost:8080/",
          "height": 279
        },
        "outputId": "d9eae118-7377-4f5b-be7a-74357e313969"
      },
      "source": [
        "from sklearn.svm import SVC\n",
        "estimador=SVC()\n",
        "estimador.fit(X,y)\n",
        "mlutils.plot_2Ddata_with_boundary(estimador.predict,X,y)\n",
        "plt.xlabel('Ancho')\n",
        "plt.ylabel('Alto')\n",
        "plt.show()"
      ],
      "execution_count": null,
      "outputs": [
        {
          "output_type": "display_data",
          "data": {
            "image/png": "[encoded data removed]",
            "text/plain": [
              "<Figure size 432x288 with 1 Axes>"
            ]
          },
          "metadata": {
            "needs_background": "light"
          }
        }
      ]
    },
    {
      "cell_type": "markdown",
      "metadata": {
        "id": "g8wPtmG1QdQ1"
      },
      "source": [
        "**Los algoritmos de machine learning:**\n",
        "\n",
        "- Los algoritmos de clasificación **calculan fronteras** entre los datos.\n",
        "- Parten de una muestra de los datos, **no de las distribuciones**.\n",
        "- Por tanto, **no conocemos** la forma de la frontera bayesiana. O sea, **partimos ciegos**!!!!!!!\n",
        "\n",
        "Para abordar esta situación, **cualquier algoritmo** tiene necesariamente que plantear una alguna suposición de base:\n",
        "\n",
        "- los datos vienen de distribuciones normales.\n",
        "- las columnas son estadísticamente independientes.\n",
        "- la frontera es lineal, o cuadrática.\n",
        "\n",
        "Teniendo esto en cuenta, y **partiendo de una muestra de los datos**:\n",
        "\n",
        "- el objetivo de un usuario de ML es acercarse lo más posible a la **frontera bayesiana** (que no sabemos cómo es).\n",
        "- distintos algoritmos ML tienen **distintas capacidades** para modelar fronteras (un clasificador lineal no puede captuarar una frontera cuadrática).\n",
        "- necesitamos dos tipos de herramientas:\n",
        "   - una buena colección de algoritmos ML.\n",
        "   - métodos para saber qué tan cerca estamos de la frontera bayesiana."
      ]
    },
    {
      "cell_type": "markdown",
      "metadata": {
        "id": "enrgilAHD5uI"
      },
      "source": [
        "<p><a name=\"terms\"></a></p>\n",
        "\n",
        "## 1.2. Terminología\n",
        "\n",
        "[Contenidos](#contents)\n",
        "\n",
        "Existen conceptos clave que sientan las bases para una mejor comprensión del ML. Aprenderemos la nomenclatura (términos estándar) que se utiliza para describir los datos, así como los términos utilizados para describir el aprendizaje y el modelado.\n"
      ]
    },
    {
      "cell_type": "markdown",
      "metadata": {
        "id": "UrS-hbyBKjbe"
      },
      "source": [
        "La estructura tradicional para los datos en el campo del ML tienen la siguiente forma:"
      ]
    },
    {
      "cell_type": "markdown",
      "metadata": {
        "id": "1qQuZF4_JVNw"
      },
      "source": [
        "![picture](https://3qeqpr26caki16dnhd19sv6by6v-wpengine.netdna-ssl.com/wp-content/uploads/2013/12/Table-of-Data-Showing-an-Instance-Feature-and-Train-Test-Datasets.png)"
      ]
    },
    {
      "cell_type": "markdown",
      "metadata": {
        "id": "O9iBiOaPLwF3"
      },
      "source": [
        "* **Instancia**: A una sola fila de datos se le llama instancia. También se le conoce como una observación del dominio.\n",
        "* **Característica** (Feature): A una sola columna de datos se le llama característica. Es un componente de una observación y también se denomina atributo de una instancia de datos (La característica se suele asociar con el atributo y su valor, aunque la mayoría de las veces se usa atributo y característica indistintamente). Algunas características pueden ser entradas a un modelo (predictores) y otras pueden ser salidas o las características a predecir (también llamadas *labels*).\n",
        "* **Datos de entrenamiento**: Conjunto de datos que introducimos a nuestro algoritmo para entrenar nuestro modelo.\n",
        "* **Datos de prueba**: Conjunto de datos que utilizamos para validar la precisión de nuestro modelo pero que no se utiliza para entrenarlo. Puede llamarse conjunto de datos de validación.\n",
        "\n",
        "Otros términos que utilizaremos frecuentemente son:\n",
        "\n",
        "* **Parámetros del modelo**: Son aquellos que pertenecen al modelo utilizado para realizar el procedimiento de ajuste\n",
        "* **Hiperparámetros**: Es un parámetro de un algoritmo de aprendizaje (no del\n",
        "modelo). Como tal, no se ve afectado por el algoritmo de aprendizaje en sí; debe establecerse antes\n",
        "al entrenamiento y permanece constante durante el entrenamiento.\n",
        "* **Métrica**: Medida cuantitativa usada para evaluar el rendimiento del algoritmo.\n"
      ]
    },
    {
      "cell_type": "markdown",
      "metadata": {
        "id": "0jFVPnpF6alS"
      },
      "source": [
        "<p><a name=\"supML\"></a></p>\n",
        "\n",
        "## 1.3. Aprendizaje supervisado\n",
        "\n",
        "[Contenidos](#contents)\n",
        "\n",
        "El aprendizaje supervisado implica de alguna manera modelar la relación entre las características de los datos y alguna etiqueta asociada a estos; una vez que se determina el modelo, se puede usar para asociar etiquetas a datos nuevos y desconocidos. El aprendizaje supervisado se subdivide en clasificación y regresión: En clasificación se tienen etiquetas discretas, mientras que en la regresión, las etiquetas son cantidades continuas."
      ]
    },
    {
      "cell_type": "markdown",
      "metadata": {
        "id": "IuCUGAGcTPi5"
      },
      "source": [
        "### 1.3.1 Clasificación: Prediciendo etiquetas discretas.\n",
        "\n",
        "En clasificación, tenemos un conjunto de puntos etiquetados y deseamos utilizarlos para clasificar algunos puntos no etiquetados. Imaginemos que tenemos los datos que se muestran en la siguiente figura\n",
        "\n",
        "![picture](https://raw.githubusercontent.com/jakevdp/PythonDataScienceHandbook/master/notebooks/figures/05.01-classification-1.png)\n",
        "\n",
        "Tenemos dos características para cada punto, representadas por las posiciones (x, y). Además, tenemos una de las dos etiquetas de clases para cada punto, representadas por los colores de los puntos. A partir de estas características y etiquetas, nos gustaría crear un modelo que nos permita decidir si un nuevo punto debe etiquetarse como \"azul\" o \"rojo\". Un posible modelo es asumir que los dos grupos pueden separarse dibujando una línea recta a través del plano entre ellos, de modo que los puntos a cada lado de la línea caen en el mismo grupo.\n",
        "\n",
        "![picture](https://raw.githubusercontent.com/jakevdp/PythonDataScienceHandbook/master/notebooks/figures/05.01-classification-2.png)\n",
        "\n",
        "Este modelo es una versión cuantitativa del enunciado \"una línea recta separa las clases\", mientras que los parámetros del modelo son los números que describen la ubicación y orientación de la línea. Los valores óptimos para estos parámetros se aprenden de los datos (este es el \"aprendizaje\" en ML), que a menudo se denomina *entrenar el modelo*. Ahora que el modelo ha sido entrenado, se puede generalizar a datos nuevos sin etiquetas. Esta etapa generalmente se llama *predicción*.\n"
      ]
    },
    {
      "cell_type": "markdown",
      "metadata": {
        "id": "OiuuQ3avA715"
      },
      "source": [
        "<p><a name=\"nonsupML\"></a></p>\n",
        "\n",
        "## 1.4. Aprendizaje no supervisado\n",
        "\n",
        "[Contenidos](#contents)\n"
      ]
    },
    {
      "cell_type": "markdown",
      "metadata": {
        "id": "ywih9nDHp5kT"
      },
      "source": [
        "El aprendizaje no supervisado implica modelos que describen datos sin referencia a cualquier etiqueta conocida. Un caso común de aprendizaje no supervisado es el de *agrupamiento* (clustering) en el que los datos se asignan automáticamente a un cierto número de grupos discretos. Por ejemplo, podríamos tener algunos datos bidimensionales\n",
        "\n",
        "![picture](https://raw.githubusercontent.com/jakevdp/PythonDataScienceHandbook/master/notebooks/figures/05.01-clustering-1.png)\n",
        "\n",
        "A simple vista, está claro que cada uno de estos puntos es parte de un grupo distinto. Dada esta entrada, un modelo de agrupamiento utilizará la estructura intrínseca de los datos para determinar qué puntos están relacionados, con un resultado como el siguiente\n",
        "\n",
        "![picture](https://raw.githubusercontent.com/jakevdp/PythonDataScienceHandbook/master/notebooks/figures/05.01-clustering-2.png)\n",
        "\n",
        "Algunos algoritmos de aprendizaje no supervisado son:\n",
        "\n",
        "* Agrupamiento\n",
        "  * Jerárquico\n",
        "  * Basado en densidad\n",
        "  * k-medias\n",
        "* Detección de anomalías\n",
        "* Visualización y reducción dimensional\n"
      ]
    },
    {
      "cell_type": "markdown",
      "metadata": {
        "id": "edtIjb8esqNG"
      },
      "source": [
        "<p><a name=\"data\"></a></p>\n",
        "\n",
        "## 1.5. Observaciones acerca de los datos\n",
        "\n",
        "[Contenidos](#contents)\n",
        "\n",
        "* **Cantidad insuficiente de datos de entrenamiento**: Se necesitan muchos datos para que la mayoría de los algoritmos de ML funcionen correctamente. Incluso para problemas muy simples, generalmente se necesitan miles de ejemplos, y para problemas complejos como el reconocimiento de imágenes o de voz puede necesitarse millones de ejemplos. \n",
        "\n",
        "* **Datos de entrenamiento no representativos**: Para generalizar bien, es crucial que los datos de entrenamiento sean representativos de los nuevos casos que desea generalizar. Al usar un conjunto de entrenamiento no representativo, entrenamos un modelo con el cual es poco probable obtener predicciones precisas. Incluso muestras muy grandes pueden no ser representativas si el método de muestreo es defectuoso (sesgo en el muestreo).\n",
        "\n",
        "* **Datos de baja calidad**: Obviamente, si los datos de entrenamiento están llenos de errores, valores atípicos y ruido (por ejemplo, debido a mediciones de baja calidad), será más difícil para el algoritmo detectar los patrones subyacentes, por lo que es menos probable que funcione bien. ¡Siempre vale la pena dedicar tiempo a limpiar los datos de entrenamiento!\n",
        "\n",
        "* **Características irrelevantes**: El sistema solo será capaz de aprender si los datos de entrenamiento contienen suficientes características relevantes y no demasiadas irrelevantes. Una parte fundamental del éxito de un proyecto de ML es crear un buen conjunto de características para el entrenamiento. Este proceso se conoce como ingeniería de características. \n",
        "\n",
        "### ¡Los datos son más importantes que los algoritmos!"
      ]
    },
    {
      "cell_type": "markdown",
      "metadata": {
        "id": "d_A9WFzM546Y"
      },
      "source": [
        "<p><a name=\"sklearn\"></a></p>\n",
        "\n",
        "# 2. Introducción a Scikit-Learn\n",
        "\n",
        "[Contenidos](#contents) \n",
        "\n",
        "\n"
      ]
    },
    {
      "cell_type": "markdown",
      "metadata": {
        "id": "axPhkEXz5581"
      },
      "source": [
        "<p><a name=\"sklearnG\"></a></p>\n",
        "\n",
        "## 2.1 Generalidades\n",
        "\n",
        "Hay varias bibliotecas de Python que proporcionan implementaciones sólidas de una variedad de algoritmos de ML. Uno de los más conocidos es Scikit-Learn, un paquete que proporciona versiones eficientes de una gran cantidad de algoritmos comunes. Scikit-Learn se caracteriza por ser una API limpia, uniforme y optimizada, así como por una documentación en línea muy útil y completa. La API de Scikit-Learn está notablemente bien diseñada. Los principales principios de diseño son:\n",
        "\n",
        "* **Estimadores**: Cualquier objeto que pueda estimar algunos parámetros basados en un conjunto de datos se llama *estimador*. La estimación en sí misma se realiza mediante el método `fit()`, y solo toma un conjunto de datos como parámetro (o dos para algoritmos de aprendizaje supervisados; el segundo conjunto de datos contiene las etiquetas). Cualquier otro parámetro necesario para guiar el proceso de estimación se considera un hiperparámetro. Ya habíamos visto un ejemplo de un estimador cuando realizamos el llenado de valores nulos con `SimpleImputer` (La estrategía de llenado, en este caso \"most frequent\", es un ejemplo de un hiperparámetro)\n"
      ]
    },
    {
      "cell_type": "code",
      "metadata": {
        "id": "Da7FqXzArzY-"
      },
      "source": [
        "X = pd.read_csv('https://raw.githubusercontent.com/diplomado-bigdata-machinelearning-udea/Curso1/master/s04/adult.csv') "
      ],
      "execution_count": null,
      "outputs": []
    },
    {
      "cell_type": "code",
      "metadata": {
        "id": "Ccb2ceWdr6IG",
        "colab": {
          "base_uri": "https://localhost:8080/",
          "height": 738
        },
        "outputId": "4a779b68-2a53-49ee-c4d6-1437bbf8db34"
      },
      "source": [
        "X"
      ],
      "execution_count": null,
      "outputs": [
        {
          "output_type": "execute_result",
          "data": {
            "text/html": [
              "<div>\n",
              "<style scoped>\n",
              "    .dataframe tbody tr th:only-of-type {\n",
              "        vertical-align: middle;\n",
              "    }\n",
              "\n",
              "    .dataframe tbody tr th {\n",
              "        vertical-align: top;\n",
              "    }\n",
              "\n",
              "    .dataframe thead th {\n",
              "        text-align: right;\n",
              "    }\n",
              "</style>\n",
              "<table border=\"1\" class=\"dataframe\">\n",
              "  <thead>\n",
              "    <tr style=\"text-align: right;\">\n",
              "      <th></th>\n",
              "      <th>age</th>\n",
              "      <th>workclass</th>\n",
              "      <th>fnlwgt</th>\n",
              "      <th>education</th>\n",
              "      <th>education-num</th>\n",
              "      <th>marital-status</th>\n",
              "      <th>occupation</th>\n",
              "      <th>relationship</th>\n",
              "      <th>race</th>\n",
              "      <th>sex</th>\n",
              "      <th>capitalgain</th>\n",
              "      <th>capitalloss</th>\n",
              "      <th>hoursperweek</th>\n",
              "      <th>native-country</th>\n",
              "      <th>class</th>\n",
              "    </tr>\n",
              "  </thead>\n",
              "  <tbody>\n",
              "    <tr>\n",
              "      <th>0</th>\n",
              "      <td>2</td>\n",
              "      <td>State-gov</td>\n",
              "      <td>77516</td>\n",
              "      <td>Bachelors</td>\n",
              "      <td>13</td>\n",
              "      <td>Never-married</td>\n",
              "      <td>Adm-clerical</td>\n",
              "      <td>Not-in-family</td>\n",
              "      <td>White</td>\n",
              "      <td>Male</td>\n",
              "      <td>1</td>\n",
              "      <td>0</td>\n",
              "      <td>2</td>\n",
              "      <td>United-States</td>\n",
              "      <td>&lt;=50K</td>\n",
              "    </tr>\n",
              "    <tr>\n",
              "      <th>1</th>\n",
              "      <td>3</td>\n",
              "      <td>Self-emp-not-inc</td>\n",
              "      <td>83311</td>\n",
              "      <td>Bachelors</td>\n",
              "      <td>13</td>\n",
              "      <td>Married-civ-spouse</td>\n",
              "      <td>Exec-managerial</td>\n",
              "      <td>Husband</td>\n",
              "      <td>White</td>\n",
              "      <td>Male</td>\n",
              "      <td>0</td>\n",
              "      <td>0</td>\n",
              "      <td>0</td>\n",
              "      <td>United-States</td>\n",
              "      <td>&lt;=50K</td>\n",
              "    </tr>\n",
              "    <tr>\n",
              "      <th>2</th>\n",
              "      <td>2</td>\n",
              "      <td>Private</td>\n",
              "      <td>215646</td>\n",
              "      <td>HS-grad</td>\n",
              "      <td>9</td>\n",
              "      <td>Divorced</td>\n",
              "      <td>Handlers-cleaners</td>\n",
              "      <td>Not-in-family</td>\n",
              "      <td>White</td>\n",
              "      <td>Male</td>\n",
              "      <td>0</td>\n",
              "      <td>0</td>\n",
              "      <td>2</td>\n",
              "      <td>United-States</td>\n",
              "      <td>&lt;=50K</td>\n",
              "    </tr>\n",
              "    <tr>\n",
              "      <th>3</th>\n",
              "      <td>3</td>\n",
              "      <td>Private</td>\n",
              "      <td>234721</td>\n",
              "      <td>11th</td>\n",
              "      <td>7</td>\n",
              "      <td>Married-civ-spouse</td>\n",
              "      <td>Handlers-cleaners</td>\n",
              "      <td>Husband</td>\n",
              "      <td>Black</td>\n",
              "      <td>Male</td>\n",
              "      <td>0</td>\n",
              "      <td>0</td>\n",
              "      <td>2</td>\n",
              "      <td>United-States</td>\n",
              "      <td>&lt;=50K</td>\n",
              "    </tr>\n",
              "    <tr>\n",
              "      <th>4</th>\n",
              "      <td>1</td>\n",
              "      <td>Private</td>\n",
              "      <td>338409</td>\n",
              "      <td>Bachelors</td>\n",
              "      <td>13</td>\n",
              "      <td>Married-civ-spouse</td>\n",
              "      <td>Prof-specialty</td>\n",
              "      <td>Wife</td>\n",
              "      <td>Black</td>\n",
              "      <td>Female</td>\n",
              "      <td>0</td>\n",
              "      <td>0</td>\n",
              "      <td>2</td>\n",
              "      <td>Cuba</td>\n",
              "      <td>&lt;=50K</td>\n",
              "    </tr>\n",
              "    <tr>\n",
              "      <th>...</th>\n",
              "      <td>...</td>\n",
              "      <td>...</td>\n",
              "      <td>...</td>\n",
              "      <td>...</td>\n",
              "      <td>...</td>\n",
              "      <td>...</td>\n",
              "      <td>...</td>\n",
              "      <td>...</td>\n",
              "      <td>...</td>\n",
              "      <td>...</td>\n",
              "      <td>...</td>\n",
              "      <td>...</td>\n",
              "      <td>...</td>\n",
              "      <td>...</td>\n",
              "      <td>...</td>\n",
              "    </tr>\n",
              "    <tr>\n",
              "      <th>48837</th>\n",
              "      <td>2</td>\n",
              "      <td>Private</td>\n",
              "      <td>215419</td>\n",
              "      <td>Bachelors</td>\n",
              "      <td>13</td>\n",
              "      <td>Divorced</td>\n",
              "      <td>Prof-specialty</td>\n",
              "      <td>Not-in-family</td>\n",
              "      <td>White</td>\n",
              "      <td>Female</td>\n",
              "      <td>0</td>\n",
              "      <td>0</td>\n",
              "      <td>2</td>\n",
              "      <td>United-States</td>\n",
              "      <td>&lt;=50K</td>\n",
              "    </tr>\n",
              "    <tr>\n",
              "      <th>48838</th>\n",
              "      <td>4</td>\n",
              "      <td>NaN</td>\n",
              "      <td>321403</td>\n",
              "      <td>HS-grad</td>\n",
              "      <td>9</td>\n",
              "      <td>Widowed</td>\n",
              "      <td>NaN</td>\n",
              "      <td>Other-relative</td>\n",
              "      <td>Black</td>\n",
              "      <td>Male</td>\n",
              "      <td>0</td>\n",
              "      <td>0</td>\n",
              "      <td>2</td>\n",
              "      <td>United-States</td>\n",
              "      <td>&lt;=50K</td>\n",
              "    </tr>\n",
              "    <tr>\n",
              "      <th>48839</th>\n",
              "      <td>2</td>\n",
              "      <td>Private</td>\n",
              "      <td>374983</td>\n",
              "      <td>Bachelors</td>\n",
              "      <td>13</td>\n",
              "      <td>Married-civ-spouse</td>\n",
              "      <td>Prof-specialty</td>\n",
              "      <td>Husband</td>\n",
              "      <td>White</td>\n",
              "      <td>Male</td>\n",
              "      <td>0</td>\n",
              "      <td>0</td>\n",
              "      <td>3</td>\n",
              "      <td>United-States</td>\n",
              "      <td>&lt;=50K</td>\n",
              "    </tr>\n",
              "    <tr>\n",
              "      <th>48840</th>\n",
              "      <td>2</td>\n",
              "      <td>Private</td>\n",
              "      <td>83891</td>\n",
              "      <td>Bachelors</td>\n",
              "      <td>13</td>\n",
              "      <td>Divorced</td>\n",
              "      <td>Adm-clerical</td>\n",
              "      <td>Own-child</td>\n",
              "      <td>Asian-Pac-Islander</td>\n",
              "      <td>Male</td>\n",
              "      <td>2</td>\n",
              "      <td>0</td>\n",
              "      <td>2</td>\n",
              "      <td>United-States</td>\n",
              "      <td>&lt;=50K</td>\n",
              "    </tr>\n",
              "    <tr>\n",
              "      <th>48841</th>\n",
              "      <td>1</td>\n",
              "      <td>Self-emp-inc</td>\n",
              "      <td>182148</td>\n",
              "      <td>Bachelors</td>\n",
              "      <td>13</td>\n",
              "      <td>Married-civ-spouse</td>\n",
              "      <td>Exec-managerial</td>\n",
              "      <td>Husband</td>\n",
              "      <td>White</td>\n",
              "      <td>Male</td>\n",
              "      <td>0</td>\n",
              "      <td>0</td>\n",
              "      <td>3</td>\n",
              "      <td>United-States</td>\n",
              "      <td>&gt;50K</td>\n",
              "    </tr>\n",
              "  </tbody>\n",
              "</table>\n",
              "<p>48842 rows × 15 columns</p>\n",
              "</div>"
            ],
            "text/plain": [
              "       age         workclass  fnlwgt  ... hoursperweek  native-country  class\n",
              "0        2         State-gov   77516  ...            2   United-States  <=50K\n",
              "1        3  Self-emp-not-inc   83311  ...            0   United-States  <=50K\n",
              "2        2           Private  215646  ...            2   United-States  <=50K\n",
              "3        3           Private  234721  ...            2   United-States  <=50K\n",
              "4        1           Private  338409  ...            2            Cuba  <=50K\n",
              "...    ...               ...     ...  ...          ...             ...    ...\n",
              "48837    2           Private  215419  ...            2   United-States  <=50K\n",
              "48838    4               NaN  321403  ...            2   United-States  <=50K\n",
              "48839    2           Private  374983  ...            3   United-States  <=50K\n",
              "48840    2           Private   83891  ...            2   United-States  <=50K\n",
              "48841    1      Self-emp-inc  182148  ...            3   United-States   >50K\n",
              "\n",
              "[48842 rows x 15 columns]"
            ]
          },
          "metadata": {},
          "execution_count": 37
        }
      ]
    },
    {
      "cell_type": "code",
      "metadata": {
        "id": "_AAoekp0r87i",
        "colab": {
          "base_uri": "https://localhost:8080/"
        },
        "outputId": "c813d3d4-076a-4cc9-f52e-0cc9c751bf03"
      },
      "source": [
        "X.isnull().sum()"
      ],
      "execution_count": null,
      "outputs": [
        {
          "output_type": "execute_result",
          "data": {
            "text/plain": [
              "age                  0\n",
              "workclass         2799\n",
              "fnlwgt               0\n",
              "education            0\n",
              "education-num        0\n",
              "marital-status       0\n",
              "occupation        2809\n",
              "relationship         0\n",
              "race                 0\n",
              "sex                  0\n",
              "capitalgain          0\n",
              "capitalloss          0\n",
              "hoursperweek         0\n",
              "native-country     857\n",
              "class                0\n",
              "dtype: int64"
            ]
          },
          "metadata": {},
          "execution_count": 38
        }
      ]
    },
    {
      "cell_type": "code",
      "metadata": {
        "id": "ti5k5eOlp3LG"
      },
      "source": [
        "from sklearn.impute import SimpleImputer\n",
        "import pandas as pd"
      ],
      "execution_count": null,
      "outputs": []
    },
    {
      "cell_type": "code",
      "metadata": {
        "id": "HGsZosQ14SfP"
      },
      "source": [
        "imputer = SimpleImputer(strategy='most_frequent')  # instanciamos para crear el objeto imputer"
      ],
      "execution_count": null,
      "outputs": []
    },
    {
      "cell_type": "code",
      "metadata": {
        "id": "PuOeMEH_qsV0",
        "colab": {
          "base_uri": "https://localhost:8080/"
        },
        "outputId": "be56a5b6-cdd0-45c1-d229-4e8cee53de5d"
      },
      "source": [
        "len(X)"
      ],
      "execution_count": null,
      "outputs": [
        {
          "output_type": "execute_result",
          "data": {
            "text/plain": [
              "48842"
            ]
          },
          "metadata": {},
          "execution_count": 33
        }
      ]
    },
    {
      "cell_type": "code",
      "metadata": {
        "id": "v8oMyt-PqPVV",
        "colab": {
          "base_uri": "https://localhost:8080/"
        },
        "outputId": "0ebbcb0b-5839-43a5-c7d3-4a01c08c2a92"
      },
      "source": [
        "imputer.fit(X[['occupation']])"
      ],
      "execution_count": null,
      "outputs": [
        {
          "output_type": "execute_result",
          "data": {
            "text/plain": [
              "SimpleImputer(add_indicator=False, copy=True, fill_value=None,\n",
              "              missing_values=nan, strategy='most_frequent', verbose=0)"
            ]
          },
          "metadata": {},
          "execution_count": 35
        }
      ]
    },
    {
      "cell_type": "code",
      "metadata": {
        "id": "2ryZDN1pq7kY",
        "colab": {
          "base_uri": "https://localhost:8080/"
        },
        "outputId": "fe684753-c302-493c-f17f-8e1464d3d026"
      },
      "source": [
        "X.occupation.value_counts()"
      ],
      "execution_count": null,
      "outputs": [
        {
          "output_type": "execute_result",
          "data": {
            "text/plain": [
              "Prof-specialty       6172\n",
              "Craft-repair         6112\n",
              "Exec-managerial      6086\n",
              "Adm-clerical         5611\n",
              "Sales                5504\n",
              "Other-service        4923\n",
              "Machine-op-inspct    3022\n",
              "Transport-moving     2355\n",
              "Handlers-cleaners    2072\n",
              "Farming-fishing      1490\n",
              "Tech-support         1446\n",
              "Protective-serv       983\n",
              "Priv-house-serv       242\n",
              "Armed-Forces           15\n",
              "Name: occupation, dtype: int64"
            ]
          },
          "metadata": {},
          "execution_count": 40
        }
      ]
    },
    {
      "cell_type": "markdown",
      "metadata": {
        "id": "P9rY3e6M4fUC"
      },
      "source": [
        "* **Transformadores**: Algunos estimadores (como el imputer) también pueden transformar un conjunto de datos; Estos se llaman transformadores. Una vez más, la API es bastante simple: la transformación se realiza mediante el método `transform()` con el conjunto de datos para transformar como parámetro. Los transformadores también tienen un método conveniente llamado `fit_transform()` que es equivalente a llamar a `fit()` y luego aplicar `transform()`"
      ]
    },
    {
      "cell_type": "code",
      "metadata": {
        "id": "GP7XMOgZtUKz"
      },
      "source": [
        "imp.fit_transform"
      ],
      "execution_count": null,
      "outputs": []
    },
    {
      "cell_type": "code",
      "metadata": {
        "id": "V93uIM7u4iSx"
      },
      "source": [
        "imp = SimpleImputer(strategy='most_frequent')\n",
        "transformed_data = pd.DataFrame(imp.fit_transform(X))"
      ],
      "execution_count": null,
      "outputs": []
    },
    {
      "cell_type": "code",
      "metadata": {
        "id": "Zv9RCnwCshl_",
        "colab": {
          "base_uri": "https://localhost:8080/"
        },
        "outputId": "792761e4-fcd7-4a4a-b24c-52904400406c"
      },
      "source": [
        "type(X)"
      ],
      "execution_count": null,
      "outputs": [
        {
          "output_type": "execute_result",
          "data": {
            "text/plain": [
              "pandas.core.frame.DataFrame"
            ]
          },
          "metadata": {},
          "execution_count": 46
        }
      ]
    },
    {
      "cell_type": "code",
      "metadata": {
        "id": "CfNSBJ2GsWAV",
        "colab": {
          "base_uri": "https://localhost:8080/"
        },
        "outputId": "0fc37e21-40ac-4de4-826a-39ddb633e963"
      },
      "source": [
        "type(X.values)"
      ],
      "execution_count": null,
      "outputs": [
        {
          "output_type": "execute_result",
          "data": {
            "text/plain": [
              "numpy.ndarray"
            ]
          },
          "metadata": {},
          "execution_count": 48
        }
      ]
    },
    {
      "cell_type": "code",
      "metadata": {
        "id": "vuaLg0vYt847",
        "colab": {
          "base_uri": "https://localhost:8080/",
          "height": 461
        },
        "outputId": "a8428eab-b664-461a-b33e-4ac403a61079"
      },
      "source": [
        "X.isnull()"
      ],
      "execution_count": null,
      "outputs": [
        {
          "output_type": "execute_result",
          "data": {
            "text/html": [
              "<div>\n",
              "<style scoped>\n",
              "    .dataframe tbody tr th:only-of-type {\n",
              "        vertical-align: middle;\n",
              "    }\n",
              "\n",
              "    .dataframe tbody tr th {\n",
              "        vertical-align: top;\n",
              "    }\n",
              "\n",
              "    .dataframe thead th {\n",
              "        text-align: right;\n",
              "    }\n",
              "</style>\n",
              "<table border=\"1\" class=\"dataframe\">\n",
              "  <thead>\n",
              "    <tr style=\"text-align: right;\">\n",
              "      <th></th>\n",
              "      <th>age</th>\n",
              "      <th>workclass</th>\n",
              "      <th>fnlwgt</th>\n",
              "      <th>education</th>\n",
              "      <th>education-num</th>\n",
              "      <th>marital-status</th>\n",
              "      <th>occupation</th>\n",
              "      <th>relationship</th>\n",
              "      <th>race</th>\n",
              "      <th>sex</th>\n",
              "      <th>capitalgain</th>\n",
              "      <th>capitalloss</th>\n",
              "      <th>hoursperweek</th>\n",
              "      <th>native-country</th>\n",
              "      <th>class</th>\n",
              "    </tr>\n",
              "  </thead>\n",
              "  <tbody>\n",
              "    <tr>\n",
              "      <th>0</th>\n",
              "      <td>False</td>\n",
              "      <td>False</td>\n",
              "      <td>False</td>\n",
              "      <td>False</td>\n",
              "      <td>False</td>\n",
              "      <td>False</td>\n",
              "      <td>False</td>\n",
              "      <td>False</td>\n",
              "      <td>False</td>\n",
              "      <td>False</td>\n",
              "      <td>False</td>\n",
              "      <td>False</td>\n",
              "      <td>False</td>\n",
              "      <td>False</td>\n",
              "      <td>False</td>\n",
              "    </tr>\n",
              "    <tr>\n",
              "      <th>1</th>\n",
              "      <td>False</td>\n",
              "      <td>False</td>\n",
              "      <td>False</td>\n",
              "      <td>False</td>\n",
              "      <td>False</td>\n",
              "      <td>False</td>\n",
              "      <td>False</td>\n",
              "      <td>False</td>\n",
              "      <td>False</td>\n",
              "      <td>False</td>\n",
              "      <td>False</td>\n",
              "      <td>False</td>\n",
              "      <td>False</td>\n",
              "      <td>False</td>\n",
              "      <td>False</td>\n",
              "    </tr>\n",
              "    <tr>\n",
              "      <th>2</th>\n",
              "      <td>False</td>\n",
              "      <td>False</td>\n",
              "      <td>False</td>\n",
              "      <td>False</td>\n",
              "      <td>False</td>\n",
              "      <td>False</td>\n",
              "      <td>False</td>\n",
              "      <td>False</td>\n",
              "      <td>False</td>\n",
              "      <td>False</td>\n",
              "      <td>False</td>\n",
              "      <td>False</td>\n",
              "      <td>False</td>\n",
              "      <td>False</td>\n",
              "      <td>False</td>\n",
              "    </tr>\n",
              "    <tr>\n",
              "      <th>3</th>\n",
              "      <td>False</td>\n",
              "      <td>False</td>\n",
              "      <td>False</td>\n",
              "      <td>False</td>\n",
              "      <td>False</td>\n",
              "      <td>False</td>\n",
              "      <td>False</td>\n",
              "      <td>False</td>\n",
              "      <td>False</td>\n",
              "      <td>False</td>\n",
              "      <td>False</td>\n",
              "      <td>False</td>\n",
              "      <td>False</td>\n",
              "      <td>False</td>\n",
              "      <td>False</td>\n",
              "    </tr>\n",
              "    <tr>\n",
              "      <th>4</th>\n",
              "      <td>False</td>\n",
              "      <td>False</td>\n",
              "      <td>False</td>\n",
              "      <td>False</td>\n",
              "      <td>False</td>\n",
              "      <td>False</td>\n",
              "      <td>False</td>\n",
              "      <td>False</td>\n",
              "      <td>False</td>\n",
              "      <td>False</td>\n",
              "      <td>False</td>\n",
              "      <td>False</td>\n",
              "      <td>False</td>\n",
              "      <td>False</td>\n",
              "      <td>False</td>\n",
              "    </tr>\n",
              "    <tr>\n",
              "      <th>...</th>\n",
              "      <td>...</td>\n",
              "      <td>...</td>\n",
              "      <td>...</td>\n",
              "      <td>...</td>\n",
              "      <td>...</td>\n",
              "      <td>...</td>\n",
              "      <td>...</td>\n",
              "      <td>...</td>\n",
              "      <td>...</td>\n",
              "      <td>...</td>\n",
              "      <td>...</td>\n",
              "      <td>...</td>\n",
              "      <td>...</td>\n",
              "      <td>...</td>\n",
              "      <td>...</td>\n",
              "    </tr>\n",
              "    <tr>\n",
              "      <th>48837</th>\n",
              "      <td>False</td>\n",
              "      <td>False</td>\n",
              "      <td>False</td>\n",
              "      <td>False</td>\n",
              "      <td>False</td>\n",
              "      <td>False</td>\n",
              "      <td>False</td>\n",
              "      <td>False</td>\n",
              "      <td>False</td>\n",
              "      <td>False</td>\n",
              "      <td>False</td>\n",
              "      <td>False</td>\n",
              "      <td>False</td>\n",
              "      <td>False</td>\n",
              "      <td>False</td>\n",
              "    </tr>\n",
              "    <tr>\n",
              "      <th>48838</th>\n",
              "      <td>False</td>\n",
              "      <td>True</td>\n",
              "      <td>False</td>\n",
              "      <td>False</td>\n",
              "      <td>False</td>\n",
              "      <td>False</td>\n",
              "      <td>True</td>\n",
              "      <td>False</td>\n",
              "      <td>False</td>\n",
              "      <td>False</td>\n",
              "      <td>False</td>\n",
              "      <td>False</td>\n",
              "      <td>False</td>\n",
              "      <td>False</td>\n",
              "      <td>False</td>\n",
              "    </tr>\n",
              "    <tr>\n",
              "      <th>48839</th>\n",
              "      <td>False</td>\n",
              "      <td>False</td>\n",
              "      <td>False</td>\n",
              "      <td>False</td>\n",
              "      <td>False</td>\n",
              "      <td>False</td>\n",
              "      <td>False</td>\n",
              "      <td>False</td>\n",
              "      <td>False</td>\n",
              "      <td>False</td>\n",
              "      <td>False</td>\n",
              "      <td>False</td>\n",
              "      <td>False</td>\n",
              "      <td>False</td>\n",
              "      <td>False</td>\n",
              "    </tr>\n",
              "    <tr>\n",
              "      <th>48840</th>\n",
              "      <td>False</td>\n",
              "      <td>False</td>\n",
              "      <td>False</td>\n",
              "      <td>False</td>\n",
              "      <td>False</td>\n",
              "      <td>False</td>\n",
              "      <td>False</td>\n",
              "      <td>False</td>\n",
              "      <td>False</td>\n",
              "      <td>False</td>\n",
              "      <td>False</td>\n",
              "      <td>False</td>\n",
              "      <td>False</td>\n",
              "      <td>False</td>\n",
              "      <td>False</td>\n",
              "    </tr>\n",
              "    <tr>\n",
              "      <th>48841</th>\n",
              "      <td>False</td>\n",
              "      <td>False</td>\n",
              "      <td>False</td>\n",
              "      <td>False</td>\n",
              "      <td>False</td>\n",
              "      <td>False</td>\n",
              "      <td>False</td>\n",
              "      <td>False</td>\n",
              "      <td>False</td>\n",
              "      <td>False</td>\n",
              "      <td>False</td>\n",
              "      <td>False</td>\n",
              "      <td>False</td>\n",
              "      <td>False</td>\n",
              "      <td>False</td>\n",
              "    </tr>\n",
              "  </tbody>\n",
              "</table>\n",
              "<p>48842 rows × 15 columns</p>\n",
              "</div>"
            ],
            "text/plain": [
              "         age  workclass  fnlwgt  ...  hoursperweek  native-country  class\n",
              "0      False      False   False  ...         False           False  False\n",
              "1      False      False   False  ...         False           False  False\n",
              "2      False      False   False  ...         False           False  False\n",
              "3      False      False   False  ...         False           False  False\n",
              "4      False      False   False  ...         False           False  False\n",
              "...      ...        ...     ...  ...           ...             ...    ...\n",
              "48837  False      False   False  ...         False           False  False\n",
              "48838  False       True   False  ...         False           False  False\n",
              "48839  False      False   False  ...         False           False  False\n",
              "48840  False      False   False  ...         False           False  False\n",
              "48841  False      False   False  ...         False           False  False\n",
              "\n",
              "[48842 rows x 15 columns]"
            ]
          },
          "metadata": {},
          "execution_count": 53
        }
      ]
    },
    {
      "cell_type": "code",
      "metadata": {
        "id": "HoyovxPRuIVW",
        "colab": {
          "base_uri": "https://localhost:8080/",
          "height": 738
        },
        "outputId": "31c69972-105c-458e-c87f-fc5ff5a0af6b"
      },
      "source": [
        "X"
      ],
      "execution_count": null,
      "outputs": [
        {
          "output_type": "execute_result",
          "data": {
            "text/html": [
              "<div>\n",
              "<style scoped>\n",
              "    .dataframe tbody tr th:only-of-type {\n",
              "        vertical-align: middle;\n",
              "    }\n",
              "\n",
              "    .dataframe tbody tr th {\n",
              "        vertical-align: top;\n",
              "    }\n",
              "\n",
              "    .dataframe thead th {\n",
              "        text-align: right;\n",
              "    }\n",
              "</style>\n",
              "<table border=\"1\" class=\"dataframe\">\n",
              "  <thead>\n",
              "    <tr style=\"text-align: right;\">\n",
              "      <th></th>\n",
              "      <th>age</th>\n",
              "      <th>workclass</th>\n",
              "      <th>fnlwgt</th>\n",
              "      <th>education</th>\n",
              "      <th>education-num</th>\n",
              "      <th>marital-status</th>\n",
              "      <th>occupation</th>\n",
              "      <th>relationship</th>\n",
              "      <th>race</th>\n",
              "      <th>sex</th>\n",
              "      <th>capitalgain</th>\n",
              "      <th>capitalloss</th>\n",
              "      <th>hoursperweek</th>\n",
              "      <th>native-country</th>\n",
              "      <th>class</th>\n",
              "    </tr>\n",
              "  </thead>\n",
              "  <tbody>\n",
              "    <tr>\n",
              "      <th>0</th>\n",
              "      <td>2</td>\n",
              "      <td>State-gov</td>\n",
              "      <td>77516</td>\n",
              "      <td>Bachelors</td>\n",
              "      <td>13</td>\n",
              "      <td>Never-married</td>\n",
              "      <td>Adm-clerical</td>\n",
              "      <td>Not-in-family</td>\n",
              "      <td>White</td>\n",
              "      <td>Male</td>\n",
              "      <td>1</td>\n",
              "      <td>0</td>\n",
              "      <td>2</td>\n",
              "      <td>United-States</td>\n",
              "      <td>&lt;=50K</td>\n",
              "    </tr>\n",
              "    <tr>\n",
              "      <th>1</th>\n",
              "      <td>3</td>\n",
              "      <td>Self-emp-not-inc</td>\n",
              "      <td>83311</td>\n",
              "      <td>Bachelors</td>\n",
              "      <td>13</td>\n",
              "      <td>Married-civ-spouse</td>\n",
              "      <td>Exec-managerial</td>\n",
              "      <td>Husband</td>\n",
              "      <td>White</td>\n",
              "      <td>Male</td>\n",
              "      <td>0</td>\n",
              "      <td>0</td>\n",
              "      <td>0</td>\n",
              "      <td>United-States</td>\n",
              "      <td>&lt;=50K</td>\n",
              "    </tr>\n",
              "    <tr>\n",
              "      <th>2</th>\n",
              "      <td>2</td>\n",
              "      <td>Private</td>\n",
              "      <td>215646</td>\n",
              "      <td>HS-grad</td>\n",
              "      <td>9</td>\n",
              "      <td>Divorced</td>\n",
              "      <td>Handlers-cleaners</td>\n",
              "      <td>Not-in-family</td>\n",
              "      <td>White</td>\n",
              "      <td>Male</td>\n",
              "      <td>0</td>\n",
              "      <td>0</td>\n",
              "      <td>2</td>\n",
              "      <td>United-States</td>\n",
              "      <td>&lt;=50K</td>\n",
              "    </tr>\n",
              "    <tr>\n",
              "      <th>3</th>\n",
              "      <td>3</td>\n",
              "      <td>Private</td>\n",
              "      <td>234721</td>\n",
              "      <td>11th</td>\n",
              "      <td>7</td>\n",
              "      <td>Married-civ-spouse</td>\n",
              "      <td>Handlers-cleaners</td>\n",
              "      <td>Husband</td>\n",
              "      <td>Black</td>\n",
              "      <td>Male</td>\n",
              "      <td>0</td>\n",
              "      <td>0</td>\n",
              "      <td>2</td>\n",
              "      <td>United-States</td>\n",
              "      <td>&lt;=50K</td>\n",
              "    </tr>\n",
              "    <tr>\n",
              "      <th>4</th>\n",
              "      <td>1</td>\n",
              "      <td>Private</td>\n",
              "      <td>338409</td>\n",
              "      <td>Bachelors</td>\n",
              "      <td>13</td>\n",
              "      <td>Married-civ-spouse</td>\n",
              "      <td>Prof-specialty</td>\n",
              "      <td>Wife</td>\n",
              "      <td>Black</td>\n",
              "      <td>Female</td>\n",
              "      <td>0</td>\n",
              "      <td>0</td>\n",
              "      <td>2</td>\n",
              "      <td>Cuba</td>\n",
              "      <td>&lt;=50K</td>\n",
              "    </tr>\n",
              "    <tr>\n",
              "      <th>...</th>\n",
              "      <td>...</td>\n",
              "      <td>...</td>\n",
              "      <td>...</td>\n",
              "      <td>...</td>\n",
              "      <td>...</td>\n",
              "      <td>...</td>\n",
              "      <td>...</td>\n",
              "      <td>...</td>\n",
              "      <td>...</td>\n",
              "      <td>...</td>\n",
              "      <td>...</td>\n",
              "      <td>...</td>\n",
              "      <td>...</td>\n",
              "      <td>...</td>\n",
              "      <td>...</td>\n",
              "    </tr>\n",
              "    <tr>\n",
              "      <th>48837</th>\n",
              "      <td>2</td>\n",
              "      <td>Private</td>\n",
              "      <td>215419</td>\n",
              "      <td>Bachelors</td>\n",
              "      <td>13</td>\n",
              "      <td>Divorced</td>\n",
              "      <td>Prof-specialty</td>\n",
              "      <td>Not-in-family</td>\n",
              "      <td>White</td>\n",
              "      <td>Female</td>\n",
              "      <td>0</td>\n",
              "      <td>0</td>\n",
              "      <td>2</td>\n",
              "      <td>United-States</td>\n",
              "      <td>&lt;=50K</td>\n",
              "    </tr>\n",
              "    <tr>\n",
              "      <th>48838</th>\n",
              "      <td>4</td>\n",
              "      <td>NaN</td>\n",
              "      <td>321403</td>\n",
              "      <td>HS-grad</td>\n",
              "      <td>9</td>\n",
              "      <td>Widowed</td>\n",
              "      <td>NaN</td>\n",
              "      <td>Other-relative</td>\n",
              "      <td>Black</td>\n",
              "      <td>Male</td>\n",
              "      <td>0</td>\n",
              "      <td>0</td>\n",
              "      <td>2</td>\n",
              "      <td>United-States</td>\n",
              "      <td>&lt;=50K</td>\n",
              "    </tr>\n",
              "    <tr>\n",
              "      <th>48839</th>\n",
              "      <td>2</td>\n",
              "      <td>Private</td>\n",
              "      <td>374983</td>\n",
              "      <td>Bachelors</td>\n",
              "      <td>13</td>\n",
              "      <td>Married-civ-spouse</td>\n",
              "      <td>Prof-specialty</td>\n",
              "      <td>Husband</td>\n",
              "      <td>White</td>\n",
              "      <td>Male</td>\n",
              "      <td>0</td>\n",
              "      <td>0</td>\n",
              "      <td>3</td>\n",
              "      <td>United-States</td>\n",
              "      <td>&lt;=50K</td>\n",
              "    </tr>\n",
              "    <tr>\n",
              "      <th>48840</th>\n",
              "      <td>2</td>\n",
              "      <td>Private</td>\n",
              "      <td>83891</td>\n",
              "      <td>Bachelors</td>\n",
              "      <td>13</td>\n",
              "      <td>Divorced</td>\n",
              "      <td>Adm-clerical</td>\n",
              "      <td>Own-child</td>\n",
              "      <td>Asian-Pac-Islander</td>\n",
              "      <td>Male</td>\n",
              "      <td>2</td>\n",
              "      <td>0</td>\n",
              "      <td>2</td>\n",
              "      <td>United-States</td>\n",
              "      <td>&lt;=50K</td>\n",
              "    </tr>\n",
              "    <tr>\n",
              "      <th>48841</th>\n",
              "      <td>1</td>\n",
              "      <td>Self-emp-inc</td>\n",
              "      <td>182148</td>\n",
              "      <td>Bachelors</td>\n",
              "      <td>13</td>\n",
              "      <td>Married-civ-spouse</td>\n",
              "      <td>Exec-managerial</td>\n",
              "      <td>Husband</td>\n",
              "      <td>White</td>\n",
              "      <td>Male</td>\n",
              "      <td>0</td>\n",
              "      <td>0</td>\n",
              "      <td>3</td>\n",
              "      <td>United-States</td>\n",
              "      <td>&gt;50K</td>\n",
              "    </tr>\n",
              "  </tbody>\n",
              "</table>\n",
              "<p>48842 rows × 15 columns</p>\n",
              "</div>"
            ],
            "text/plain": [
              "       age         workclass  fnlwgt  ... hoursperweek  native-country  class\n",
              "0        2         State-gov   77516  ...            2   United-States  <=50K\n",
              "1        3  Self-emp-not-inc   83311  ...            0   United-States  <=50K\n",
              "2        2           Private  215646  ...            2   United-States  <=50K\n",
              "3        3           Private  234721  ...            2   United-States  <=50K\n",
              "4        1           Private  338409  ...            2            Cuba  <=50K\n",
              "...    ...               ...     ...  ...          ...             ...    ...\n",
              "48837    2           Private  215419  ...            2   United-States  <=50K\n",
              "48838    4               NaN  321403  ...            2   United-States  <=50K\n",
              "48839    2           Private  374983  ...            3   United-States  <=50K\n",
              "48840    2           Private   83891  ...            2   United-States  <=50K\n",
              "48841    1      Self-emp-inc  182148  ...            3   United-States   >50K\n",
              "\n",
              "[48842 rows x 15 columns]"
            ]
          },
          "metadata": {},
          "execution_count": 54
        }
      ]
    },
    {
      "cell_type": "code",
      "metadata": {
        "id": "fsVc86izuO_B",
        "colab": {
          "base_uri": "https://localhost:8080/"
        },
        "outputId": "a5e0624f-15ca-43bc-8e35-3fc127d86f08"
      },
      "source": [
        "X.workclass.value_counts()"
      ],
      "execution_count": null,
      "outputs": [
        {
          "output_type": "execute_result",
          "data": {
            "text/plain": [
              "Private             33906\n",
              "Self-emp-not-inc     3862\n",
              "Local-gov            3136\n",
              "State-gov            1981\n",
              "Self-emp-inc         1695\n",
              "Federal-gov          1432\n",
              "Without-pay            21\n",
              "Never-worked           10\n",
              "Name: workclass, dtype: int64"
            ]
          },
          "metadata": {},
          "execution_count": 55
        }
      ]
    },
    {
      "cell_type": "code",
      "metadata": {
        "id": "zDKm457luT2b",
        "colab": {
          "base_uri": "https://localhost:8080/"
        },
        "outputId": "04bbcfcb-2909-4c16-e67d-2b444da5b5b5"
      },
      "source": [
        "X.info()"
      ],
      "execution_count": null,
      "outputs": [
        {
          "output_type": "stream",
          "name": "stdout",
          "text": [
            "<class 'pandas.core.frame.DataFrame'>\n",
            "RangeIndex: 48842 entries, 0 to 48841\n",
            "Data columns (total 15 columns):\n",
            " #   Column          Non-Null Count  Dtype \n",
            "---  ------          --------------  ----- \n",
            " 0   age             48842 non-null  int64 \n",
            " 1   workclass       46043 non-null  object\n",
            " 2   fnlwgt          48842 non-null  int64 \n",
            " 3   education       48842 non-null  object\n",
            " 4   education-num   48842 non-null  int64 \n",
            " 5   marital-status  48842 non-null  object\n",
            " 6   occupation      46033 non-null  object\n",
            " 7   relationship    48842 non-null  object\n",
            " 8   race            48842 non-null  object\n",
            " 9   sex             48842 non-null  object\n",
            " 10  capitalgain     48842 non-null  int64 \n",
            " 11  capitalloss     48842 non-null  int64 \n",
            " 12  hoursperweek    48842 non-null  int64 \n",
            " 13  native-country  47985 non-null  object\n",
            " 14  class           48842 non-null  object\n",
            "dtypes: int64(6), object(9)\n",
            "memory usage: 5.6+ MB\n"
          ]
        }
      ]
    },
    {
      "cell_type": "code",
      "metadata": {
        "id": "WnHfFDRStujz",
        "colab": {
          "base_uri": "https://localhost:8080/",
          "height": 67
        },
        "outputId": "37d4f5b8-10c1-4c98-b5ba-324418435e7a"
      },
      "source": [
        "X[X.occupation==np.nan]"
      ],
      "execution_count": null,
      "outputs": [
        {
          "output_type": "execute_result",
          "data": {
            "text/html": [
              "<div>\n",
              "<style scoped>\n",
              "    .dataframe tbody tr th:only-of-type {\n",
              "        vertical-align: middle;\n",
              "    }\n",
              "\n",
              "    .dataframe tbody tr th {\n",
              "        vertical-align: top;\n",
              "    }\n",
              "\n",
              "    .dataframe thead th {\n",
              "        text-align: right;\n",
              "    }\n",
              "</style>\n",
              "<table border=\"1\" class=\"dataframe\">\n",
              "  <thead>\n",
              "    <tr style=\"text-align: right;\">\n",
              "      <th></th>\n",
              "      <th>age</th>\n",
              "      <th>workclass</th>\n",
              "      <th>fnlwgt</th>\n",
              "      <th>education</th>\n",
              "      <th>education-num</th>\n",
              "      <th>marital-status</th>\n",
              "      <th>occupation</th>\n",
              "      <th>relationship</th>\n",
              "      <th>race</th>\n",
              "      <th>sex</th>\n",
              "      <th>capitalgain</th>\n",
              "      <th>capitalloss</th>\n",
              "      <th>hoursperweek</th>\n",
              "      <th>native-country</th>\n",
              "      <th>class</th>\n",
              "    </tr>\n",
              "  </thead>\n",
              "  <tbody>\n",
              "  </tbody>\n",
              "</table>\n",
              "</div>"
            ],
            "text/plain": [
              "Empty DataFrame\n",
              "Columns: [age, workclass, fnlwgt, education, education-num, marital-status, occupation, relationship, race, sex, capitalgain, capitalloss, hoursperweek, native-country, class]\n",
              "Index: []"
            ]
          },
          "metadata": {},
          "execution_count": 51
        }
      ]
    },
    {
      "cell_type": "code",
      "metadata": {
        "id": "t-FGQ3xAsPIM",
        "colab": {
          "base_uri": "https://localhost:8080/"
        },
        "outputId": "debede0a-914f-457c-e1d3-82dce1b2a525"
      },
      "source": [
        "transformed_data.isnull().sum()"
      ],
      "execution_count": null,
      "outputs": [
        {
          "output_type": "execute_result",
          "data": {
            "text/plain": [
              "0     0\n",
              "1     0\n",
              "2     0\n",
              "3     0\n",
              "4     0\n",
              "5     0\n",
              "6     0\n",
              "7     0\n",
              "8     0\n",
              "9     0\n",
              "10    0\n",
              "11    0\n",
              "12    0\n",
              "13    0\n",
              "14    0\n",
              "dtype: int64"
            ]
          },
          "metadata": {},
          "execution_count": 42
        }
      ]
    },
    {
      "cell_type": "code",
      "metadata": {
        "id": "N4QIzwMaskkP",
        "colab": {
          "base_uri": "https://localhost:8080/",
          "height": 423
        },
        "outputId": "b4b61109-569a-43c7-a613-3f7fe4301245"
      },
      "source": [
        "transformed_data"
      ],
      "execution_count": null,
      "outputs": [
        {
          "output_type": "execute_result",
          "data": {
            "text/html": [
              "<div>\n",
              "<style scoped>\n",
              "    .dataframe tbody tr th:only-of-type {\n",
              "        vertical-align: middle;\n",
              "    }\n",
              "\n",
              "    .dataframe tbody tr th {\n",
              "        vertical-align: top;\n",
              "    }\n",
              "\n",
              "    .dataframe thead th {\n",
              "        text-align: right;\n",
              "    }\n",
              "</style>\n",
              "<table border=\"1\" class=\"dataframe\">\n",
              "  <thead>\n",
              "    <tr style=\"text-align: right;\">\n",
              "      <th></th>\n",
              "      <th>0</th>\n",
              "      <th>1</th>\n",
              "      <th>2</th>\n",
              "      <th>3</th>\n",
              "      <th>4</th>\n",
              "      <th>5</th>\n",
              "      <th>6</th>\n",
              "      <th>7</th>\n",
              "      <th>8</th>\n",
              "      <th>9</th>\n",
              "      <th>10</th>\n",
              "      <th>11</th>\n",
              "      <th>12</th>\n",
              "      <th>13</th>\n",
              "      <th>14</th>\n",
              "    </tr>\n",
              "  </thead>\n",
              "  <tbody>\n",
              "    <tr>\n",
              "      <th>0</th>\n",
              "      <td>2</td>\n",
              "      <td>State-gov</td>\n",
              "      <td>77516</td>\n",
              "      <td>Bachelors</td>\n",
              "      <td>13</td>\n",
              "      <td>Never-married</td>\n",
              "      <td>Adm-clerical</td>\n",
              "      <td>Not-in-family</td>\n",
              "      <td>White</td>\n",
              "      <td>Male</td>\n",
              "      <td>1</td>\n",
              "      <td>0</td>\n",
              "      <td>2</td>\n",
              "      <td>United-States</td>\n",
              "      <td>&lt;=50K</td>\n",
              "    </tr>\n",
              "    <tr>\n",
              "      <th>1</th>\n",
              "      <td>3</td>\n",
              "      <td>Self-emp-not-inc</td>\n",
              "      <td>83311</td>\n",
              "      <td>Bachelors</td>\n",
              "      <td>13</td>\n",
              "      <td>Married-civ-spouse</td>\n",
              "      <td>Exec-managerial</td>\n",
              "      <td>Husband</td>\n",
              "      <td>White</td>\n",
              "      <td>Male</td>\n",
              "      <td>0</td>\n",
              "      <td>0</td>\n",
              "      <td>0</td>\n",
              "      <td>United-States</td>\n",
              "      <td>&lt;=50K</td>\n",
              "    </tr>\n",
              "    <tr>\n",
              "      <th>2</th>\n",
              "      <td>2</td>\n",
              "      <td>Private</td>\n",
              "      <td>215646</td>\n",
              "      <td>HS-grad</td>\n",
              "      <td>9</td>\n",
              "      <td>Divorced</td>\n",
              "      <td>Handlers-cleaners</td>\n",
              "      <td>Not-in-family</td>\n",
              "      <td>White</td>\n",
              "      <td>Male</td>\n",
              "      <td>0</td>\n",
              "      <td>0</td>\n",
              "      <td>2</td>\n",
              "      <td>United-States</td>\n",
              "      <td>&lt;=50K</td>\n",
              "    </tr>\n",
              "    <tr>\n",
              "      <th>3</th>\n",
              "      <td>3</td>\n",
              "      <td>Private</td>\n",
              "      <td>234721</td>\n",
              "      <td>11th</td>\n",
              "      <td>7</td>\n",
              "      <td>Married-civ-spouse</td>\n",
              "      <td>Handlers-cleaners</td>\n",
              "      <td>Husband</td>\n",
              "      <td>Black</td>\n",
              "      <td>Male</td>\n",
              "      <td>0</td>\n",
              "      <td>0</td>\n",
              "      <td>2</td>\n",
              "      <td>United-States</td>\n",
              "      <td>&lt;=50K</td>\n",
              "    </tr>\n",
              "    <tr>\n",
              "      <th>4</th>\n",
              "      <td>1</td>\n",
              "      <td>Private</td>\n",
              "      <td>338409</td>\n",
              "      <td>Bachelors</td>\n",
              "      <td>13</td>\n",
              "      <td>Married-civ-spouse</td>\n",
              "      <td>Prof-specialty</td>\n",
              "      <td>Wife</td>\n",
              "      <td>Black</td>\n",
              "      <td>Female</td>\n",
              "      <td>0</td>\n",
              "      <td>0</td>\n",
              "      <td>2</td>\n",
              "      <td>Cuba</td>\n",
              "      <td>&lt;=50K</td>\n",
              "    </tr>\n",
              "    <tr>\n",
              "      <th>...</th>\n",
              "      <td>...</td>\n",
              "      <td>...</td>\n",
              "      <td>...</td>\n",
              "      <td>...</td>\n",
              "      <td>...</td>\n",
              "      <td>...</td>\n",
              "      <td>...</td>\n",
              "      <td>...</td>\n",
              "      <td>...</td>\n",
              "      <td>...</td>\n",
              "      <td>...</td>\n",
              "      <td>...</td>\n",
              "      <td>...</td>\n",
              "      <td>...</td>\n",
              "      <td>...</td>\n",
              "    </tr>\n",
              "    <tr>\n",
              "      <th>48837</th>\n",
              "      <td>2</td>\n",
              "      <td>Private</td>\n",
              "      <td>215419</td>\n",
              "      <td>Bachelors</td>\n",
              "      <td>13</td>\n",
              "      <td>Divorced</td>\n",
              "      <td>Prof-specialty</td>\n",
              "      <td>Not-in-family</td>\n",
              "      <td>White</td>\n",
              "      <td>Female</td>\n",
              "      <td>0</td>\n",
              "      <td>0</td>\n",
              "      <td>2</td>\n",
              "      <td>United-States</td>\n",
              "      <td>&lt;=50K</td>\n",
              "    </tr>\n",
              "    <tr>\n",
              "      <th>48838</th>\n",
              "      <td>4</td>\n",
              "      <td>Private</td>\n",
              "      <td>321403</td>\n",
              "      <td>HS-grad</td>\n",
              "      <td>9</td>\n",
              "      <td>Widowed</td>\n",
              "      <td>Prof-specialty</td>\n",
              "      <td>Other-relative</td>\n",
              "      <td>Black</td>\n",
              "      <td>Male</td>\n",
              "      <td>0</td>\n",
              "      <td>0</td>\n",
              "      <td>2</td>\n",
              "      <td>United-States</td>\n",
              "      <td>&lt;=50K</td>\n",
              "    </tr>\n",
              "    <tr>\n",
              "      <th>48839</th>\n",
              "      <td>2</td>\n",
              "      <td>Private</td>\n",
              "      <td>374983</td>\n",
              "      <td>Bachelors</td>\n",
              "      <td>13</td>\n",
              "      <td>Married-civ-spouse</td>\n",
              "      <td>Prof-specialty</td>\n",
              "      <td>Husband</td>\n",
              "      <td>White</td>\n",
              "      <td>Male</td>\n",
              "      <td>0</td>\n",
              "      <td>0</td>\n",
              "      <td>3</td>\n",
              "      <td>United-States</td>\n",
              "      <td>&lt;=50K</td>\n",
              "    </tr>\n",
              "    <tr>\n",
              "      <th>48840</th>\n",
              "      <td>2</td>\n",
              "      <td>Private</td>\n",
              "      <td>83891</td>\n",
              "      <td>Bachelors</td>\n",
              "      <td>13</td>\n",
              "      <td>Divorced</td>\n",
              "      <td>Adm-clerical</td>\n",
              "      <td>Own-child</td>\n",
              "      <td>Asian-Pac-Islander</td>\n",
              "      <td>Male</td>\n",
              "      <td>2</td>\n",
              "      <td>0</td>\n",
              "      <td>2</td>\n",
              "      <td>United-States</td>\n",
              "      <td>&lt;=50K</td>\n",
              "    </tr>\n",
              "    <tr>\n",
              "      <th>48841</th>\n",
              "      <td>1</td>\n",
              "      <td>Self-emp-inc</td>\n",
              "      <td>182148</td>\n",
              "      <td>Bachelors</td>\n",
              "      <td>13</td>\n",
              "      <td>Married-civ-spouse</td>\n",
              "      <td>Exec-managerial</td>\n",
              "      <td>Husband</td>\n",
              "      <td>White</td>\n",
              "      <td>Male</td>\n",
              "      <td>0</td>\n",
              "      <td>0</td>\n",
              "      <td>3</td>\n",
              "      <td>United-States</td>\n",
              "      <td>&gt;50K</td>\n",
              "    </tr>\n",
              "  </tbody>\n",
              "</table>\n",
              "<p>48842 rows × 15 columns</p>\n",
              "</div>"
            ],
            "text/plain": [
              "      0                 1       2          3   ... 11 12             13     14\n",
              "0      2         State-gov   77516  Bachelors  ...  0  2  United-States  <=50K\n",
              "1      3  Self-emp-not-inc   83311  Bachelors  ...  0  0  United-States  <=50K\n",
              "2      2           Private  215646    HS-grad  ...  0  2  United-States  <=50K\n",
              "3      3           Private  234721       11th  ...  0  2  United-States  <=50K\n",
              "4      1           Private  338409  Bachelors  ...  0  2           Cuba  <=50K\n",
              "...   ..               ...     ...        ...  ... .. ..            ...    ...\n",
              "48837  2           Private  215419  Bachelors  ...  0  2  United-States  <=50K\n",
              "48838  4           Private  321403    HS-grad  ...  0  2  United-States  <=50K\n",
              "48839  2           Private  374983  Bachelors  ...  0  3  United-States  <=50K\n",
              "48840  2           Private   83891  Bachelors  ...  0  2  United-States  <=50K\n",
              "48841  1      Self-emp-inc  182148  Bachelors  ...  0  3  United-States   >50K\n",
              "\n",
              "[48842 rows x 15 columns]"
            ]
          },
          "metadata": {},
          "execution_count": 47
        }
      ]
    },
    {
      "cell_type": "code",
      "metadata": {
        "id": "4t_IwofMsszj",
        "colab": {
          "base_uri": "https://localhost:8080/",
          "height": 347
        },
        "outputId": "43588bc1-677a-4e92-cc40-431f77cca3da"
      },
      "source": [
        "transformed_data.columns = X.columns\n",
        "transformed_data.sample(5)"
      ],
      "execution_count": null,
      "outputs": [
        {
          "output_type": "execute_result",
          "data": {
            "text/html": [
              "<div>\n",
              "<style scoped>\n",
              "    .dataframe tbody tr th:only-of-type {\n",
              "        vertical-align: middle;\n",
              "    }\n",
              "\n",
              "    .dataframe tbody tr th {\n",
              "        vertical-align: top;\n",
              "    }\n",
              "\n",
              "    .dataframe thead th {\n",
              "        text-align: right;\n",
              "    }\n",
              "</style>\n",
              "<table border=\"1\" class=\"dataframe\">\n",
              "  <thead>\n",
              "    <tr style=\"text-align: right;\">\n",
              "      <th></th>\n",
              "      <th>age</th>\n",
              "      <th>workclass</th>\n",
              "      <th>fnlwgt</th>\n",
              "      <th>education</th>\n",
              "      <th>education-num</th>\n",
              "      <th>marital-status</th>\n",
              "      <th>occupation</th>\n",
              "      <th>relationship</th>\n",
              "      <th>race</th>\n",
              "      <th>sex</th>\n",
              "      <th>capitalgain</th>\n",
              "      <th>capitalloss</th>\n",
              "      <th>hoursperweek</th>\n",
              "      <th>native-country</th>\n",
              "      <th>class</th>\n",
              "    </tr>\n",
              "  </thead>\n",
              "  <tbody>\n",
              "    <tr>\n",
              "      <th>37566</th>\n",
              "      <td>1</td>\n",
              "      <td>Private</td>\n",
              "      <td>201122</td>\n",
              "      <td>HS-grad</td>\n",
              "      <td>9</td>\n",
              "      <td>Separated</td>\n",
              "      <td>Tech-support</td>\n",
              "      <td>Not-in-family</td>\n",
              "      <td>White</td>\n",
              "      <td>Male</td>\n",
              "      <td>0</td>\n",
              "      <td>0</td>\n",
              "      <td>2</td>\n",
              "      <td>United-States</td>\n",
              "      <td>&lt;=50K</td>\n",
              "    </tr>\n",
              "    <tr>\n",
              "      <th>2720</th>\n",
              "      <td>2</td>\n",
              "      <td>Local-gov</td>\n",
              "      <td>50442</td>\n",
              "      <td>Some-college</td>\n",
              "      <td>10</td>\n",
              "      <td>Never-married</td>\n",
              "      <td>Adm-clerical</td>\n",
              "      <td>Unmarried</td>\n",
              "      <td>Amer-Indian-Eskimo</td>\n",
              "      <td>Female</td>\n",
              "      <td>1</td>\n",
              "      <td>0</td>\n",
              "      <td>1</td>\n",
              "      <td>United-States</td>\n",
              "      <td>&lt;=50K</td>\n",
              "    </tr>\n",
              "    <tr>\n",
              "      <th>10196</th>\n",
              "      <td>1</td>\n",
              "      <td>Private</td>\n",
              "      <td>345277</td>\n",
              "      <td>Bachelors</td>\n",
              "      <td>13</td>\n",
              "      <td>Divorced</td>\n",
              "      <td>Prof-specialty</td>\n",
              "      <td>Not-in-family</td>\n",
              "      <td>White</td>\n",
              "      <td>Female</td>\n",
              "      <td>0</td>\n",
              "      <td>0</td>\n",
              "      <td>2</td>\n",
              "      <td>United-States</td>\n",
              "      <td>&lt;=50K</td>\n",
              "    </tr>\n",
              "    <tr>\n",
              "      <th>1451</th>\n",
              "      <td>4</td>\n",
              "      <td>Private</td>\n",
              "      <td>185749</td>\n",
              "      <td>11th</td>\n",
              "      <td>7</td>\n",
              "      <td>Widowed</td>\n",
              "      <td>Transport-moving</td>\n",
              "      <td>Unmarried</td>\n",
              "      <td>Black</td>\n",
              "      <td>Male</td>\n",
              "      <td>0</td>\n",
              "      <td>0</td>\n",
              "      <td>2</td>\n",
              "      <td>United-States</td>\n",
              "      <td>&lt;=50K</td>\n",
              "    </tr>\n",
              "    <tr>\n",
              "      <th>9838</th>\n",
              "      <td>2</td>\n",
              "      <td>Private</td>\n",
              "      <td>249720</td>\n",
              "      <td>Bachelors</td>\n",
              "      <td>13</td>\n",
              "      <td>Never-married</td>\n",
              "      <td>Adm-clerical</td>\n",
              "      <td>Unmarried</td>\n",
              "      <td>Black</td>\n",
              "      <td>Female</td>\n",
              "      <td>0</td>\n",
              "      <td>0</td>\n",
              "      <td>1</td>\n",
              "      <td>United-States</td>\n",
              "      <td>&lt;=50K</td>\n",
              "    </tr>\n",
              "  </tbody>\n",
              "</table>\n",
              "</div>"
            ],
            "text/plain": [
              "      age  workclass  fnlwgt  ... hoursperweek native-country  class\n",
              "37566   1    Private  201122  ...            2  United-States  <=50K\n",
              "2720    2  Local-gov   50442  ...            1  United-States  <=50K\n",
              "10196   1    Private  345277  ...            2  United-States  <=50K\n",
              "1451    4    Private  185749  ...            2  United-States  <=50K\n",
              "9838    2    Private  249720  ...            1  United-States  <=50K\n",
              "\n",
              "[5 rows x 15 columns]"
            ]
          },
          "metadata": {},
          "execution_count": 49
        }
      ]
    },
    {
      "cell_type": "markdown",
      "metadata": {
        "id": "-uphcWJo4j7x"
      },
      "source": [
        "* **Predictores**: Finalmente, algunos estimadores son capaces de hacer predicciones dado un conjunto de datos; Estos se conocen como predictores. Un predictor tiene un método `predict()` que toma un conjunto de datos de nuevas instancias y devuelve un conjunto de datos de predicciones correspondientes. También tiene un método `score()` que mide la calidad de las predicciones dado un conjunto de prueba. (El modelo `LinearRegression` que veremos más adelante es un ejemplo de un predictor)\n"
      ]
    },
    {
      "cell_type": "markdown",
      "metadata": {
        "id": "ThYEc56n6AP9"
      },
      "source": [
        "<p><a name=\"sklearnT\"></a></p>\n",
        "\n",
        "## 2.2 Tratamiento de datos\n",
        "\n",
        "ML se trata de crear modelos a partir de datos. Por esta razón, comenzaremos discutiendo algunos aspectos necesarios del tratamiento de los datos previos a la aplicación del algoritmo de ML en sklearn"
      ]
    },
    {
      "cell_type": "code",
      "metadata": {
        "id": "r66c6AJV8RyP",
        "colab": {
          "base_uri": "https://localhost:8080/",
          "height": 382
        },
        "outputId": "4838965d-f7ab-4d8a-d263-21fe66167fb3"
      },
      "source": [
        "import pandas as pd\n",
        "\n",
        "df=pd.read_csv('https://raw.githubusercontent.com/diplomado-bigdata-machinelearning-udea/Curso1/master/s04/adult.csv') \n",
        "df.head()"
      ],
      "execution_count": null,
      "outputs": [
        {
          "output_type": "execute_result",
          "data": {
            "text/html": [
              "<div>\n",
              "<style scoped>\n",
              "    .dataframe tbody tr th:only-of-type {\n",
              "        vertical-align: middle;\n",
              "    }\n",
              "\n",
              "    .dataframe tbody tr th {\n",
              "        vertical-align: top;\n",
              "    }\n",
              "\n",
              "    .dataframe thead th {\n",
              "        text-align: right;\n",
              "    }\n",
              "</style>\n",
              "<table border=\"1\" class=\"dataframe\">\n",
              "  <thead>\n",
              "    <tr style=\"text-align: right;\">\n",
              "      <th></th>\n",
              "      <th>age</th>\n",
              "      <th>workclass</th>\n",
              "      <th>fnlwgt</th>\n",
              "      <th>education</th>\n",
              "      <th>education-num</th>\n",
              "      <th>marital-status</th>\n",
              "      <th>occupation</th>\n",
              "      <th>relationship</th>\n",
              "      <th>race</th>\n",
              "      <th>sex</th>\n",
              "      <th>capitalgain</th>\n",
              "      <th>capitalloss</th>\n",
              "      <th>hoursperweek</th>\n",
              "      <th>native-country</th>\n",
              "      <th>class</th>\n",
              "    </tr>\n",
              "  </thead>\n",
              "  <tbody>\n",
              "    <tr>\n",
              "      <th>0</th>\n",
              "      <td>2</td>\n",
              "      <td>State-gov</td>\n",
              "      <td>77516</td>\n",
              "      <td>Bachelors</td>\n",
              "      <td>13</td>\n",
              "      <td>Never-married</td>\n",
              "      <td>Adm-clerical</td>\n",
              "      <td>Not-in-family</td>\n",
              "      <td>White</td>\n",
              "      <td>Male</td>\n",
              "      <td>1</td>\n",
              "      <td>0</td>\n",
              "      <td>2</td>\n",
              "      <td>United-States</td>\n",
              "      <td>&lt;=50K</td>\n",
              "    </tr>\n",
              "    <tr>\n",
              "      <th>1</th>\n",
              "      <td>3</td>\n",
              "      <td>Self-emp-not-inc</td>\n",
              "      <td>83311</td>\n",
              "      <td>Bachelors</td>\n",
              "      <td>13</td>\n",
              "      <td>Married-civ-spouse</td>\n",
              "      <td>Exec-managerial</td>\n",
              "      <td>Husband</td>\n",
              "      <td>White</td>\n",
              "      <td>Male</td>\n",
              "      <td>0</td>\n",
              "      <td>0</td>\n",
              "      <td>0</td>\n",
              "      <td>United-States</td>\n",
              "      <td>&lt;=50K</td>\n",
              "    </tr>\n",
              "    <tr>\n",
              "      <th>2</th>\n",
              "      <td>2</td>\n",
              "      <td>Private</td>\n",
              "      <td>215646</td>\n",
              "      <td>HS-grad</td>\n",
              "      <td>9</td>\n",
              "      <td>Divorced</td>\n",
              "      <td>Handlers-cleaners</td>\n",
              "      <td>Not-in-family</td>\n",
              "      <td>White</td>\n",
              "      <td>Male</td>\n",
              "      <td>0</td>\n",
              "      <td>0</td>\n",
              "      <td>2</td>\n",
              "      <td>United-States</td>\n",
              "      <td>&lt;=50K</td>\n",
              "    </tr>\n",
              "    <tr>\n",
              "      <th>3</th>\n",
              "      <td>3</td>\n",
              "      <td>Private</td>\n",
              "      <td>234721</td>\n",
              "      <td>11th</td>\n",
              "      <td>7</td>\n",
              "      <td>Married-civ-spouse</td>\n",
              "      <td>Handlers-cleaners</td>\n",
              "      <td>Husband</td>\n",
              "      <td>Black</td>\n",
              "      <td>Male</td>\n",
              "      <td>0</td>\n",
              "      <td>0</td>\n",
              "      <td>2</td>\n",
              "      <td>United-States</td>\n",
              "      <td>&lt;=50K</td>\n",
              "    </tr>\n",
              "    <tr>\n",
              "      <th>4</th>\n",
              "      <td>1</td>\n",
              "      <td>Private</td>\n",
              "      <td>338409</td>\n",
              "      <td>Bachelors</td>\n",
              "      <td>13</td>\n",
              "      <td>Married-civ-spouse</td>\n",
              "      <td>Prof-specialty</td>\n",
              "      <td>Wife</td>\n",
              "      <td>Black</td>\n",
              "      <td>Female</td>\n",
              "      <td>0</td>\n",
              "      <td>0</td>\n",
              "      <td>2</td>\n",
              "      <td>Cuba</td>\n",
              "      <td>&lt;=50K</td>\n",
              "    </tr>\n",
              "  </tbody>\n",
              "</table>\n",
              "</div>"
            ],
            "text/plain": [
              "   age         workclass  fnlwgt  ... hoursperweek  native-country  class\n",
              "0    2         State-gov   77516  ...            2   United-States  <=50K\n",
              "1    3  Self-emp-not-inc   83311  ...            0   United-States  <=50K\n",
              "2    2           Private  215646  ...            2   United-States  <=50K\n",
              "3    3           Private  234721  ...            2   United-States  <=50K\n",
              "4    1           Private  338409  ...            2            Cuba  <=50K\n",
              "\n",
              "[5 rows x 15 columns]"
            ]
          },
          "metadata": {},
          "execution_count": 57
        }
      ]
    },
    {
      "cell_type": "markdown",
      "metadata": {
        "id": "EZurcoswVSBB"
      },
      "source": [
        "<p><a name=\"sklearnTT\"></a></p>\n",
        "\n",
        "### 2.2.1 Datos de entrenamiento y de prueba\n",
        "\n",
        "Comencemos por crear la matrix de características **X** y el vector (serie) de etiquetas **y**. Supongamos que en este caso queremos predecir la característica \"age\":"
      ]
    },
    {
      "cell_type": "code",
      "metadata": {
        "id": "U9oA7rngVgoR",
        "colab": {
          "base_uri": "https://localhost:8080/"
        },
        "outputId": "5ceb9c05-52a1-45af-fe0a-21f9697ef381"
      },
      "source": [
        "X = df.drop(\"age\", axis=1) # Características\n",
        "X.shape"
      ],
      "execution_count": null,
      "outputs": [
        {
          "output_type": "execute_result",
          "data": {
            "text/plain": [
              "(48842, 14)"
            ]
          },
          "metadata": {},
          "execution_count": 61
        }
      ]
    },
    {
      "cell_type": "code",
      "metadata": {
        "id": "Dwh3UeyYWIIa",
        "colab": {
          "base_uri": "https://localhost:8080/"
        },
        "outputId": "acb64e3a-eb60-46e9-f956-4961936045f4"
      },
      "source": [
        "y = df[\"age\"] # Variable objetivo\n",
        "y.shape"
      ],
      "execution_count": null,
      "outputs": [
        {
          "output_type": "execute_result",
          "data": {
            "text/plain": [
              "(48842,)"
            ]
          },
          "metadata": {},
          "execution_count": 60
        }
      ]
    },
    {
      "cell_type": "markdown",
      "metadata": {
        "id": "JJOSK9ya_6aF"
      },
      "source": [
        "\n",
        "\n",
        "\n",
        "Generalmente se elige el 20% de los datos para la prueba y el resto para el entrenamiento. Los datos se deben dividir eligiendo los datos de manera aleatoria. Existen varias maneras de realizar este proceso\n",
        "\n",
        "   1) Crear una función que seleccione el 20% de los datos aleatoriamente.\n",
        "      \n",
        "   2) De la librería `sklearn.model_selection` usar las funciones:\n",
        "      \n",
        "      * train_test_split\n",
        "       \n",
        "      * StratifiedShuffleSplit \n",
        "      \n",
        "La primera función dividirá los datos en los mismos índices (esto es muy útil, por ejemplo, si tenemos un DataFrame separado para las etiquetas). La segunda función hace lo que se conoce como un muestreo estratificado, el cual se usa en el caso de que no haya suficientes datos y queramos evitar introducir sesgos\n",
        "\n",
        "\n"
      ]
    },
    {
      "cell_type": "code",
      "metadata": {
        "id": "rVouMu_rT-lP",
        "colab": {
          "base_uri": "https://localhost:8080/"
        },
        "outputId": "8669a701-ec08-47f4-ef8b-43d5519e8065"
      },
      "source": [
        "# Cuando tengamos una cantidad de datos tal que estemos seguros que no introduciremos un sesgo\n",
        "from sklearn.model_selection import train_test_split\n",
        "x_train, x_test, y_train, y_test = train_test_split(X,y, test_size=0.2, random_state=42) # random_state nos permite establecer una semilla \n",
        "\n",
        "print(x_train.shape,y_train.shape)\n",
        "print(x_test.shape,y_test.shape)"
      ],
      "execution_count": null,
      "outputs": [
        {
          "output_type": "stream",
          "name": "stdout",
          "text": [
            "(39073, 14) (39073,)\n",
            "(9769, 14) (9769,)\n"
          ]
        }
      ]
    },
    {
      "cell_type": "code",
      "metadata": {
        "id": "QTkcpQrPwIW2",
        "colab": {
          "base_uri": "https://localhost:8080/"
        },
        "outputId": "72e082d5-ee72-47bf-c6a4-0997b2836052"
      },
      "source": [
        "len(X)*0.2"
      ],
      "execution_count": null,
      "outputs": [
        {
          "output_type": "execute_result",
          "data": {
            "text/plain": [
              "9768.4"
            ]
          },
          "metadata": {},
          "execution_count": 64
        }
      ]
    },
    {
      "cell_type": "code",
      "metadata": {
        "id": "j26SK0N_ULDV",
        "colab": {
          "base_uri": "https://localhost:8080/"
        },
        "outputId": "318e4f3a-3f1d-4363-cb86-c7735362a776"
      },
      "source": [
        "from sklearn.model_selection import StratifiedShuffleSplit\n",
        "\n",
        "s = StratifiedShuffleSplit(n_splits=5, test_size=0.2, random_state=40)\n",
        "\n",
        "for train_index, test_index in s.split(X,y):\n",
        "  X_train, X_test = X.iloc[train_index], X.iloc[test_index]\n",
        "  Y_train, Y_test = y.iloc[train_index], y.iloc[test_index]\n",
        "  \n",
        "print(X_train.shape,Y_train.shape)\n",
        "print(X_test.shape,Y_test.shape)"
      ],
      "execution_count": null,
      "outputs": [
        {
          "output_type": "stream",
          "name": "stdout",
          "text": [
            "(39073, 14) (39073,)\n",
            "(9769, 14) (9769,)\n"
          ]
        }
      ]
    },
    {
      "cell_type": "markdown",
      "metadata": {
        "id": "c2KQa9-FnJm4"
      },
      "source": [
        "<p><a name=\"sklearnCT\"></a></p>\n",
        "\n",
        "### 2.2.2 Conversión de variables categóricas\n",
        "\n",
        "Para la conversión de variables categóricas, sklearn ofrece los módulos `OrdinalEncoder` y `OneHotEncoder`"
      ]
    },
    {
      "cell_type": "code",
      "metadata": {
        "id": "upAz1I2knn5C",
        "colab": {
          "base_uri": "https://localhost:8080/"
        },
        "outputId": "bfd7c4e1-0c75-42a8-eb98-10ebc0401742"
      },
      "source": [
        "df.dtypes"
      ],
      "execution_count": null,
      "outputs": [
        {
          "output_type": "execute_result",
          "data": {
            "text/plain": [
              "age                int64\n",
              "workclass         object\n",
              "fnlwgt             int64\n",
              "education         object\n",
              "education-num      int64\n",
              "marital-status    object\n",
              "occupation        object\n",
              "relationship      object\n",
              "race              object\n",
              "sex               object\n",
              "capitalgain        int64\n",
              "capitalloss        int64\n",
              "hoursperweek       int64\n",
              "native-country    object\n",
              "class             object\n",
              "dtype: object"
            ]
          },
          "metadata": {},
          "execution_count": 24
        }
      ]
    },
    {
      "cell_type": "code",
      "metadata": {
        "id": "d3rFo41jw7C-",
        "colab": {
          "base_uri": "https://localhost:8080/"
        },
        "outputId": "ef774565-a2a3-4f3b-90f3-af5bf0f3f547"
      },
      "source": [
        "len(df.education.unique())"
      ],
      "execution_count": null,
      "outputs": [
        {
          "output_type": "execute_result",
          "data": {
            "text/plain": [
              "16"
            ]
          },
          "metadata": {},
          "execution_count": 70
        }
      ]
    },
    {
      "cell_type": "code",
      "metadata": {
        "id": "yGmGFIkoxR89",
        "colab": {
          "base_uri": "https://localhost:8080/"
        },
        "outputId": "1edbbcba-209e-4492-ff9f-e111a56901c8"
      },
      "source": [
        "df.education"
      ],
      "execution_count": null,
      "outputs": [
        {
          "output_type": "execute_result",
          "data": {
            "text/plain": [
              "0        Bachelors\n",
              "1        Bachelors\n",
              "2          HS-grad\n",
              "3             11th\n",
              "4        Bachelors\n",
              "           ...    \n",
              "48837    Bachelors\n",
              "48838      HS-grad\n",
              "48839    Bachelors\n",
              "48840    Bachelors\n",
              "48841    Bachelors\n",
              "Name: education, Length: 48842, dtype: object"
            ]
          },
          "metadata": {},
          "execution_count": 69
        }
      ]
    },
    {
      "cell_type": "code",
      "metadata": {
        "id": "H94LrGPxxDAu"
      },
      "source": [
        "from sklearn.preprocessing import OrdinalEncoder"
      ],
      "execution_count": null,
      "outputs": []
    },
    {
      "cell_type": "code",
      "metadata": {
        "id": "BWwBMTVxnu8-",
        "colab": {
          "base_uri": "https://localhost:8080/"
        },
        "outputId": "e9d96337-433a-497d-aa73-83f2e106999c"
      },
      "source": [
        "ordinal_encoder = OrdinalEncoder()\n",
        "df_cat_encoded = ordinal_encoder.fit_transform(df[[\"education\"]])\n",
        "df_cat_encoded"
      ],
      "execution_count": null,
      "outputs": [
        {
          "output_type": "execute_result",
          "data": {
            "text/plain": [
              "array([[ 9.],\n",
              "       [ 9.],\n",
              "       [11.],\n",
              "       ...,\n",
              "       [ 9.],\n",
              "       [ 9.],\n",
              "       [ 9.]])"
            ]
          },
          "metadata": {},
          "execution_count": 68
        }
      ]
    },
    {
      "cell_type": "code",
      "metadata": {
        "id": "FFQOUr5qxa02",
        "colab": {
          "base_uri": "https://localhost:8080/"
        },
        "outputId": "7e416222-0fe5-4860-e3bf-0ed5f465f5e3"
      },
      "source": [
        "max(df_cat_encoded)"
      ],
      "execution_count": null,
      "outputs": [
        {
          "output_type": "execute_result",
          "data": {
            "text/plain": [
              "array([15.])"
            ]
          },
          "metadata": {},
          "execution_count": 73
        }
      ]
    },
    {
      "cell_type": "code",
      "metadata": {
        "id": "EngCj38-xlMh"
      },
      "source": [
        "from sklearn.preprocessing import OneHotEncoder # Variables Dummies "
      ],
      "execution_count": null,
      "outputs": []
    },
    {
      "cell_type": "markdown",
      "metadata": {
        "id": "caJJB5Vwxv1X"
      },
      "source": [
        "Supongamos que tenemos tres clases:\n",
        "\n",
        "x(precio) -> ['Alto', 'Medio', 'Baja']\n",
        "\n",
        "- alto -> [1, 0, 0]\n",
        "- medio -> [0, 1, 0]\n",
        "- bajo -> [0, 0, 1]"
      ]
    },
    {
      "cell_type": "code",
      "metadata": {
        "id": "K5zGziIYoe2T",
        "colab": {
          "base_uri": "https://localhost:8080/"
        },
        "outputId": "f2863b56-9b1b-4275-be17-8a85fe55e320"
      },
      "source": [
        "cat_encoder = OneHotEncoder()\n",
        "cat_encoder = OneHotEncoder(sparse=False)\n",
        "df_cat_1hot = cat_encoder.fit_transform(df[[\"sex\"]])\n",
        "df_cat_1hot[:5]"
      ],
      "execution_count": null,
      "outputs": [
        {
          "output_type": "execute_result",
          "data": {
            "text/plain": [
              "array([[0., 1.],\n",
              "       [0., 1.],\n",
              "       [0., 1.],\n",
              "       [0., 1.],\n",
              "       [1., 0.]])"
            ]
          },
          "metadata": {},
          "execution_count": 79
        }
      ]
    },
    {
      "cell_type": "code",
      "metadata": {
        "id": "WJ-81KpxywUP",
        "colab": {
          "base_uri": "https://localhost:8080/"
        },
        "outputId": "b57a4a0c-164f-42f6-9b09-ce30de654660"
      },
      "source": [
        "df.sex"
      ],
      "execution_count": null,
      "outputs": [
        {
          "output_type": "execute_result",
          "data": {
            "text/plain": [
              "0          Male\n",
              "1          Male\n",
              "2          Male\n",
              "3          Male\n",
              "4        Female\n",
              "          ...  \n",
              "48837    Female\n",
              "48838      Male\n",
              "48839      Male\n",
              "48840      Male\n",
              "48841      Male\n",
              "Name: sex, Length: 48842, dtype: object"
            ]
          },
          "metadata": {},
          "execution_count": 77
        }
      ]
    },
    {
      "cell_type": "markdown",
      "metadata": {
        "id": "C1aA6EiG2rIN"
      },
      "source": [
        "Por defecto el `OneHotEncoder` retorna una matriz dispersa (sparse). Muchos de los estimadores de Sklearn aceptan entradas de este tipo al ajustar y evaluar modelos. "
      ]
    },
    {
      "cell_type": "markdown",
      "metadata": {
        "id": "keS9v4A2qiig"
      },
      "source": [
        "<p><a name=\"sklearnFS\"></a></p>\n",
        "\n",
        "### 2.2.3 Escalado de características"
      ]
    },
    {
      "cell_type": "markdown",
      "metadata": {
        "id": "nYdSdabfqvxh"
      },
      "source": [
        "Los algoritmos de ML no funcionan bien cuando los atributos numéricos de entrada tienen escalas muy diferentes (o en algunos casos las entradas deben estar normalizadas). Para resolver esto, Scikit-Learn tiene dos funciones para que todos los atributos tengan la misma escala: \n",
        "\n",
        "* Normalización  \n",
        "$$ x'=\\frac{x-x_{min}}{x_{max}-x_{min}}.$$ \n",
        "\n",
        "\n"
      ]
    },
    {
      "cell_type": "code",
      "metadata": {
        "id": "3HPRTVS8zEf9"
      },
      "source": [
        "from sklearn.preprocessing import MinMaxScaler"
      ],
      "execution_count": null,
      "outputs": []
    },
    {
      "cell_type": "code",
      "metadata": {
        "id": "FCGH7VdFqvZP",
        "colab": {
          "base_uri": "https://localhost:8080/"
        },
        "outputId": "8ec5d4dc-070d-4882-ec96-611662217987"
      },
      "source": [
        "scaler = MinMaxScaler()\n",
        "scaler.fit_transform(df[[\"age\"]],df[[\"hoursperweek\"]])"
      ],
      "execution_count": null,
      "outputs": [
        {
          "output_type": "execute_result",
          "data": {
            "text/plain": [
              "array([[0.5 ],\n",
              "       [0.75],\n",
              "       [0.5 ],\n",
              "       ...,\n",
              "       [0.5 ],\n",
              "       [0.5 ],\n",
              "       [0.25]])"
            ]
          },
          "metadata": {},
          "execution_count": 81
        }
      ]
    },
    {
      "cell_type": "markdown",
      "metadata": {
        "id": "nQv2DNcOvmlv"
      },
      "source": [
        "* Estandarización:\n",
        "$$ x'=\\frac{x-\\bar x}{\\sigma} $$"
      ]
    },
    {
      "cell_type": "code",
      "metadata": {
        "id": "ORhvoYxNsrif",
        "colab": {
          "base_uri": "https://localhost:8080/"
        },
        "outputId": "13eabfb0-a463-4162-e7fa-b1f01c46cbc9"
      },
      "source": [
        "from sklearn.preprocessing import StandardScaler\n",
        "\n",
        "sscaler = StandardScaler()\n",
        "sscaler.fit_transform(df[[\"age\"]],df[[\"hoursperweek\"]])"
      ],
      "execution_count": null,
      "outputs": [
        {
          "output_type": "execute_result",
          "data": {
            "text/plain": [
              "array([[ 0.17672381],\n",
              "       [ 0.94870704],\n",
              "       [ 0.17672381],\n",
              "       ...,\n",
              "       [ 0.17672381],\n",
              "       [ 0.17672381],\n",
              "       [-0.59525942]])"
            ]
          },
          "metadata": {},
          "execution_count": 82
        }
      ]
    },
    {
      "cell_type": "markdown",
      "metadata": {
        "id": "ma3-y7ZXvt7u"
      },
      "source": [
        "<p><a name=\"sklearnPL\"></a></p>\n",
        "\n",
        "### 3.2.4 Pipeline\n",
        "\n",
        "Un *Pipeline* es una secuencia de transformaciones que se utilizan para automatizar flujos de trabajo. Los pipelines son muy comunes en los sistemas de ML, ya que hay muchos datos para manipular y muchas transformaciones de datos para aplicar. Sklearn proporciona la clase `Pipeline`. En el siguiente ejemplo crearemos un pipeline para \n",
        "\n",
        "1) Reemplazar los valores nulos por la media \n",
        "\n",
        "2) Estandarizar los datos.\n"
      ]
    },
    {
      "cell_type": "code",
      "metadata": {
        "id": "29xHpR9azZXc"
      },
      "source": [
        "from sklearn.pipeline import Pipeline"
      ],
      "execution_count": null,
      "outputs": []
    },
    {
      "cell_type": "markdown",
      "metadata": {
        "id": "Oy6P_f59zk_p"
      },
      "source": [
        "`Pipeline` recibe una lista de tuplas:"
      ]
    },
    {
      "cell_type": "code",
      "metadata": {
        "id": "jULTvAWNxqBt",
        "colab": {
          "base_uri": "https://localhost:8080/"
        },
        "outputId": "d6f27c98-7412-4442-c513-88763a81211b"
      },
      "source": [
        "num_pipeline = Pipeline([\n",
        "        ('imputer', SimpleImputer(strategy=\"median\")),\n",
        "        ('std_scaler', StandardScaler()),\n",
        "    ])\n",
        "\n",
        "df_age_pipe = num_pipeline.fit_transform(df[[\"age\"]])\n",
        "\n",
        "trans_age = pd.DataFrame(df_age_pipe)\n",
        "print(trans_age.std(),trans_age.mean())\n"
      ],
      "execution_count": null,
      "outputs": [
        {
          "output_type": "stream",
          "name": "stdout",
          "text": [
            "0    1.00001\n",
            "dtype: float64 0   -1.553935e-15\n",
            "dtype: float64\n"
          ]
        }
      ]
    },
    {
      "cell_type": "code",
      "metadata": {
        "id": "jsE4SiWu0Omi",
        "colab": {
          "base_uri": "https://localhost:8080/"
        },
        "outputId": "268105e6-1831-49af-bfbb-90ea021d17eb"
      },
      "source": [
        "df_age_pipe.std()"
      ],
      "execution_count": null,
      "outputs": [
        {
          "output_type": "execute_result",
          "data": {
            "text/plain": [
              "1.0"
            ]
          },
          "metadata": {},
          "execution_count": 87
        }
      ]
    },
    {
      "cell_type": "markdown",
      "metadata": {
        "id": "BMZxPGZj0hqt"
      },
      "source": [
        "Hasta acá hemos estudiado las fases de:\n",
        "\n",
        "- Exploratory Data Analysis (EDA).\n",
        "- Data wrangling (Data preprocessing)."
      ]
    },
    {
      "cell_type": "markdown",
      "metadata": {
        "id": "oENgBI_11GPg"
      },
      "source": [
        "**Nota**: Se puede realizar preprocesado de variables catergóricas con ruido (categorías que no deben existir en los datos) mediante el uso de expresiones regulares.\n",
        "\n",
        "- alto\n",
        "- medio\n",
        "- bajo\n",
        "- medio_drop\n",
        "- xxxxx"
      ]
    },
    {
      "cell_type": "markdown",
      "metadata": {
        "id": "aGTmN_HR97p6"
      },
      "source": [
        "<p><a name=\"taller\"></a></p>\n",
        "\n",
        "# 3. Taller\n",
        "\n",
        "[Contenidos](#contents) \n"
      ]
    },
    {
      "cell_type": "markdown",
      "metadata": {
        "id": "qU41Rq0E8KoM"
      },
      "source": [
        "## Pregunta 1\n",
        "\n",
        "Cargar el dataset de autos, eliminar las filas con valores nulos y dejar solo las columnas con variables numéricas"
      ]
    },
    {
      "cell_type": "markdown",
      "metadata": {
        "id": "sCbQnD0JAqO-"
      },
      "source": [
        "Hacer doble click <b>aquí</b> para ver la solución:\n",
        "\n",
        "<!-- Respuesta:\n",
        "\n",
        "import pandas as pd\n",
        "import numpy as np\n",
        "\n",
        "archivo = 'https://s3-api.us-geo.objectstorage.softlayer.net/cf-courses-data/CognitiveClass/DA0101EN/automobileEDA.csv'\n",
        "df = pd.read_csv(archivo)\n",
        "\n",
        "df.dropna(inplace=True)\n",
        "dfNum=df.select_dtypes(include=['float64','int64'])\n",
        "\n",
        "--->"
      ]
    },
    {
      "cell_type": "markdown",
      "metadata": {
        "id": "pZgt73LO8Sdl"
      },
      "source": [
        "## Pregunta 2\n",
        "\n",
        "Definir la variable a predecir $y$ como el precio y la matriz de características $X$ con el resto de variables numéricas"
      ]
    },
    {
      "cell_type": "markdown",
      "metadata": {
        "id": "Dt4CbOq5AxCg"
      },
      "source": [
        "Hacer doble click <b>aquí</b> para ver la solución:\n",
        "\n",
        "<!-- Respuesta:\n",
        "\n",
        "y=dfNum['price']\n",
        "X=dfNum.loc[:, dfNum.columns != 'price']\n",
        "#alternativa dfNum.drop('price',axis=1)\n",
        "\n",
        "\n",
        "--->"
      ]
    }
  ]
}