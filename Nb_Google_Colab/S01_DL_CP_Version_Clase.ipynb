{
  "nbformat": 4,
  "nbformat_minor": 0,
  "metadata": {
    "kernelspec": {
      "name": "python3",
      "display_name": "Python 3"
    },
    "language_info": {
      "codemirror_mode": {
        "name": "ipython",
        "version": 3
      },
      "file_extension": ".py",
      "mimetype": "text/x-python",
      "name": "python",
      "nbconvert_exporter": "python",
      "pygments_lexer": "ipython3",
      "version": "3.7.3"
    },
    "colab": {
      "name": "S01_DL_CP_Version_Clase.ipynb",
      "provenance": [],
      "collapsed_sections": [],
      "include_colab_link": true
    },
    "accelerator": "GPU"
  },
  "cells": [
    {
      "cell_type": "markdown",
      "metadata": {
        "id": "view-in-github",
        "colab_type": "text"
      },
      "source": [
        "<a href=\"https://colab.research.google.com/github/ssanchezgoe/eafit_isa/blob/main/Nb_Google_Colab/S01_DL_CP_Version_Clase.ipynb\" target=\"_parent\"><img src=\"https://colab.research.google.com/assets/colab-badge.svg\" alt=\"Open In Colab\"/></a>"
      ]
    },
    {
      "cell_type": "markdown",
      "metadata": {
        "id": "fRpL-93u1dIy"
      },
      "source": [
        "  <tr>\n",
        "     <th><p><img alt=\"Colaboratory logo\" height=\"80px\" src=\"https://upload.wikimedia.org/wikipedia/commons/thumb/8/83/Sena_Colombia_logo.svg/1045px-Sena_Colombia_logo.svg.png\" align=\"left\" hspace=\"10px\" vspace=\"0px\"></p></th> \n",
        "    <th><p><img alt=\"Colaboratory logo\" height=\"80px\" src=\"https://www.isa.co/wp-content/uploads/2020/11/logo.png\" align=\"right\" hspace=\"10px\" vspace=\"0px\"></p></th>\n",
        "    <th><p><img alt=\"Colaboratory logo\" height=\"80px\" src=\"https://upload.wikimedia.org/wikipedia/commons/b/bf/EAFIT-2015.png\" align=\"left\" hspace=\"10px\" vspace=\"0px\"></p></th> \n",
        "     <th><h1>  Deep Learning y Computer Vision </h1></th>\n",
        "  </tr>\n",
        "\n",
        "\n",
        "\n",
        "\n"
      ]
    },
    {
      "cell_type": "markdown",
      "metadata": {
        "id": "vB8JTC0uAFLW"
      },
      "source": [
        "Poner lo que quiera sin miedo a dañar las cosas"
      ]
    },
    {
      "cell_type": "markdown",
      "metadata": {
        "id": "sYkr79uu_Lp-"
      },
      "source": [
        "## Más Recursos\n",
        "\n",
        "Recursos para aprender como usar Python, Jupyter y Colaboratory:\n",
        "\n",
        "### Trabajando con Notebooks del Colaboratory\n",
        "- [Introducción a Colaboratory](/notebooks/basic_features_overview.ipynb)\n",
        "- [Guía de  Markdown](/notebooks/markdown_guide.ipynb)\n",
        "- [Importar Librerías e Instalar Dependencias](/notebooks/snippets/importing_libraries.ipynb)\n",
        "- [Guardar y cargar cuadernos en GitHub](https://colab.research.google.com/github/googlecolab/colabtools/blob/master/notebooks/colab-github-demo.ipynb)\n",
        "- [Formularios Interactivos](/notebooks/forms.ipynb)\n",
        "- [Widgets Interactivos](/notebooks/widgets.ipynb)\n",
        "\n",
        "### Trabajando con Datos\n",
        "- [Cargar datos desde: Drive, Sheets y Google Cloud Storage](/notebooks/io.ipynb) \n",
        "- [Gráficas: Visualizar los Datos](/notebooks/charts.ipynb)\n",
        "- [Introducción a BigQuery](/notebooks/bigquery.ipynb)\n",
        "\n",
        "### Introducción al Aprendizaje Automático\n",
        "Estos son algunos notebooks del curso virtual de google sobre aprendizaje automático. Ver la [página web del curso](https://developers.google.com/machine-learning/crash-course/) para obtener más información.\n",
        "- [Introducción a Pandas](/notebooks/mlcc/intro_to_pandas.ipynb)\n",
        "- [Conceptos de Tensorflow](/notebooks/mlcc/tensorflow_programming_concepts.ipynb)\n",
        "- [Primeros pasos con TensorFlow](/notebooks/mlcc/first_steps_with_tensor_flow.ipynb)\n",
        "- [Introducción a Redes Neuronales](/notebooks/mlcc/intro_to_neural_nets.ipynb)\n",
        "- [Introducción a datos escasos y embebimientos](/notebooks/mlcc/intro_to_sparse_data_and_embeddings.ipynb)\n",
        "\n",
        "### Hardware para cálculo en paralelo\n",
        "- [TensorFlow con GPUs](/notebooks/gpu.ipynb)\n",
        "- [TensorFlow con TPUs](/notebooks/tpu.ipynb)"
      ]
    },
    {
      "cell_type": "markdown",
      "metadata": {
        "id": "9s7P2aLmTeKo"
      },
      "source": [
        "#Repaso de Tensores:\n",
        "\n",
        "Aunque no hayamos visto la definición de \"tensores\" en el curso 1, si que hemos trabajado con ellos haciendo referecia a ellos como arrays o arreglos."
      ]
    },
    {
      "cell_type": "markdown",
      "metadata": {
        "id": "vOK_YBu5EIgX"
      },
      "source": [
        "## Representaciones de datos en NN:\n",
        "\n",
        "En el ejemplo anterior, partimos de datos almacenados en arreglos multidimensionales de `numpy`, los cuales se conocen con el nombre de *tensores*. En general, todos los algoritmos de ML usan tensores como estructura base de los datos, siendo un campo fundamental de éstos. \n",
        "\n",
        "En esencia, un tensor es un contenedor de datos, casi siempre datos numéricos. Por ejemplo, estamos familiarizados con las matrices, que son tensores 2D: los tensores son una generalización de matrices a un número arbitrario de dimensiones (a una dimensión a menudo se denomina eje). "
      ]
    },
    {
      "cell_type": "markdown",
      "metadata": {
        "id": "xJclXPPYCzJ_"
      },
      "source": [
        "Numpy: Tiene como objeto central los arreglos."
      ]
    },
    {
      "cell_type": "markdown",
      "metadata": {
        "id": "INRNs5fGYeUX"
      },
      "source": [
        "## Escalares (Tensores 0D)\n",
        "\n",
        "Un tensor que contiene un solo número se le llama escalar, tensor escalar, tensor 0-dimensional ó 0D tensor. En `numpy` se tiene:\n",
        "\n",
        "- float32 o float64.\n",
        "- int 32 o int 64.\n",
        "\n",
        "Recordemos"
      ]
    },
    {
      "cell_type": "code",
      "metadata": {
        "id": "6-Cx82-9DG2q"
      },
      "source": [
        "# Array \n",
        "import numpy as np"
      ],
      "execution_count": null,
      "outputs": []
    },
    {
      "cell_type": "code",
      "metadata": {
        "id": "i5_4p9KKYas8",
        "colab": {
          "base_uri": "https://localhost:8080/"
        },
        "outputId": "ce58b420-7013-4540-9cff-b35bf9726675"
      },
      "source": [
        "x0 = np.array(12)\n",
        "x0"
      ],
      "execution_count": null,
      "outputs": [
        {
          "output_type": "execute_result",
          "data": {
            "text/plain": [
              "array(12)"
            ]
          },
          "metadata": {},
          "execution_count": 3
        }
      ]
    },
    {
      "cell_type": "code",
      "metadata": {
        "colab": {
          "base_uri": "https://localhost:8080/"
        },
        "id": "94RLa2WzDb_8",
        "outputId": "9a6e782b-9fbc-4715-bd79-cabd605c747f"
      },
      "source": [
        "print(x0)"
      ],
      "execution_count": null,
      "outputs": [
        {
          "output_type": "stream",
          "name": "stdout",
          "text": [
            "12\n"
          ]
        }
      ]
    },
    {
      "cell_type": "markdown",
      "metadata": {
        "id": "ggx_9v6VZrIR"
      },
      "source": [
        "# Vectores (Tensores 1D)\n",
        "\n",
        "A un array de número se le llama vector, o tensor 1D. Decimo entonces que un tensor 1D tiene exactamente 1 eje. \n",
        "\n",
        "En `numpy` lo definimos como:"
      ]
    },
    {
      "cell_type": "code",
      "metadata": {
        "id": "tH3QK1s_aBl6",
        "colab": {
          "base_uri": "https://localhost:8080/"
        },
        "outputId": "b563f6a9-8dec-47e2-b890-1c7ee7b2f70c"
      },
      "source": [
        "x1 = np.array([12, 3, 6, 14])\n",
        "x1"
      ],
      "execution_count": null,
      "outputs": [
        {
          "output_type": "execute_result",
          "data": {
            "text/plain": [
              "array([12,  3,  6, 14])"
            ]
          },
          "metadata": {},
          "execution_count": 6
        }
      ]
    },
    {
      "cell_type": "code",
      "metadata": {
        "id": "mYgflQt5aFJt",
        "colab": {
          "base_uri": "https://localhost:8080/"
        },
        "outputId": "9bbd627f-1dbc-4500-9779-4e5f68ade2af"
      },
      "source": [
        "x1.ndim"
      ],
      "execution_count": null,
      "outputs": [
        {
          "output_type": "execute_result",
          "data": {
            "text/plain": [
              "1"
            ]
          },
          "metadata": {},
          "execution_count": 7
        }
      ]
    },
    {
      "cell_type": "code",
      "metadata": {
        "colab": {
          "base_uri": "https://localhost:8080/"
        },
        "id": "UHCkCZHaEJGV",
        "outputId": "15afd9a9-efbe-48e9-bb10-b2e0e6079905"
      },
      "source": [
        "x1[0]"
      ],
      "execution_count": null,
      "outputs": [
        {
          "output_type": "execute_result",
          "data": {
            "text/plain": [
              "12"
            ]
          },
          "metadata": {},
          "execution_count": 10
        }
      ]
    },
    {
      "cell_type": "markdown",
      "metadata": {
        "id": "zdqhaDB1aIyO"
      },
      "source": [
        "El anterior vector tiene 5 entradas, por lo tanto es llamado *vector 5-dimensional*. La *dimensionalidad* puede denotar, tanto el numero de entradas a lo larco de un eje específico, o el número de ejes en un tensor.  En el caso anterior, y para evitar confusiones con los tensor 5D, es mejor referirnos éste como *tensor de rango 5*. "
      ]
    },
    {
      "cell_type": "markdown",
      "metadata": {
        "id": "u35oVnz-bPay"
      },
      "source": [
        "## Matrices (Tensores 2D)\n",
        "\n",
        "Un arreglo de vectores es una matriz, un un tensor 2D. Una matriz tiene dos ejes, a los cuales nos referimos comúnmente como filas y columnas. Una matriz representa, visualmente, una malla rectancular de números.\n",
        "\n",
        "En numpy se define como:"
      ]
    },
    {
      "cell_type": "code",
      "metadata": {
        "id": "PcbO9GFCbxJ7",
        "colab": {
          "base_uri": "https://localhost:8080/"
        },
        "outputId": "dc3bd674-1fee-42c1-f076-17ef5c19cbcf"
      },
      "source": [
        "x2 = np.array([[5, 78, 2, 34, 0],\n",
        "[6, 79, 3, 35, 1],\n",
        "[7, 80, 4, 36, 2]])\n",
        "x2.ndim"
      ],
      "execution_count": null,
      "outputs": [
        {
          "output_type": "execute_result",
          "data": {
            "text/plain": [
              "2"
            ]
          },
          "metadata": {},
          "execution_count": 11
        }
      ]
    },
    {
      "cell_type": "code",
      "metadata": {
        "colab": {
          "base_uri": "https://localhost:8080/"
        },
        "id": "yM9l5bPIE5TG",
        "outputId": "d6154db3-949b-40b5-d22e-f41c364f36d9"
      },
      "source": [
        "x2[2,0] # pareja de numeros enteros"
      ],
      "execution_count": null,
      "outputs": [
        {
          "output_type": "execute_result",
          "data": {
            "text/plain": [
              "7"
            ]
          },
          "metadata": {},
          "execution_count": 15
        }
      ]
    },
    {
      "cell_type": "markdown",
      "metadata": {
        "id": "5NbBjUqxbydT"
      },
      "source": [
        "Recordemos que a las entradas del primer eje se le llaman fillas y las entradas del segundo eje, columnas. "
      ]
    },
    {
      "cell_type": "markdown",
      "metadata": {
        "id": "eNFNQx4LcHfa"
      },
      "source": [
        "## Tensores 3D y tensores de dimensión mayor:\n",
        "\n",
        "Si agrupamos matríces de dimensiones iguales hablamos de un tensor 3D, que puede interpretarse, visualmente como un cubo de numeros. \n",
        "\n",
        "En numpy se define como:"
      ]
    },
    {
      "cell_type": "code",
      "metadata": {
        "id": "LmSFrOFTcqMT",
        "colab": {
          "base_uri": "https://localhost:8080/"
        },
        "outputId": "24db9968-88a7-4e49-a3e6-da5771554bcd"
      },
      "source": [
        "x3 = np.array([[[5, 78, 2, 34, 0],\n",
        "[6, 79, 3, 35, 1],\n",
        "[7, 80, 4, 36, 2]],\n",
        "[[5, 78, 2, 34, 0],\n",
        "[6, 79, 3, 375.1, 1],\n",
        "[7, 80, 4, 36, 2]],\n",
        "[[5, 78, 2, 34, 0],\n",
        "[6, 79, 3, 35, 1],\n",
        "[7, 80, 4, 36, 2]]]) # Casteo \n",
        "\n",
        "x3.ndim"
      ],
      "execution_count": null,
      "outputs": [
        {
          "output_type": "execute_result",
          "data": {
            "text/plain": [
              "3"
            ]
          },
          "metadata": {},
          "execution_count": 31
        }
      ]
    },
    {
      "cell_type": "code",
      "metadata": {
        "colab": {
          "base_uri": "https://localhost:8080/"
        },
        "id": "7qi2X4qJGhEk",
        "outputId": "04adfcb7-eb64-479a-f397-58b8f0d50273"
      },
      "source": [
        "x3[1,1,3]"
      ],
      "execution_count": null,
      "outputs": [
        {
          "output_type": "execute_result",
          "data": {
            "text/plain": [
              "375.1"
            ]
          },
          "metadata": {},
          "execution_count": 32
        }
      ]
    },
    {
      "cell_type": "markdown",
      "metadata": {
        "id": "3Lr_WRNKc2R0"
      },
      "source": [
        "Al agrupar tensores 3D en una arreglo, podemos crear tensores 4D, y así sucesivamente. En deep learning se trabajará con tensores de rango 0 a 4, y en caso como el procesamiento de videos, puede llegarse a tensores de rango 5."
      ]
    },
    {
      "cell_type": "markdown",
      "metadata": {
        "id": "iVma5hgrdaH_"
      },
      "source": [
        "### Atributos claves:\n",
        " Un tensor se encuentra determinado por tres atributos:\n",
        "\n",
        " * *Numero de ejes*: (rango): `ndim`.\n",
        " * *Forma*: que en python es una tupla de enteros que describe cuantas dimensiones tienen el tensor a lo largo de cada eje.  A este atributo se accede mediante `shape`.\n",
        " * *Data type*: Corresponde a los tipos de datos que contiene el tensor y se accede a mediante el atributo `dtype`."
      ]
    },
    {
      "cell_type": "code",
      "metadata": {
        "id": "aXYbKDhugLos",
        "colab": {
          "base_uri": "https://localhost:8080/"
        },
        "outputId": "30716d30-695e-4ef8-8880-3e42b3d7e2e0"
      },
      "source": [
        "print(f\"Dimensión: {x3.ndim}\")\n",
        "print(f\"Forma {x3.shape}\" )\n",
        "print(f\"Tipo de datos: {x3.dtype}\")"
      ],
      "execution_count": null,
      "outputs": [
        {
          "output_type": "stream",
          "name": "stdout",
          "text": [
            "Dimensión: 3\n",
            "Forma (3, 3, 5)\n",
            "Tipo de datos: float64\n"
          ]
        }
      ]
    },
    {
      "cell_type": "code",
      "metadata": {
        "colab": {
          "base_uri": "https://localhost:8080/"
        },
        "id": "g4kybQ4BIW9A",
        "outputId": "10883547-0bfa-428c-e79b-6576a6c1c697"
      },
      "source": [
        "x3[1,1,1]"
      ],
      "execution_count": null,
      "outputs": [
        {
          "output_type": "execute_result",
          "data": {
            "text/plain": [
              "79.0"
            ]
          },
          "metadata": {},
          "execution_count": 34
        }
      ]
    },
    {
      "cell_type": "markdown",
      "metadata": {
        "id": "Fg1mMdqFhKA1"
      },
      "source": [
        "Veamos un ejemplo concreto de una base de datos MNIST de `keras`:"
      ]
    },
    {
      "cell_type": "code",
      "metadata": {
        "colab": {
          "base_uri": "https://localhost:8080/"
        },
        "id": "W1Go8kFsLP2b",
        "outputId": "58b97da2-bec9-455a-d1d1-d16d3cf39616"
      },
      "source": [
        "#2**1 # 0 - 1\n",
        "2**8 # 0 - 255"
      ],
      "execution_count": null,
      "outputs": [
        {
          "output_type": "execute_result",
          "data": {
            "text/plain": [
              "256"
            ]
          },
          "metadata": {},
          "execution_count": 37
        }
      ]
    },
    {
      "cell_type": "code",
      "metadata": {
        "id": "p_2gRAQ8NVvp"
      },
      "source": [
        "from keras.datasets import mnist\n",
        "import numpy as np"
      ],
      "execution_count": null,
      "outputs": []
    },
    {
      "cell_type": "code",
      "metadata": {
        "id": "VvY37-CANZjI"
      },
      "source": [
        "mnist.load_data?"
      ],
      "execution_count": null,
      "outputs": []
    },
    {
      "cell_type": "code",
      "metadata": {
        "id": "mnTUqSzYhVyf",
        "colab": {
          "base_uri": "https://localhost:8080/"
        },
        "outputId": "a09073bb-ce17-4e22-f14b-9206324b0728"
      },
      "source": [
        "(train_images, train_labels), (test_images, test_labels) = mnist.load_data()"
      ],
      "execution_count": null,
      "outputs": [
        {
          "output_type": "stream",
          "name": "stdout",
          "text": [
            "Downloading data from https://storage.googleapis.com/tensorflow/tf-keras-datasets/mnist.npz\n",
            "11493376/11490434 [==============================] - 0s 0us/step\n",
            "11501568/11490434 [==============================] - 0s 0us/step\n"
          ]
        }
      ]
    },
    {
      "cell_type": "code",
      "metadata": {
        "id": "MPwFNerwhbam",
        "colab": {
          "base_uri": "https://localhost:8080/"
        },
        "outputId": "cafac5f0-89c7-4dec-98eb-955cd1a161fb"
      },
      "source": [
        "print(train_images.ndim)"
      ],
      "execution_count": null,
      "outputs": [
        {
          "output_type": "stream",
          "name": "stdout",
          "text": [
            "3\n"
          ]
        }
      ]
    },
    {
      "cell_type": "code",
      "metadata": {
        "colab": {
          "base_uri": "https://localhost:8080/"
        },
        "id": "3HLcnfTrPG8F",
        "outputId": "15416de8-16af-4739-f5ed-a56727040ad1"
      },
      "source": [
        "type(train_images[0,0,0])"
      ],
      "execution_count": null,
      "outputs": [
        {
          "output_type": "execute_result",
          "data": {
            "text/plain": [
              "numpy.uint8"
            ]
          },
          "metadata": {},
          "execution_count": 4
        }
      ]
    },
    {
      "cell_type": "code",
      "metadata": {
        "colab": {
          "base_uri": "https://localhost:8080/"
        },
        "id": "DR1nOXpZPipg",
        "outputId": "cbe2e33a-efa5-4833-a110-cd82fa0a5f74"
      },
      "source": [
        "2**8-1"
      ],
      "execution_count": null,
      "outputs": [
        {
          "output_type": "execute_result",
          "data": {
            "text/plain": [
              "255"
            ]
          },
          "metadata": {},
          "execution_count": 5
        }
      ]
    },
    {
      "cell_type": "code",
      "metadata": {
        "colab": {
          "base_uri": "https://localhost:8080/"
        },
        "id": "QjOmpCq_HHqr",
        "outputId": "3b7bb5da-d409-435f-d889-c80ddcd6b5d2"
      },
      "source": [
        "type(train_images[0])"
      ],
      "execution_count": null,
      "outputs": [
        {
          "output_type": "execute_result",
          "data": {
            "text/plain": [
              "numpy.ndarray"
            ]
          },
          "metadata": {},
          "execution_count": 11
        }
      ]
    },
    {
      "cell_type": "code",
      "metadata": {
        "id": "57t7NVe0hfpt",
        "colab": {
          "base_uri": "https://localhost:8080/"
        },
        "outputId": "59646185-4e87-4c79-c069-2122333950c2"
      },
      "source": [
        "print(train_images.shape)"
      ],
      "execution_count": null,
      "outputs": [
        {
          "output_type": "stream",
          "name": "stdout",
          "text": [
            "(60000, 28, 28)\n"
          ]
        }
      ]
    },
    {
      "cell_type": "code",
      "metadata": {
        "id": "KCXnc8xjhjXY",
        "colab": {
          "base_uri": "https://localhost:8080/"
        },
        "outputId": "9ac4a80e-dd4b-4edc-efde-e249c7b798a8"
      },
      "source": [
        "print(train_images.dtype)"
      ],
      "execution_count": null,
      "outputs": [
        {
          "output_type": "stream",
          "name": "stdout",
          "text": [
            "uint8\n"
          ]
        }
      ]
    },
    {
      "cell_type": "code",
      "metadata": {
        "colab": {
          "base_uri": "https://localhost:8080/"
        },
        "id": "UXrYoRl_PozF",
        "outputId": "73a92281-40da-4335-ded6-6f4f2c858a28"
      },
      "source": [
        "np.max(train_images[0])"
      ],
      "execution_count": null,
      "outputs": [
        {
          "output_type": "execute_result",
          "data": {
            "text/plain": [
              "255"
            ]
          },
          "metadata": {},
          "execution_count": 9
        }
      ]
    },
    {
      "cell_type": "code",
      "metadata": {
        "colab": {
          "base_uri": "https://localhost:8080/"
        },
        "id": "BTX6nnHYHDkP",
        "outputId": "c3227b30-ab22-4be8-e33b-d52bb016ac0e"
      },
      "source": [
        "np.min(train_images[0])"
      ],
      "execution_count": null,
      "outputs": [
        {
          "output_type": "execute_result",
          "data": {
            "text/plain": [
              "0"
            ]
          },
          "metadata": {},
          "execution_count": 10
        }
      ]
    },
    {
      "cell_type": "markdown",
      "metadata": {
        "id": "Tj8dy8h0hmaI"
      },
      "source": [
        "A continuación se resume la característica del dataset:\n",
        "\n",
        "* Tensor 3D\n",
        "* Tipos de datos: enteros de 8-bits.  "
      ]
    },
    {
      "cell_type": "markdown",
      "metadata": {
        "id": "LIQscMwDiHnQ"
      },
      "source": [
        "Visualicemos una imágen:"
      ]
    },
    {
      "cell_type": "code",
      "metadata": {
        "id": "D0Yca-i-iGxa",
        "colab": {
          "base_uri": "https://localhost:8080/",
          "height": 265
        },
        "outputId": "d2d760c1-20e8-41e7-8003-033852c26b00"
      },
      "source": [
        "import matplotlib.pyplot as plt\n",
        "plt.imshow(train_images[9], cmap=plt.cm.binary)\n",
        "plt.show()"
      ],
      "execution_count": null,
      "outputs": [
        {
          "output_type": "display_data",
          "data": {
            "image/png": "[encoded data removed]",
            "text/plain": [
              "<Figure size 432x288 with 1 Axes>"
            ]
          },
          "metadata": {
            "needs_background": "light"
          }
        }
      ]
    },
    {
      "cell_type": "markdown",
      "metadata": {
        "id": "_rqX_EVz9xyg"
      },
      "source": [
        "##Manipulación de tensores en Numpy:\n",
        "\n",
        "En el ejeumplo anterior se selecionó un digito específico a junto al primer eje usando la sintaxis train_images [i]. La selección de elementos específicos en un tensor se denomina corte de \"tensor slicing\". Veamos las operaciones de \"tensor slicing\" que puede hacerse con los arreglos de `numpy`.\n",
        "\n",
        "Para selecionar los digitos de 10 a 100 (si incluir el 100) hacemos:\n"
      ]
    },
    {
      "cell_type": "code",
      "metadata": {
        "id": "VYnMcF10t-A_",
        "colab": {
          "base_uri": "https://localhost:8080/"
        },
        "outputId": "2b0ca42d-415b-4614-ecda-0a6cd228c340"
      },
      "source": [
        "my_slice = train_images[10:100] # train_images[num_imagen, fila, columna]\n",
        "print(my_slice.shape)"
      ],
      "execution_count": null,
      "outputs": [
        {
          "output_type": "stream",
          "name": "stdout",
          "text": [
            "(90, 28, 28)\n"
          ]
        }
      ]
    },
    {
      "cell_type": "markdown",
      "metadata": {
        "id": "DOAHtmSTj9dF"
      },
      "source": [
        "La anterior operación es equivalente a la selección de todas las dimensiones de los ejes mediante : "
      ]
    },
    {
      "cell_type": "code",
      "metadata": {
        "id": "OtaawkhTj8rN",
        "colab": {
          "base_uri": "https://localhost:8080/"
        },
        "outputId": "ee3e50ab-e2a3-43a8-faf9-1aa93cd495f8"
      },
      "source": [
        "my_slice = train_images[10:100, : , : ]\n",
        "my_slice.shape"
      ],
      "execution_count": null,
      "outputs": [
        {
          "output_type": "execute_result",
          "data": {
            "text/plain": [
              "(90, 28, 28)"
            ]
          },
          "metadata": {},
          "execution_count": 15
        }
      ]
    },
    {
      "cell_type": "markdown",
      "metadata": {
        "id": "95tIZ2ogk0jz"
      },
      "source": [
        "Y lo anterior es equivalenta a"
      ]
    },
    {
      "cell_type": "code",
      "metadata": {
        "id": "hGN5QWHO-8da",
        "colab": {
          "base_uri": "https://localhost:8080/"
        },
        "outputId": "1756792e-c330-41c8-ddf6-d7f70595610a"
      },
      "source": [
        "my_slice = train_images[10:100, 0:28, 0:28]\n",
        "my_slice.shape"
      ],
      "execution_count": null,
      "outputs": [
        {
          "output_type": "execute_result",
          "data": {
            "text/plain": [
              "(90, 28, 28)"
            ]
          },
          "metadata": {},
          "execution_count": 16
        }
      ]
    },
    {
      "cell_type": "markdown",
      "metadata": {
        "id": "CygbcMkslExN"
      },
      "source": [
        "De forma general, podemos seleccionar entre dos índices cualquiera a lo largo de un eje del tensor."
      ]
    },
    {
      "cell_type": "markdown",
      "metadata": {
        "id": "NPO4933FVstH"
      },
      "source": [
        "## Problema:\n",
        "\n",
        "Dentro del conjunto de datos, seleccióne la esquina inferior que contenga $14\\times14$ píxeles en cada una de las imágenes y visualice una de ellas. "
      ]
    },
    {
      "cell_type": "markdown",
      "metadata": {
        "id": "udTRsst1WEa8"
      },
      "source": [
        "Haga click **aquí** si tiene problemas con la solución.\n",
        "\n",
        "<!----:\n",
        "# solución:\n",
        "my_slice_corner = train_images[:, 14:, 14:]\n",
        "\n",
        "digit = my_slice_corner[3]\n",
        "import matplotlib.pyplot as plt\n",
        "plt.imshow(digit, cmap=plt.cm.binary)\n",
        "plt.show()\n",
        "\n",
        "----->"
      ]
    },
    {
      "cell_type": "markdown",
      "metadata": {
        "id": "yJEuaDubnwYC"
      },
      "source": [
        "Recordemos que también es posible usar índices negativos. Los índices negativos indican una posición relativa al final del eje en cuestión. Recorte, por ejemplo, las imagenes anteriores para que queden centradas en matríces de 14x14."
      ]
    },
    {
      "cell_type": "markdown",
      "metadata": {
        "id": "sJ0THWkIW3mU"
      },
      "source": [
        "Haga click **aquí** si tiene problemas con la solución:\n",
        "\n",
        "<!-----\n",
        "my_crop_slices_centered = train_images[:, 7:-7, 7:-7]\n",
        "\n",
        "digit = my_crop_slices_centered[0]\n",
        "import matplotlib.pyplot as plt\n",
        "plt.imshow(digit, cmap=plt.cm.binary)\n",
        "plt.show()\n",
        "----->"
      ]
    },
    {
      "cell_type": "markdown",
      "metadata": {
        "id": "jUwNhpzGqokI"
      },
      "source": [
        "## Noción de batches\n",
        "\n",
        "En general, el primer eje (eje 0, ya que la indexación comienza en 0) de todos los  tensores de datos que encuentre en DLserá el eje de muestras (a veces denominado dimensión de muestras). En el ejemplo MNIST, las muestras son imágenes de dígitos.\n",
        "\n",
        "Además, los modelos de DL no procesan un conjunto de datos completo a la vez; en su lugar, dividen los datos en pequeños lotes. Por ejemplo:"
      ]
    },
    {
      "cell_type": "code",
      "metadata": {
        "id": "BuguJS75o1dZ"
      },
      "source": [
        "batch1 = train_images[:128]\n",
        "batch2 = train_images[128:256]"
      ],
      "execution_count": null,
      "outputs": []
    },
    {
      "cell_type": "markdown",
      "metadata": {
        "id": "NMBoiNwEruDa"
      },
      "source": [
        "El n-ésimo batch sería:\n",
        "\n",
        "$$\\text{batch} = \\text{train_images}[128 * n:128 * (n + 1)]$$"
      ]
    },
    {
      "cell_type": "markdown",
      "metadata": {
        "id": "K5YeeKTsslcr"
      },
      "source": [
        "Cuando considere un tensor batch, el primer eje (eje 0) es conocido como la dimensión del batch. Este término es comun mente usado en Keras y otras librerías de DL."
      ]
    },
    {
      "cell_type": "markdown",
      "metadata": {
        "id": "c4JDA6TSXYr-"
      },
      "source": [
        "## Ejemplo reales de tensores:\n",
        "\n",
        "* *Vector de datos:* Tensor 2D de forma `(samples,features)`.\n",
        "\n",
        "* *Datos de series de tiempos o secuencias:* Tensor 3D de forma `(samples, timesteps, features)`.\n",
        "\n",
        "* *Imágenes:* Tensores 4D de forma `(samples,height,width,channels)` o `(samples,channels,height,width)`.\n",
        "\n",
        "* *Videos:* Tensores 5D de forma `(samples,frames, height,width,channels)` o `(samples, height,frames,channels,height,width)`. "
      ]
    },
    {
      "cell_type": "markdown",
      "metadata": {
        "id": "rDoRrYjBTxuF"
      },
      "source": [
        "# Repaso de Funciones y Clases"
      ]
    },
    {
      "cell_type": "markdown",
      "metadata": {
        "id": "UQMFQFuy9XCo"
      },
      "source": [
        "<p><a name=\"funci\"></a></p>\n",
        "\n",
        "## Funciones\n",
        "\n",
        "Una función es un bloque de código organizado y reutilizable que se utiliza para realizar una única acción relacionada. Las funciones proporcionan una mejor modularidad para su aplicación y un alto grado de reutilización de código.\n",
        "\n",
        ">`def Nombre(arg1,arg2,...):`\n",
        ">> `sentencias`"
      ]
    },
    {
      "cell_type": "markdown",
      "metadata": {
        "id": "3aNX6kn2Cjuq"
      },
      "source": [
        "Definamos la función exponencial $a^b$"
      ]
    },
    {
      "cell_type": "code",
      "metadata": {
        "id": "9GaLlcUceoC2",
        "colab": {
          "base_uri": "https://localhost:8080/",
          "height": 34
        },
        "outputId": "22ff5c41-ba62-4235-8b9d-dbc27d5befa4"
      },
      "source": [
        "def Exp(a,b):\n",
        "  exp = a**b\n",
        "  print(exp)\n",
        "  return\n",
        "  \n",
        "Exp(2,2)  "
      ],
      "execution_count": null,
      "outputs": [
        {
          "output_type": "stream",
          "text": [
            "4\n"
          ],
          "name": "stdout"
        }
      ]
    },
    {
      "cell_type": "markdown",
      "metadata": {
        "id": "69ukeYx6CweR"
      },
      "source": [
        "La sentencia *return* termina la función,  devolviendo opcionalmente uno o varios valores. Una declaración de retorno sin argumentos es lo mismo que devolver *none* (como en el caso anterior)"
      ]
    },
    {
      "cell_type": "code",
      "metadata": {
        "id": "cgWrwPmf-MCk",
        "colab": {
          "base_uri": "https://localhost:8080/",
          "height": 51
        },
        "outputId": "f8b8077a-08f8-445e-93b6-e7bb00673699"
      },
      "source": [
        "def Exp(a,b):\n",
        "  return a**b\n",
        "  \n",
        "def Exp2(a,b):\n",
        "  return a**b,a**b+1,a**b+2\n",
        "\n",
        "print(Exp(2,2),type(Exp(2,2)))\n",
        "\n",
        "print(Exp2(2,2),type(Exp2(2,2)))\n"
      ],
      "execution_count": null,
      "outputs": [
        {
          "output_type": "stream",
          "text": [
            "4 <class 'int'>\n",
            "(4, 5, 6) <class 'tuple'>\n"
          ],
          "name": "stdout"
        }
      ]
    },
    {
      "cell_type": "markdown",
      "metadata": {
        "id": "qz5th2OJbPQ6"
      },
      "source": [
        "## Problema:\n",
        "\n",
        "Escriba un código en Python que devuelva el máximo valor de un vector."
      ]
    },
    {
      "cell_type": "markdown",
      "metadata": {
        "id": "et8SJMT_dIcd"
      },
      "source": [
        "Haga click en **esta** celda si tiene problemas con la solución.\n",
        "\n",
        "<!---:\n",
        "\n",
        "def max_array1D(arr): \n",
        "  \n",
        "    # Initialize maximum element \n",
        "    max = arr[0] \n",
        "  \n",
        "    # Traverse array elements from second \n",
        "    # and compare every element with  \n",
        "    # current max \n",
        "    for i in range(1, arr.shape[0]): \n",
        "        if arr[i] > max: \n",
        "            max = arr[i] \n",
        "    return max\n",
        "\n",
        "---->"
      ]
    },
    {
      "cell_type": "markdown",
      "metadata": {
        "id": "qA5jEatkIJUU"
      },
      "source": [
        "<p><a name=\"class\"></a></p>\n",
        "\n",
        "## Clases/Objetos\n",
        "\n",
        "Python es un lenguaje orientado a objetos. Casi todo en Python representa un objeto, el cual esta constituidos por sus atributos y métodos. \n",
        "\n",
        "Una clase es un \"ente creador\", o un prototipo para la creación de objetos.\n",
        "\n",
        "Las clases proporcionan un medio de agrupar datos y \"funcionalidad\". La creación de una nueva clase crea un nuevo tipo de objeto, lo que permite crear nuevas *instancias* de ese tipo. Cada instancia de la clase puede tener sus propios atributos. Las instancias de una clase también pueden tener *métodos* (definidos por su clase) para modificar su estado.\n",
        "\n",
        ">class Name():\n",
        ">>sentencias"
      ]
    },
    {
      "cell_type": "markdown",
      "metadata": {
        "id": "-loYl6I1JaGB"
      },
      "source": [
        "Los atributos son como propiedades que queremos añadir a la clase "
      ]
    },
    {
      "cell_type": "code",
      "metadata": {
        "id": "IJEykQm3JtnC"
      },
      "source": [
        "class Auto():\n",
        "  marca = ''\n",
        "  color = ''"
      ],
      "execution_count": null,
      "outputs": []
    },
    {
      "cell_type": "markdown",
      "metadata": {
        "id": "jxuP0t7xJ940"
      },
      "source": [
        "Creemos un objeto de la clase Auto con algunos atributos"
      ]
    },
    {
      "cell_type": "code",
      "metadata": {
        "id": "6pPE3CZ5KBqU",
        "colab": {
          "base_uri": "https://localhost:8080/",
          "height": 51
        },
        "outputId": "5c1d7e7b-d354-4675-9b0e-289255bce0e6"
      },
      "source": [
        "Mi_auto = Auto()\n",
        "Mi_auto.marca = 'ferrari'\n",
        "Mi_auto.color = 'rojo'\n",
        "\n",
        "print(Mi_auto.marca)\n",
        "print(Mi_auto.color)"
      ],
      "execution_count": null,
      "outputs": [
        {
          "output_type": "stream",
          "text": [
            "ferrari\n",
            "rojo\n"
          ],
          "name": "stdout"
        }
      ]
    },
    {
      "cell_type": "markdown",
      "metadata": {
        "id": "YS5NKSJ4LXPb"
      },
      "source": [
        "Dentro de las clases podemos definir funciones, conocidas como *métodos* "
      ]
    },
    {
      "cell_type": "code",
      "metadata": {
        "id": "bXc_GQGHKgV8",
        "colab": {
          "base_uri": "https://localhost:8080/",
          "height": 51
        },
        "outputId": "b175bd8a-a26a-4b3a-f80b-d2e77d70b942"
      },
      "source": [
        "class Persona():\n",
        "  nombre = ''\n",
        "  edad = ''\n",
        "  \n",
        "  def print_nombre(self):\n",
        "    print('nombre:',self.nombre)\n",
        "    \n",
        "  def print_edad(self):\n",
        "    print('edad:',self.edad)\n",
        "    \n",
        "Person1 = Persona()\n",
        "Person1.nombre = 'carolina'\n",
        "Person1.edad = 20\n",
        "\n",
        "Person1.print_nombre()\n",
        "Person1.print_edad()"
      ],
      "execution_count": null,
      "outputs": [
        {
          "output_type": "stream",
          "text": [
            "nombre: carolina\n",
            "edad: 20\n"
          ],
          "name": "stdout"
        }
      ]
    },
    {
      "cell_type": "markdown",
      "metadata": {
        "id": "MZJkf1TLNb2l"
      },
      "source": [
        "Los métodos necesitan tener un argumento convenientemente llamado self, que se refiere al objeto del método que está siendo llamado. Podemos pasar más de un argumento si así lo deseamos"
      ]
    },
    {
      "cell_type": "code",
      "metadata": {
        "id": "zj_xJIzwMwS4",
        "colab": {
          "base_uri": "https://localhost:8080/",
          "height": 51
        },
        "outputId": "ffd8a0af-90ba-4376-e4af-ad0da25da881"
      },
      "source": [
        "class Persona:\n",
        "    nombre = ''\n",
        "    edad = ''\n",
        "     \n",
        "    def print_informacion(self, nombre, edad):\n",
        "        print('nombre:',self.nombre)\n",
        "        print('edad:',self.edad)\n",
        "             \n",
        "Person2 = Persona()\n",
        "Person2.nombre = 'carlos'\n",
        "Person2.edad = '30'\n",
        "Person2.print_informacion(Person2.nombre, Person2.edad)"
      ],
      "execution_count": null,
      "outputs": [
        {
          "output_type": "stream",
          "text": [
            "nombre: carlos\n",
            "edad: 30\n"
          ],
          "name": "stdout"
        }
      ]
    },
    {
      "cell_type": "markdown",
      "metadata": {
        "id": "KOtePNB7P_5U"
      },
      "source": [
        "La operación de creación de instancias crea un objeto vacío. A muchas clases les gusta crear objetos con instancias personalizadas a un estado inicial específico. Por lo tanto, una clase puede definir un método especial llamado __init __ (), como este:"
      ]
    },
    {
      "cell_type": "code",
      "metadata": {
        "id": "K7DpEV9hN-JK",
        "colab": {
          "base_uri": "https://localhost:8080/",
          "height": 51
        },
        "outputId": "075d4c8c-84a9-4511-a0bf-63775b4bde59"
      },
      "source": [
        "class Person:\n",
        "  def __init__(self,n,e):\n",
        "    self.nombre = n\n",
        "    self.edad = e\n",
        "      \n",
        "Person3 = Person('mario','55')\n",
        "print('nombre:',Person3.nombre)\n",
        "print('edad:',Person3.edad)    "
      ],
      "execution_count": null,
      "outputs": [
        {
          "output_type": "stream",
          "text": [
            "nombre: mario\n",
            "edad: 55\n"
          ],
          "name": "stdout"
        }
      ]
    },
    {
      "cell_type": "code",
      "metadata": {
        "id": "X82crSbZJcDg"
      },
      "source": [
        "my_int = 1 # Para python todas las variables son objetos\n",
        "my_str = 'k' # El concepto de variable es más asimilable con un objeto"
      ],
      "execution_count": null,
      "outputs": []
    },
    {
      "cell_type": "code",
      "metadata": {
        "colab": {
          "base_uri": "https://localhost:8080/"
        },
        "id": "77bMhsSNJfnh",
        "outputId": "4fc59b9e-a501-4115-db8f-b7cfce00d178"
      },
      "source": [
        "my_int.conjugate()"
      ],
      "execution_count": null,
      "outputs": [
        {
          "output_type": "execute_result",
          "data": {
            "text/plain": [
              "1"
            ]
          },
          "metadata": {},
          "execution_count": 19
        }
      ]
    },
    {
      "cell_type": "code",
      "metadata": {
        "colab": {
          "base_uri": "https://localhost:8080/",
          "height": 35
        },
        "id": "iAebTsYyJxYn",
        "outputId": "39a9edf3-10e4-4685-e6a1-0adbb9db1c0a"
      },
      "source": [
        "my_str.replace('k','a')"
      ],
      "execution_count": null,
      "outputs": [
        {
          "output_type": "execute_result",
          "data": {
            "application/vnd.google.colaboratory.intrinsic+json": {
              "type": "string"
            },
            "text/plain": [
              "'a'"
            ]
          },
          "metadata": {},
          "execution_count": 22
        }
      ]
    },
    {
      "cell_type": "markdown",
      "metadata": {
        "id": "hOvC0M10Xfl7"
      },
      "source": [
        "## Problema\n",
        "\n",
        "Creen una clase `Point` en coordenadas cartesianas, que se su constructor inicialice el objeto a un punto con unas coordenadas dadas. Además, la clase debe contener dos métodos:\n",
        "\n",
        "* `translate()`, que reciba como argumentos dos valores arbitrarios $(x,y)$.\n",
        "* `__str__(self)`: que imprima el punto en precisión de coma flotante."
      ]
    },
    {
      "cell_type": "markdown",
      "metadata": {
        "id": "Xa6Eso-zXfWp"
      },
      "source": [
        "Haga click en **esta** celda para ver la solución en caso de dificultades.\n",
        "<!----\n",
        "\n",
        "class Point:\n",
        "    \"\"\"\n",
        "    Simple class for representing a point in a Cartesian coordinate system.\n",
        "    \"\"\"\n",
        "    \n",
        "    def __init__(self, x, y):\n",
        "        \"\"\"\n",
        "        Create a new Point at x, y.\n",
        "        \"\"\"\n",
        "        self.x = x\n",
        "        self.y = y\n",
        "        \n",
        "    def translate(self, dx, dy):\n",
        "        \"\"\"\n",
        "        Translate the point by dx and dy in the x and y direction.\n",
        "        \"\"\"\n",
        "        self.x += dx\n",
        "        self.y += dy\n",
        "        \n",
        "    def __str__(self):\n",
        "        return(\"Point at [%f, %f]\" % (self.x, self.y))\n",
        "\n",
        "!---->\n"
      ]
    },
    {
      "cell_type": "markdown",
      "metadata": {
        "id": "F44wXJFaPsB5"
      },
      "source": [
        "## Bibliografía:\n",
        "\n",
        "Pueden acceder al libro de **Deep learning with python** en este [link](https://tanthiamhuat.files.wordpress.com/2018/03/deeplearningwithpython.pdf)."
      ]
    },
    {
      "cell_type": "markdown",
      "metadata": {
        "id": "BTDmhfQ31dI5"
      },
      "source": [
        "# Introducción al Deep Learning\n",
        "\n",
        "\n",
        "## ¿Qué es Deep Learning?\n",
        "\n",
        "![picture](https://i.imgur.com/BtyLC2y.png)\n",
        "\n",
        "\n",
        "Como se vió la inteligencia artificial nace a partir de preguntarnos si era posible automatizar máquinas para que realizaran tareas intelectuales normalmente realizadas por humanos. A partir de esto surgen ramificaciones de la IA entre las cuales encontramos el machine learning y a su vez el Deep learning, éste último un subcampo del machine learning.\n",
        "\n",
        "El **Deep Learning** es una forma de tratar las representaciones de los datos que pone énfasis en el aprendizaje a traves de capas sucesivas, con lo cual se busca  tener representaciones cada vez mas significativas que nos permitan estar cerca de las salidas esperadas, es decir, a traves de las capaz se busca extraer progresivamente caracteristicas de un valor mas refinado.\n",
        "\n",
        "![picture](https://i.imgur.com/sOtasrr.png)\n",
        "\n",
        "Donde por representaciones hacemos referencia a todas esas posibles transformaciones que realizamos a nuestros datos de forma tal que puedan facilitar nuestra tareas.\n",
        "\n",
        "El número de capaz que contribuyen en un modelo de datos es llamado **depth** (profundidad); en general tenemos cientos de capaz en nuestros modelos, pero hay ciertos casos en los que solo se cuenta con una o dos capaz a esto se le llama **Shallow learning**(Aprendizaje poco profundo). El deep learning también es llamado  **Layered representations Learning** y **Hierarchical representations learning**. En la siguiente imagen podemos ver un esquema de los modelos de deep learning a grandes razgos.\n",
        "\n",
        "![picture](https://i.imgur.com/318WfrZ.png)\n",
        "\n",
        "\n",
        "En el Deep Learning el aprendizaje se da a partir de modelos conocidos como redes neuronales artificiales, los cuales son estructuras a capaz conectadas unas a otras, donde el nombre de red neuronal viene de la neurobiología y su comparación con el cerebro, si bien estos modelos se inspiran en este, las redes neurales *no son modelos del cerebro*, pues no se tiene la certeza de como éste funciona, es por esto que muchas personas están dejando a un lado la terminología que hace referencia a aspectos biológicos.\n",
        "\n",
        "![picture](https://i.imgur.com/uoUu9sE.png)\n",
        "\n",
        "\n",
        "En la anterior se puede ver un esquema general de una red profunda, la cual podemos pensar como una multiestación de operaciones de destilación de información, donde esta va a traves de diferentes filtros y se retorna altamente purificada, es decir, vamos obteniendo a traves de las capaz diferentes caracterisiticas que harán mas refinadas nuestras representaciones y por ende nos acercaran más a las salidas buscadas.\n",
        "\n",
        "## ¿Cómo trabaja Deep Learning?\n",
        "\n",
        "Igual que en machine learning, se tiene un mapeo input-target,esta vez a traves de una secuencia de transformaciones de los datos (capaz), como se puede ver en la siguiente imagen.\n",
        "\n",
        "![picture](https://i.imgur.com/yLfzLKI.png)\n",
        "\n",
        "Donde podemos ver que se involucran unos elementos llamados **pesos**, los cuales en esencia son una manada de números que guardan la especificación de qué le hace una capa a sus datos de entrada, es decir, la transformación implementada por una capa es parametrizada por sus pesos. En este sentido se busca encontrar a partir de lo que llamamos aprendizaje el conjunto de valores para los pesos con los cuales  la red mapea correctamente los valores de entrada con sus respectivas etiquetas.\n",
        "\n",
        "Por lo tanto a mi red neuronal le ingreso los datos de entrada, los cuales pasan a traves de las diferentes capaz realizando esa \"destilación\" de información y sale mi predicción (salida), donde en nuestra fase de entrenamiento debemos controlar este valor de salida, es decier necesitamos poder medir que tan lejos nuestra salida está del valor esperado, es aquí donde toma juego la llamada **loss function**(función de perdida) o **Objective function**(funció objetivo); esta toma la predicción y la verdadera etiqueta y calcula cierto puntaje para la distancia entres estas, logrando así capturar que tan bien la red neuronal está haciendo su trabajo.\n",
        "\n",
        "![picture](https://i.imgur.com/tIWqNoP.png)\n",
        "\n",
        "Teniendo esto el objetivo está en ajustar los pesos de forma tal que se disminuya la función de perdida, esto se logra usando un optimizador he implementado el **backpropagation**.\n",
        "\n",
        "## ¿ Qué hemos alcanzado con Deep Learning?\n",
        "\n",
        "Con la aplicacion de estos modelos se han alcanzado avances a niveles que muchas veces pueden estar cerca al de un humano; algunos como los siguientes:\n",
        "* Clasificación de imagenes\n",
        "* Reconocimiento de voz\n",
        "* Transcripión de textos\n",
        "* Mejora en las traducciones automáticas\n",
        "* Conversión de voz a texto\n",
        "* Carros autonomos\n",
        "* Entre otros\n",
        "\n",
        "A | B\n",
        "- | - \n",
        "![alt](https://i.imgur.com/5p8aMXy.png) | ![alt](https://miro.medium.com/max/1966/1*nJNxFmJaHxyJTtVFkhGTlg.png)\n",
        "\n",
        "## ¿Qué hace diferente a Deep Learning?\n",
        "\n",
        "* Ofrece mejores soluciones en algunos problemas\n",
        "* Automatiza el feature engineering\n",
        "* Todas las capaz aprenden conjuntamente,esto lo hace paralelizable.\n",
        "\n",
        "Si bien estas son unas de las características que destacan, existen muchas más que nos permiten que modelos complejos puedan ser abordados con facilidad y mayor velocidad en comparación con hace unos años.\n",
        "\n",
        "\n",
        "## ¿ Por qué DL ahora?\n",
        "\n",
        "Si bien las teorías y modelos de DL y en general de la IA se han planteado hace ya un buen tiempo, el rápido crecimiento en los últimos años se ha dado debido a los avances en **hardware** y **Datos**, pues básicamente la IA es un campo experimental mas que teorico, eso no implica que la teoría haya quedado a un lado, pues el avance en capacidad de computo y datos permiten a su vez el avance en nuevos algoritmos. \n",
        "\n",
        "# Redes neuronales artificiales\n",
        "\n",
        "Estas fueron inspiradas en las neuronas biológicas y sus conexiones en el cerebro de los animales, donde estas son celulas nerviosas que proveen unidades funcionales fundamentales para el sistema nervioso de los animales. Las neuronas biológicas se comunican a través de impulsos electro-químicos, llamados señales.Estas están conectadas unas a otras organizadas en redes de millones de nueronas. En la siguiente imagen se pueden ver algunos de los componentes de las neuronas biológicas.\n",
        "\n",
        "\n",
        "<p><img alt=\"Colaboratory logo\" height=\"300px\" src=\"https://i.imgur.com/uEgQGB3.png\" align=\"center\" hspace=\"10px\" vspace=\"0px\"></p>\n",
        "\n",
        "Las redes neuronales artificiales (Artificial neural networks), fueron introducidas inicialmente por  Warren McCulloh y Walter Pitts  en los años 40, donde mostraban un  modelo de como las neuronas biológicas podían  realizar complejos cálculos a partir de la lógica proposicional. Estos propusieron un modelo de neurona artificial donde se tenían entradas y salidas binarias.\n",
        "\n",
        "![picture](https://i.imgur.com/qULaQPN.png)\n",
        "\n",
        "Ellos mostraron que a partir de la unión de varias de estas neuronas artificiales, es decir a traves de una red nueronal artificial, se podía calcular cualquier proposición lógica que se quisiera.\n",
        "\n",
        "## El perceptrón\n",
        "\n",
        "A finales de los años 50's  fue diseñado por Frank Rosenblant el perceptrón, inspirandose en los trabajos de McCulloh y Pitts, es considerada la arquitectura mas simple en Deep Learning. Es un  modelo lineal de clasificación binaria  con una relaicón de entrada y salida como se ve en la siguiente imagen:\n",
        "\n",
        "<p><img alt=\"Colaboratory logo\" height=\"300px\" src=\"https://i.imgur.com/3S8Hhfy.png\" align=\"center\" hspace=\"10px\" vspace=\"0px\"></p>\n",
        "\n",
        "Donde a cada dato de entrada se le asocia un peso y luego de realizar la sumatoria asociada se pasa por la función de activación, que para el caso del perceptrón normalmente es la función escalón de **Heaviside**, aunque algunas veces también se usa la función sign, ambas definidas de la siguiente manera:\n",
        "\n",
        "\\begin{equation} \n",
        "heaviside(z) = \n",
        "     \\begin{cases}\n",
        "      \\text{0} &\\quad\\text{if}&  z < 0\\\\\n",
        "      \\text{+1} &\\quad\\text{if}& z\\geq 0\\\\\n",
        "     \\end{cases}\\\\     \n",
        "\\end{equation}\n",
        "\n",
        "\\begin{equation} \n",
        "sing(z) = \n",
        "     \\begin{cases}\n",
        "      \\text{-1} &\\quad\\text{if}&  z < 0\\\\\n",
        "      \\text{0} &\\quad\\text{if}&  z = 0\\\\\n",
        "      \\text{+1} &\\quad\\text{if}&  z > 0\\\\\n",
        "     \\end{cases}\n",
        "\\end{equation}\n",
        "\n",
        "\n",
        "\n",
        "\n"
      ]
    },
    {
      "cell_type": "markdown",
      "metadata": {
        "id": "4v1rLwrItXhj"
      },
      "source": [
        "La salida de la función paso es la salida del perceptrón y me da la clasificación de los valores de entrada. El algoritmo de aprendizaje del perceptrón no puede clasificar entradas que no son linermente separables.\n",
        "\n",
        "## Multilayer feed forward networks\n",
        "\n",
        "La multilayer feed forward network es una red neuronal con una capa de entrada, una o mas capaz ocultas y una capa de salida. Cada capa tiene una o mas nuronas artificiales, éstas son similares al perceptrón a diferencia de que su función de activación dependerá de los propositos específicos de la capa en la red.\n",
        "\n",
        "<p><img alt=\"Colaboratory logo\" height=\"300px\" src=\"https://i.imgur.com/fcBNqyp.png\" align=\"center\" hspace=\"10px\" vspace=\"0px\"></p>\n",
        "\n",
        "Como vemos se tiene una estructura como la del perceptrón, a diferencia de la antes mencionada flexibilidad en cuanto a la función de activación, algunas de las más utilizadas se pueden ver en el siguiente gráfico\n",
        "\n",
        "![picture](https://i.imgur.com/j8vunMo.png)\n",
        "\n",
        "Como se ha mencionado, las redes neuronales artificiales son un conjunto de neuronas artificiales agrupadas en lo que denominamos capaz, estas usan en cada capa el mismo tipo de función de activación, donde para una capa diferente a la de entrada, sus datos de entrada serán las salidas de la capa previa (activación). Nuestra salida o predicción, será un mapeo producto de los datos de entrada, donde podrá ser el resultado de una clasificación o regresión de acuerdo a nuestro objetivo.En general la capa de salida usa como función de activación  la función sigmoid o softmax.\n",
        "\n",
        "\n",
        "<p><img alt=\"Colaboratory logo\" height=\"300px\" src=\"https://i.imgur.com/9QkhmiE.png\" align=\"center\" hspace=\"10px\" vspace=\"0px\"></p>\n",
        "\n",
        "En la anterior se puede ver un bosquejo de lo que es una red neuronal artificial."
      ]
    },
    {
      "cell_type": "markdown",
      "metadata": {
        "id": "vuwf_IuGlJuC"
      },
      "source": [
        "# Introduccion a keras\n",
        "Keras es una interfaz de programación de aplicaciones (API) que permite de manera fácil construir, entrenar, evaluar y ejecutar casi cualquier tipo de red neuronal. Keras fue creado por François Chollet como parte de un proyecto de investigación y fue lanzando al mercado de manera gratuita en marzo del 2015.\n",
        "Keras ganó rápidamente popularidad debido a su facilidad de uso , flexibilidad y diseño .\n",
        "\n",
        "Algunas características claves de keras son:\n",
        "\n",
        "* Permite que el mismo código se ejecute sin problemas en la CPU o GPU. \n",
        "* Tiene una API fácil de usar que facilita la creación rápida de prototipos de modelos de aprendizaje profundo.\n",
        "* Es compatible con arquitecturas de red arbitrarias. Esto significa que Keras es apropiado para construir esencialmente cualquier modelo de aprendizaje profundo, desde una red generativa de confrontación hasta una máquina neural de Turing.\n",
        "\n",
        "\n",
        "Keras tiene más de 200,000 usuarios, que van desde investigadores académicos e ingenieros en empresas nuevas y grandes empresas hasta estudiantes graduados y aficionados. Keras se usa en Google, Netflix, Uber, CERN, Yelp, Square y cientos de nuevas empresas que trabajan en una amplia gama de problemas. Keras también es popular en Kaggle, el sitio web donde se realizan competencia de aprendizaje automático, donde casi todas las competencias recientes de aprendizaje profundo se han ganado utilizando los modelos Keras.\n",
        "\n",
        "## Keras, TensorFlow, Theano, CNTK, y Pytorch\n",
        "\n",
        "Para realizar los cálculos requeridos por las redes neuronales, Keras usa librerías especializada y bien optimizada. TensorFlow, CNTK y Theano son algunas de las librerias principales para el aprendizaje profundo en la actualidad. Theano (http://deeplearning.net/software/theano) es desarrollado por el laboratorio MILA en la Universidad de Montreal, TensorFlow (www.tensorflow.org) es desarrollado por Google, CNTK (https://github.com/Microsoft / CNTK) es desarrollado por Microsoft y Pytorch es desarrollado por Facebook (https://pytorch.org/).\n",
        "\n",
        "Se recomienda utilizar TensorFlow como la biblioteca predeterminada para la mayoría de las tareas de aprendizaje profundo, ya que es la más ampliamente adoptada, escalable y lista para producción.\n",
        "\n",
        "## Configurar una estación de trabajo de aprendizaje profundo\n",
        "\n",
        "Antes de comenzar a desarrollar aplicaciones de aprendizaje profundo, debe configurar su estación de trabajo. Es muy recomendable, aunque no estrictamente necesario, que ejecute código de aprendizaje profundo en una GPU. Algunas aplicaciones, en particular, el procesamiento de imágenes con redes convolucionales será extremadamente lento en la CPU, incluso en una CPU multinúcleo rápida, e incluso para las aplicaciones que se pueden ejecutar de manera realista en la CPU, generalmente se verá un aumento de la velocidad en un factor de 5 o 10 al usar una GPU moderna.\n",
        "\n",
        "\n",
        "Al usar google colaboratory es fácil establecer la GPU como lugar de trabajo,  solo debes ir a la pestaña editar , luego seleccionar ajustes de notebook y finalmente seleccionar GPU \n",
        "\n",
        "\n",
        "<p><img alt=\"Colaboratory logo\" height=\"450px\" src=\"https://i.imgur.com/fKMwMLg.png\" align=\"center\" hspace=\"10px\" vspace=\"0px\"></p> \n",
        "\n",
        "Una vez establecido el lugar de trabajo, podemos empezar a usar Keras, para esto el primer pasa es importar Keras seleccionando TensorFLow como librería para realizar los cálculos matemáticos. \n",
        "\n",
        "\n"
      ]
    },
    {
      "cell_type": "code",
      "metadata": {
        "id": "aqcf3xVPa3-2"
      },
      "source": [
        "import tensorflow as tf"
      ],
      "execution_count": 5,
      "outputs": []
    },
    {
      "cell_type": "code",
      "metadata": {
        "colab": {
          "base_uri": "https://localhost:8080/"
        },
        "id": "FDDHG_6Ta7Zl",
        "outputId": "06c0a480-b0d9-4072-d145-2a00cbca50a9"
      },
      "source": [
        "print(\"Num GPUs Available: \", len(tf.config.list_physical_devices('GPU')))"
      ],
      "execution_count": 6,
      "outputs": [
        {
          "output_type": "stream",
          "name": "stdout",
          "text": [
            "Num GPUs Available:  1\n"
          ]
        }
      ]
    },
    {
      "cell_type": "code",
      "metadata": {
        "id": "eoGb_Yw13eEE"
      },
      "source": [
        "from tensorflow import keras"
      ],
      "execution_count": 15,
      "outputs": []
    },
    {
      "cell_type": "markdown",
      "metadata": {
        "id": "eoKiX_lL0pf5"
      },
      "source": [
        "## Ejemplo: clasificador de imágenes usando Keras\n",
        "\n",
        "Para ilustrar la manera en que Keras es usado en el aprendizaje profundo, realizaremos un ejemplo de clasificación usando conjunto de datos *Fashion MNIST* el cual consta de 70,000 imágenes (las imágenes representan artículos de moda) en escala de grises de 28 × 28 píxeles cada una y con 10 clases. \n",
        "\n",
        "### Uso de Keras para cargar el conjunto de datos\n",
        "\n",
        "Comencemos cargando el conjunto de datos Fashion MNIST. Keras tiene una serie de funciones para cargar conjuntos de datos populares en keras.datasets. El conjunto de datos ya está dividido entre un conjunto de entrenamiento y un conjunto de prueba, pero puede ser útil dividir aún más el conjunto de entrenamiento para tener un conjunto de validación:\n",
        "\n",
        "\n",
        "\n",
        "\n"
      ]
    },
    {
      "cell_type": "code",
      "metadata": {
        "id": "Gzwdt_sB0J1n"
      },
      "source": [
        "from keras.datasets import fashion_mnist\n",
        "import numpy as np"
      ],
      "execution_count": 24,
      "outputs": []
    },
    {
      "cell_type": "code",
      "metadata": {
        "id": "5Rc0_ejg2wrI",
        "colab": {
          "base_uri": "https://localhost:8080/"
        },
        "outputId": "b0975fcc-14f9-4e5b-c61a-4519c64c96aa"
      },
      "source": [
        "(X_train_full, y_train_full), (X_test, y_test) = fashion_mnist.load_data()"
      ],
      "execution_count": 17,
      "outputs": [
        {
          "output_type": "stream",
          "name": "stdout",
          "text": [
            "Downloading data from https://storage.googleapis.com/tensorflow/tf-keras-datasets/train-labels-idx1-ubyte.gz\n",
            "32768/29515 [=================================] - 0s 0us/step\n",
            "40960/29515 [=========================================] - 0s 0us/step\n",
            "Downloading data from https://storage.googleapis.com/tensorflow/tf-keras-datasets/train-images-idx3-ubyte.gz\n",
            "26427392/26421880 [==============================] - 0s 0us/step\n",
            "26435584/26421880 [==============================] - 0s 0us/step\n",
            "Downloading data from https://storage.googleapis.com/tensorflow/tf-keras-datasets/t10k-labels-idx1-ubyte.gz\n",
            "16384/5148 [===============================================================================================] - 0s 0us/step\n",
            "Downloading data from https://storage.googleapis.com/tensorflow/tf-keras-datasets/t10k-images-idx3-ubyte.gz\n",
            "4423680/4422102 [==============================] - 0s 0us/step\n",
            "4431872/4422102 [==============================] - 0s 0us/step\n"
          ]
        }
      ]
    },
    {
      "cell_type": "markdown",
      "metadata": {
        "id": "E2yxNVfK5xNc"
      },
      "source": [
        "El conjunto de entrenamiento contiene 60,000 imágenes en escala de grises, cada una de 28x28 píxeles:"
      ]
    },
    {
      "cell_type": "code",
      "metadata": {
        "id": "mJWT0_0p22Kb",
        "colab": {
          "base_uri": "https://localhost:8080/"
        },
        "outputId": "978a6849-27d9-4cf8-ec63-7666264577f0"
      },
      "source": [
        "X_train_full.shape # Forma del tensor"
      ],
      "execution_count": 18,
      "outputs": [
        {
          "output_type": "execute_result",
          "data": {
            "text/plain": [
              "(60000, 28, 28)"
            ]
          },
          "metadata": {},
          "execution_count": 18
        }
      ]
    },
    {
      "cell_type": "markdown",
      "metadata": {
        "id": "Z_pNaHwm75gv"
      },
      "source": [
        "La intensidad de cada píxel se representa como un byte (enteros entre 0 a 255):"
      ]
    },
    {
      "cell_type": "code",
      "metadata": {
        "id": "pRnupX-r43j0",
        "colab": {
          "base_uri": "https://localhost:8080/"
        },
        "outputId": "9b86e7f8-2617-4ad7-c1cb-722700c130b4"
      },
      "source": [
        "X_train_full.dtype"
      ],
      "execution_count": 19,
      "outputs": [
        {
          "output_type": "execute_result",
          "data": {
            "text/plain": [
              "dtype('uint8')"
            ]
          },
          "metadata": {},
          "execution_count": 19
        }
      ]
    },
    {
      "cell_type": "code",
      "metadata": {
        "colab": {
          "base_uri": "https://localhost:8080/"
        },
        "id": "rYl5tcxieZFJ",
        "outputId": "a052c800-1b95-49c2-d4cf-e606b79c375e"
      },
      "source": [
        "2**8-1"
      ],
      "execution_count": 20,
      "outputs": [
        {
          "output_type": "execute_result",
          "data": {
            "text/plain": [
              "255"
            ]
          },
          "metadata": {},
          "execution_count": 20
        }
      ]
    },
    {
      "cell_type": "markdown",
      "metadata": {
        "id": "SHVIm3Ba8k8j"
      },
      "source": [
        "Ahora ividamos el conjunto de datos de entrenamiento en un conjunto de validación y un conjunto de entrenamiento (más pequeño). También escalamos las intensidades de píxeles en el rango 0-1 y las convertimos en flotantes al dividiéndolas por 255."
      ]
    },
    {
      "cell_type": "code",
      "metadata": {
        "id": "I2YO8M1D8FeH"
      },
      "source": [
        "X_valid, X_train = X_train_full[:5000] / 255., X_train_full[5000:] / 255.\n",
        "y_valid, y_train = y_train_full[:5000], y_train_full[5000:]\n",
        "X_test = X_test / 255."
      ],
      "execution_count": 21,
      "outputs": []
    },
    {
      "cell_type": "code",
      "metadata": {
        "colab": {
          "base_uri": "https://localhost:8080/"
        },
        "id": "xGHOcb7ogh0m",
        "outputId": "3a85e9be-8f61-4171-dde7-acaeaaa08cd4"
      },
      "source": [
        "np.unique(y_train_full)"
      ],
      "execution_count": 25,
      "outputs": [
        {
          "output_type": "execute_result",
          "data": {
            "text/plain": [
              "array([0, 1, 2, 3, 4, 5, 6, 7, 8, 9], dtype=uint8)"
            ]
          },
          "metadata": {},
          "execution_count": 25
        }
      ]
    },
    {
      "cell_type": "markdown",
      "metadata": {
        "id": "yZkbwEA19U5n"
      },
      "source": [
        "visualicemos la primera imagen del conjunto de datos usando matplotlib"
      ]
    },
    {
      "cell_type": "code",
      "metadata": {
        "id": "A3gJYN-u9BeP"
      },
      "source": [
        "import matplotlib.pyplot as plt \n",
        "import seaborn as sns; sns.set()"
      ],
      "execution_count": 26,
      "outputs": []
    },
    {
      "cell_type": "code",
      "metadata": {
        "id": "LO3P6C6N9Ys6",
        "colab": {
          "base_uri": "https://localhost:8080/",
          "height": 248
        },
        "outputId": "72546e8e-e5ee-4849-ea01-be8f4c2b97ac"
      },
      "source": [
        "plt.imshow(X_train[0], cmap=\"binary\")\n",
        "plt.axis('off');"
      ],
      "execution_count": 28,
      "outputs": [
        {
          "output_type": "display_data",
          "data": {
            "image/png": "[encoded data removed]",
            "text/plain": [
              "<Figure size 432x288 with 1 Axes>"
            ]
          },
          "metadata": {}
        }
      ]
    },
    {
      "cell_type": "markdown",
      "metadata": {
        "id": "_M2U8x_y9zn-"
      },
      "source": [
        "Las etiquetas van de 0 a 9, por lo que hay 10 tipos diferentes de ropa."
      ]
    },
    {
      "cell_type": "markdown",
      "metadata": {
        "id": "OVuZTuwN-Ujp"
      },
      "source": [
        "los nombres para cada una de las clases son: "
      ]
    },
    {
      "cell_type": "code",
      "metadata": {
        "id": "rgX0QvkV98Il"
      },
      "source": [
        "class_names = [\"T-shirt/top\", \"Trouser\", \"Pullover\", \"Dress\", \"Coat\",\n",
        "               \"Sandal\", \"Shirt\", \"Sneaker\", \"Bag\", \"Ankle boot\"]"
      ],
      "execution_count": 30,
      "outputs": []
    },
    {
      "cell_type": "markdown",
      "metadata": {
        "id": "zw-gJmK7-qmc"
      },
      "source": [
        "Entonces, la primera imagen en el conjunto de entrenamiento es un abrigo(Coat)"
      ]
    },
    {
      "cell_type": "code",
      "metadata": {
        "colab": {
          "base_uri": "https://localhost:8080/"
        },
        "id": "-Q1VTFE4hUIM",
        "outputId": "ed07b610-e721-4676-e374-933dc198d02b"
      },
      "source": [
        "y_train[0]"
      ],
      "execution_count": 31,
      "outputs": [
        {
          "output_type": "execute_result",
          "data": {
            "text/plain": [
              "4"
            ]
          },
          "metadata": {},
          "execution_count": 31
        }
      ]
    },
    {
      "cell_type": "code",
      "metadata": {
        "id": "BThb_pJK-ZpA",
        "colab": {
          "base_uri": "https://localhost:8080/",
          "height": 35
        },
        "outputId": "02d9db35-f0d2-4570-aa4b-e324fd274bfd"
      },
      "source": [
        "class_names[y_train[0]]"
      ],
      "execution_count": 32,
      "outputs": [
        {
          "output_type": "execute_result",
          "data": {
            "application/vnd.google.colaboratory.intrinsic+json": {
              "type": "string"
            },
            "text/plain": [
              "'Coat'"
            ]
          },
          "metadata": {},
          "execution_count": 32
        }
      ]
    },
    {
      "cell_type": "markdown",
      "metadata": {
        "id": "NGTh1v2u_AuD"
      },
      "source": [
        "El conjunto de validación contiene 5,000 imágenes, y el conjunto de prueba contiene 10,000 imágenes:"
      ]
    },
    {
      "cell_type": "code",
      "metadata": {
        "id": "SofDeaM9Aklm",
        "colab": {
          "base_uri": "https://localhost:8080/"
        },
        "outputId": "19b2d4cf-c75b-4f99-b1bb-e187791f7087"
      },
      "source": [
        "X_valid.shape"
      ],
      "execution_count": 33,
      "outputs": [
        {
          "output_type": "execute_result",
          "data": {
            "text/plain": [
              "(5000, 28, 28)"
            ]
          },
          "metadata": {},
          "execution_count": 33
        }
      ]
    },
    {
      "cell_type": "code",
      "metadata": {
        "id": "fX4z_5o1BPC4",
        "colab": {
          "base_uri": "https://localhost:8080/"
        },
        "outputId": "9435b76b-4d54-4cfc-ccfe-80196fe1dd21"
      },
      "source": [
        "X_test.shape"
      ],
      "execution_count": 34,
      "outputs": [
        {
          "output_type": "execute_result",
          "data": {
            "text/plain": [
              "(10000, 28, 28)"
            ]
          },
          "metadata": {},
          "execution_count": 34
        }
      ]
    },
    {
      "cell_type": "markdown",
      "metadata": {
        "id": "Wb53If_5_FXr"
      },
      "source": [
        "visualicemos ahora algunas de las imágenes de los datos de entrenamiento con su respectiva etiqueta"
      ]
    },
    {
      "cell_type": "code",
      "metadata": {
        "id": "ueEfL0_l_ERq",
        "colab": {
          "base_uri": "https://localhost:8080/",
          "height": 310
        },
        "outputId": "af428e25-86e5-498f-8e76-8d33ca7e4c59"
      },
      "source": [
        "fig , ax =  plt.subplots(3,10, figsize=(15,5))\n",
        "for i , ax in enumerate(ax.flat):\n",
        "  ax.imshow(X_train[i], cmap='binary')\n",
        "  ax.set_axis_off()\n",
        "  ax.set_title(class_names[y_train[i]])"
      ],
      "execution_count": 35,
      "outputs": [
        {
          "output_type": "display_data",
          "data": {
            "image/png": "[encoded data removed]",
            "text/plain": [
              "<Figure size 1080x360 with 30 Axes>"
            ]
          },
          "metadata": {}
        }
      ]
    },
    {
      "cell_type": "markdown",
      "metadata": {
        "id": "ZQpJetqBAE_G"
      },
      "source": [
        "## Uso de Keras para crean un modelo de aprendizaje profundo \n"
      ]
    },
    {
      "cell_type": "markdown",
      "metadata": {
        "id": "2ql02i30iN9b"
      },
      "source": [
        "Antes de entrenar un modelo de redes neuronales, es necesario elimar cualquier modelo que se haya creado en el backend de keras:"
      ]
    },
    {
      "cell_type": "code",
      "metadata": {
        "id": "Mf3T-mTrDWwN"
      },
      "source": [
        "keras.backend.clear_session() # Eliminar modelos del backend"
      ],
      "execution_count": 36,
      "outputs": []
    },
    {
      "cell_type": "code",
      "metadata": {
        "id": "k8bwYESv_q4T"
      },
      "source": [
        "# Creamos un modelo secuencial por capas\n",
        "model = keras.models.Sequential();\n",
        "model.add(keras.layers.Flatten(input_shape=[28, 28])); # La primera capa recibe la información del tensor de entrada.\n",
        "model.add(keras.layers.Dense(300, activation=\"relu\"));\n",
        "model.add(keras.layers.Dense(100, activation=\"relu\"));\n",
        "model.add(keras.layers.Dense(10, activation=\"softmax\")); # Capa se salida con 10 neuronas y función de activación softmax"
      ],
      "execution_count": 37,
      "outputs": []
    },
    {
      "cell_type": "markdown",
      "metadata": {
        "id": "61zlC3ywA-DB"
      },
      "source": [
        "Veamos este código línea por línea:\n",
        "* La primera línea crea un modelo secuencial. Este es el tipo más simple de modelo para redes neuronales que están compuestas de una sola pila de capas, conectadas secuencialmente. Esto se llama la API secuencial.\n",
        "\n",
        "* Luego , construimos la primera capa y la agregamos al modelo. Es una capa Flatten cuyo papel es simplemente convertir cada imagen de entrada en un arregle 1D:\n",
        "\n",
        "* Luego, agregamos una capa oculta densa con 300 neuronas la cual utilizará la función de activación ReLU.\n",
        "\n",
        "* Luego, agregamos una segunda capa oculta densa con 100 neuronas, que también utiliza la función de activación ReLU.\n",
        "\n",
        "* Finalmente, agregamos una capa de salida densa con 10 neuronas (una por clase), usando la función de activación softmax (porque las clases son exclusivas).\n",
        "\n",
        "El método `summary()` muestra un resumen de todas las capas del modelo.\n"
      ]
    },
    {
      "cell_type": "code",
      "metadata": {
        "id": "NXRM66UtA1_6",
        "colab": {
          "base_uri": "https://localhost:8080/"
        },
        "outputId": "e17d63b6-26f4-4d5a-f092-b4e1fa92cbf1"
      },
      "source": [
        "model.summary()"
      ],
      "execution_count": 38,
      "outputs": [
        {
          "output_type": "stream",
          "name": "stdout",
          "text": [
            "Model: \"sequential\"\n",
            "_________________________________________________________________\n",
            "Layer (type)                 Output Shape              Param #   \n",
            "=================================================================\n",
            "flatten (Flatten)            (None, 784)               0         \n",
            "_________________________________________________________________\n",
            "dense (Dense)                (None, 300)               235500    \n",
            "_________________________________________________________________\n",
            "dense_1 (Dense)              (None, 100)               30100     \n",
            "_________________________________________________________________\n",
            "dense_2 (Dense)              (None, 10)                1010      \n",
            "=================================================================\n",
            "Total params: 266,610\n",
            "Trainable params: 266,610\n",
            "Non-trainable params: 0\n",
            "_________________________________________________________________\n"
          ]
        }
      ]
    },
    {
      "cell_type": "markdown",
      "metadata": {
        "id": "rF8jSbXFDrM-"
      },
      "source": [
        "## Compilando el modelo\n",
        "\n",
        "Después de crear un modelo, se debe llamar el método `compile()` para especificar la función de pérdida y el optimizador a utilizar. Opcionalmente, también puede especificar una lista de métricas  para calcular durante el entrenamiento y la evaluación:"
      ]
    },
    {
      "cell_type": "code",
      "metadata": {
        "colab": {
          "base_uri": "https://localhost:8080/"
        },
        "id": "Ljul2A1RlxZN",
        "outputId": "2d32f334-c1d5-47b7-b291-e45fa3a29035"
      },
      "source": [
        "np.unique(y_test)"
      ],
      "execution_count": 39,
      "outputs": [
        {
          "output_type": "execute_result",
          "data": {
            "text/plain": [
              "array([0, 1, 2, 3, 4, 5, 6, 7, 8, 9], dtype=uint8)"
            ]
          },
          "metadata": {},
          "execution_count": 39
        }
      ]
    },
    {
      "cell_type": "code",
      "metadata": {
        "id": "6xmf4dP6DN1z"
      },
      "source": [
        " model.compile(loss='sparse_categorical_crossentropy',\n",
        "              optimizer='sgd', \n",
        "              metrics=[\"accuracy\"])"
      ],
      "execution_count": 40,
      "outputs": []
    },
    {
      "cell_type": "markdown",
      "metadata": {
        "id": "1mjB4LdpFDXF"
      },
      "source": [
        "## Entrenando y evaluando el modelo"
      ]
    },
    {
      "cell_type": "markdown",
      "metadata": {
        "id": "5hUzUbzhGk1r"
      },
      "source": [
        "Ahora el modelo está listo para ser entrenado. Para esto simplemente necesitamos llamar a su método `fit()`. Le pasamos las características de entrada (X_train) y las clases de destino (y_train), así como la cantidad de épocas para entrenar (o de lo contrario, sería predeterminado a solo 1). También pasamos un conjunto de validación (esto es opcional): Keras medirá la pérdida y las métricas adicionales en este conjunto al final de cada época, lo cual es muy útil para ver qué tan bien se desempeña realmente el modelo."
      ]
    },
    {
      "cell_type": "code",
      "metadata": {
        "id": "g54_sBZjEskv",
        "colab": {
          "base_uri": "https://localhost:8080/"
        },
        "outputId": "7c5f9115-fc2d-41b4-9dfb-4d9c679f0412"
      },
      "source": [
        "history =  model.fit(X_train, y_train, epochs=20, validation_data=(X_valid, y_valid))"
      ],
      "execution_count": 41,
      "outputs": [
        {
          "output_type": "stream",
          "name": "stdout",
          "text": [
            "Epoch 1/20\n",
            "1719/1719 [==============================] - 8s 3ms/step - loss: 0.7245 - accuracy: 0.7605 - val_loss: 0.5102 - val_accuracy: 0.8310\n",
            "Epoch 2/20\n",
            "1719/1719 [==============================] - 5s 3ms/step - loss: 0.4865 - accuracy: 0.8288 - val_loss: 0.4637 - val_accuracy: 0.8362\n",
            "Epoch 3/20\n",
            "1719/1719 [==============================] - 6s 3ms/step - loss: 0.4423 - accuracy: 0.8453 - val_loss: 0.4211 - val_accuracy: 0.8564\n",
            "Epoch 4/20\n",
            "1719/1719 [==============================] - 5s 3ms/step - loss: 0.4140 - accuracy: 0.8549 - val_loss: 0.3901 - val_accuracy: 0.8692\n",
            "Epoch 5/20\n",
            "1719/1719 [==============================] - 6s 3ms/step - loss: 0.3956 - accuracy: 0.8619 - val_loss: 0.3935 - val_accuracy: 0.8610\n",
            "Epoch 6/20\n",
            "1719/1719 [==============================] - 5s 3ms/step - loss: 0.3800 - accuracy: 0.8651 - val_loss: 0.3659 - val_accuracy: 0.8740\n",
            "Epoch 7/20\n",
            "1719/1719 [==============================] - 5s 3ms/step - loss: 0.3667 - accuracy: 0.8710 - val_loss: 0.3781 - val_accuracy: 0.8688\n",
            "Epoch 8/20\n",
            "1719/1719 [==============================] - 5s 3ms/step - loss: 0.3552 - accuracy: 0.8755 - val_loss: 0.3671 - val_accuracy: 0.8726\n",
            "Epoch 9/20\n",
            "1719/1719 [==============================] - 6s 3ms/step - loss: 0.3446 - accuracy: 0.8770 - val_loss: 0.3805 - val_accuracy: 0.8608\n",
            "Epoch 10/20\n",
            "1719/1719 [==============================] - 5s 3ms/step - loss: 0.3358 - accuracy: 0.8791 - val_loss: 0.3376 - val_accuracy: 0.8806\n",
            "Epoch 11/20\n",
            "1719/1719 [==============================] - 5s 3ms/step - loss: 0.3274 - accuracy: 0.8829 - val_loss: 0.3362 - val_accuracy: 0.8800\n",
            "Epoch 12/20\n",
            "1719/1719 [==============================] - 5s 3ms/step - loss: 0.3185 - accuracy: 0.8865 - val_loss: 0.3830 - val_accuracy: 0.8608\n",
            "Epoch 13/20\n",
            "1719/1719 [==============================] - 5s 3ms/step - loss: 0.3106 - accuracy: 0.8890 - val_loss: 0.3250 - val_accuracy: 0.8824\n",
            "Epoch 14/20\n",
            "1719/1719 [==============================] - 6s 3ms/step - loss: 0.3045 - accuracy: 0.8904 - val_loss: 0.3398 - val_accuracy: 0.8758\n",
            "Epoch 15/20\n",
            "1719/1719 [==============================] - 5s 3ms/step - loss: 0.2960 - accuracy: 0.8946 - val_loss: 0.3230 - val_accuracy: 0.8804\n",
            "Epoch 16/20\n",
            "1719/1719 [==============================] - 6s 3ms/step - loss: 0.2910 - accuracy: 0.8953 - val_loss: 0.3132 - val_accuracy: 0.8864\n",
            "Epoch 17/20\n",
            "1719/1719 [==============================] - 5s 3ms/step - loss: 0.2852 - accuracy: 0.8995 - val_loss: 0.3161 - val_accuracy: 0.8892\n",
            "Epoch 18/20\n",
            "1719/1719 [==============================] - 5s 3ms/step - loss: 0.2788 - accuracy: 0.8998 - val_loss: 0.3097 - val_accuracy: 0.8900\n",
            "Epoch 19/20\n",
            "1719/1719 [==============================] - 6s 3ms/step - loss: 0.2737 - accuracy: 0.9008 - val_loss: 0.3255 - val_accuracy: 0.8840\n",
            "Epoch 20/20\n",
            "1719/1719 [==============================] - 6s 3ms/step - loss: 0.2689 - accuracy: 0.9032 - val_loss: 0.3078 - val_accuracy: 0.8890\n"
          ]
        }
      ]
    },
    {
      "cell_type": "markdown",
      "metadata": {
        "id": "-4_yg5MrIWLR"
      },
      "source": [
        "¡Y eso es todo! La red neuronal está entrenada. En cada época durante el entrenamiento, Keras muestra el número de instancias procesadas hasta el momento (junto con una barra de progreso), el tiempo medio de entrenamiento, la pérdida (loss) y la precisión (accuracy), ambas calculadas en el conjunto de entrenamiento y el conjunto de validación.\n",
        "\n",
        "El método `fit()` devuelve un objeto \"History\" que contiene los parámetros de entrenamiento (history.params), la lista de épocas por las que pasó (history.epoch) y, lo más importante, un diccionario (history.history) que contiene la pérdida y las métricas adicionales que midió al final de cada época en el conjunto de entrenamiento y en el conjunto de validación (si corresponde). \n",
        "\n",
        "usando la librería Pandas y matplotlib podemos visualizar las curvas de aprendizaje"
      ]
    },
    {
      "cell_type": "code",
      "metadata": {
        "id": "52WttEpwG54_"
      },
      "source": [
        "import pandas as pd"
      ],
      "execution_count": 42,
      "outputs": []
    },
    {
      "cell_type": "code",
      "metadata": {
        "colab": {
          "base_uri": "https://localhost:8080/"
        },
        "id": "N4c5oA2Qnezj",
        "outputId": "8439b80d-741f-440a-e453-23afb02afc5a"
      },
      "source": [
        "history.history"
      ],
      "execution_count": 43,
      "outputs": [
        {
          "output_type": "execute_result",
          "data": {
            "text/plain": [
              "{'accuracy': [0.7605090737342834,\n",
              "  0.8288182020187378,\n",
              "  0.8453272581100464,\n",
              "  0.8548727035522461,\n",
              "  0.8618545532226562,\n",
              "  0.8650727272033691,\n",
              "  0.8709636330604553,\n",
              "  0.8754909038543701,\n",
              "  0.8770363926887512,\n",
              "  0.8790545463562012,\n",
              "  0.8829454779624939,\n",
              "  0.886509120464325,\n",
              "  0.888981819152832,\n",
              "  0.8903999924659729,\n",
              "  0.8946181535720825,\n",
              "  0.8953272700309753,\n",
              "  0.8994545340538025,\n",
              "  0.8998363614082336,\n",
              "  0.9007636308670044,\n",
              "  0.9031999707221985],\n",
              " 'loss': [0.7245228886604309,\n",
              "  0.4865305721759796,\n",
              "  0.4422619938850403,\n",
              "  0.4140278995037079,\n",
              "  0.3956373631954193,\n",
              "  0.379998117685318,\n",
              "  0.36672642827033997,\n",
              "  0.35517600178718567,\n",
              "  0.3446394205093384,\n",
              "  0.33579209446907043,\n",
              "  0.32737675309181213,\n",
              "  0.3184913396835327,\n",
              "  0.3106403052806854,\n",
              "  0.3044871389865875,\n",
              "  0.2959624230861664,\n",
              "  0.29096290469169617,\n",
              "  0.2851521074771881,\n",
              "  0.2787739038467407,\n",
              "  0.273668497800827,\n",
              "  0.26893946528434753],\n",
              " 'val_accuracy': [0.8309999704360962,\n",
              "  0.8361999988555908,\n",
              "  0.8564000129699707,\n",
              "  0.8691999912261963,\n",
              "  0.8610000014305115,\n",
              "  0.8740000128746033,\n",
              "  0.8687999844551086,\n",
              "  0.8726000189781189,\n",
              "  0.86080002784729,\n",
              "  0.8805999755859375,\n",
              "  0.8799999952316284,\n",
              "  0.86080002784729,\n",
              "  0.8823999762535095,\n",
              "  0.8758000135421753,\n",
              "  0.8804000020027161,\n",
              "  0.8863999843597412,\n",
              "  0.88919997215271,\n",
              "  0.8899999856948853,\n",
              "  0.8840000033378601,\n",
              "  0.8889999985694885],\n",
              " 'val_loss': [0.5102488994598389,\n",
              "  0.4636954665184021,\n",
              "  0.4210667908191681,\n",
              "  0.3901313543319702,\n",
              "  0.39345261454582214,\n",
              "  0.36585789918899536,\n",
              "  0.378104031085968,\n",
              "  0.36711207032203674,\n",
              "  0.3804667890071869,\n",
              "  0.3376302719116211,\n",
              "  0.33618292212486267,\n",
              "  0.38298743963241577,\n",
              "  0.32498395442962646,\n",
              "  0.33976253867149353,\n",
              "  0.32295355200767517,\n",
              "  0.31318846344947815,\n",
              "  0.316055029630661,\n",
              "  0.3096839487552643,\n",
              "  0.3255440592765808,\n",
              "  0.3078412711620331]}"
            ]
          },
          "metadata": {},
          "execution_count": 43
        }
      ]
    },
    {
      "cell_type": "code",
      "metadata": {
        "id": "KYZ7lfbOJ5C6",
        "colab": {
          "base_uri": "https://localhost:8080/",
          "height": 206
        },
        "outputId": "63f68e4f-5834-4700-d290-4f361197c255"
      },
      "source": [
        "df=pd.DataFrame(history.history)\n",
        "df.head()"
      ],
      "execution_count": 44,
      "outputs": [
        {
          "output_type": "execute_result",
          "data": {
            "text/html": [
              "<div>\n",
              "<style scoped>\n",
              "    .dataframe tbody tr th:only-of-type {\n",
              "        vertical-align: middle;\n",
              "    }\n",
              "\n",
              "    .dataframe tbody tr th {\n",
              "        vertical-align: top;\n",
              "    }\n",
              "\n",
              "    .dataframe thead th {\n",
              "        text-align: right;\n",
              "    }\n",
              "</style>\n",
              "<table border=\"1\" class=\"dataframe\">\n",
              "  <thead>\n",
              "    <tr style=\"text-align: right;\">\n",
              "      <th></th>\n",
              "      <th>loss</th>\n",
              "      <th>accuracy</th>\n",
              "      <th>val_loss</th>\n",
              "      <th>val_accuracy</th>\n",
              "    </tr>\n",
              "  </thead>\n",
              "  <tbody>\n",
              "    <tr>\n",
              "      <th>0</th>\n",
              "      <td>0.724523</td>\n",
              "      <td>0.760509</td>\n",
              "      <td>0.510249</td>\n",
              "      <td>0.8310</td>\n",
              "    </tr>\n",
              "    <tr>\n",
              "      <th>1</th>\n",
              "      <td>0.486531</td>\n",
              "      <td>0.828818</td>\n",
              "      <td>0.463695</td>\n",
              "      <td>0.8362</td>\n",
              "    </tr>\n",
              "    <tr>\n",
              "      <th>2</th>\n",
              "      <td>0.442262</td>\n",
              "      <td>0.845327</td>\n",
              "      <td>0.421067</td>\n",
              "      <td>0.8564</td>\n",
              "    </tr>\n",
              "    <tr>\n",
              "      <th>3</th>\n",
              "      <td>0.414028</td>\n",
              "      <td>0.854873</td>\n",
              "      <td>0.390131</td>\n",
              "      <td>0.8692</td>\n",
              "    </tr>\n",
              "    <tr>\n",
              "      <th>4</th>\n",
              "      <td>0.395637</td>\n",
              "      <td>0.861855</td>\n",
              "      <td>0.393453</td>\n",
              "      <td>0.8610</td>\n",
              "    </tr>\n",
              "  </tbody>\n",
              "</table>\n",
              "</div>"
            ],
            "text/plain": [
              "       loss  accuracy  val_loss  val_accuracy\n",
              "0  0.724523  0.760509  0.510249        0.8310\n",
              "1  0.486531  0.828818  0.463695        0.8362\n",
              "2  0.442262  0.845327  0.421067        0.8564\n",
              "3  0.414028  0.854873  0.390131        0.8692\n",
              "4  0.395637  0.861855  0.393453        0.8610"
            ]
          },
          "metadata": {},
          "execution_count": 44
        }
      ]
    },
    {
      "cell_type": "code",
      "metadata": {
        "id": "iZ__dzEIJ6V6",
        "colab": {
          "base_uri": "https://localhost:8080/",
          "height": 322
        },
        "outputId": "3743601c-68c4-4a5a-9b63-126aae90a484"
      },
      "source": [
        "df.plot(figsize=(8, 5))\n",
        "plt.show()"
      ],
      "execution_count": 45,
      "outputs": [
        {
          "output_type": "display_data",
          "data": {
            "image/png": "[encoded data removed]",
            "text/plain": [
              "<Figure size 576x360 with 1 Axes>"
            ]
          },
          "metadata": {}
        }
      ]
    },
    {
      "cell_type": "markdown",
      "metadata": {
        "id": "cThjfX67LHeP"
      },
      "source": [
        "Se puede ver que tanto la precisión de entrenamiento como la de validación aumentan constantemente durante el entrenamiento, mientras que la pérdida de entrenamiento y validación disminuye. Ademas , las curvas de validación están bastante cerca de las curvas de entrenamiento, lo que significa que no hay demasiado sobreajuste(overfitting).\n",
        "\n",
        "Ahora usemos el modelo ya entrenado sobre nuestros datos de prueba (X_test)"
      ]
    },
    {
      "cell_type": "code",
      "metadata": {
        "id": "KN71bQZOJ83U",
        "colab": {
          "base_uri": "https://localhost:8080/"
        },
        "outputId": "fd104bfa-52f8-4c57-b5f6-b06c5979e52c"
      },
      "source": [
        "model.evaluate(X_test,y_test)"
      ],
      "execution_count": 46,
      "outputs": [
        {
          "output_type": "stream",
          "name": "stdout",
          "text": [
            "313/313 [==============================] - 1s 3ms/step - loss: 0.3429 - accuracy: 0.8780\n"
          ]
        },
        {
          "output_type": "execute_result",
          "data": {
            "text/plain": [
              "[0.3429402709007263, 0.878000020980835]"
            ]
          },
          "metadata": {},
          "execution_count": 46
        }
      ]
    },
    {
      "cell_type": "markdown",
      "metadata": {
        "id": "e4Wa6T_POcT2"
      },
      "source": [
        "## Usando el modelo para hacer predicciones\n",
        "\n",
        "Ahora, podemos usar el método `predict()` para hacer predicciones sobre nuevas instancias. Como no tenemos instancias nuevas reales, solo usaremos las primeras 3 instancias del conjunto de prueba:"
      ]
    },
    {
      "cell_type": "code",
      "metadata": {
        "id": "2qt8Ros2OUNi",
        "colab": {
          "base_uri": "https://localhost:8080/"
        },
        "outputId": "9ae071f6-9753-4a45-ea4d-b64eabc7d15a"
      },
      "source": [
        "X_new = X_test[:3]\n",
        "y_proba = model.predict(X_new)\n",
        "y_proba.round(2)"
      ],
      "execution_count": 47,
      "outputs": [
        {
          "output_type": "execute_result",
          "data": {
            "text/plain": [
              "array([[0.  , 0.  , 0.  , 0.  , 0.  , 0.  , 0.  , 0.02, 0.  , 0.98],\n",
              "       [0.  , 0.  , 1.  , 0.  , 0.  , 0.  , 0.  , 0.  , 0.  , 0.  ],\n",
              "       [0.  , 1.  , 0.  , 0.  , 0.  , 0.  , 0.  , 0.  , 0.  , 0.  ]],\n",
              "      dtype=float32)"
            ]
          },
          "metadata": {},
          "execution_count": 47
        }
      ]
    },
    {
      "cell_type": "markdown",
      "metadata": {
        "id": "3KUjmrVsPLhS"
      },
      "source": [
        "Como puede ver, para cada caso, el modelo estima una probabilidad por clase, desde la clase 0 hasta la clase 9. Si solo le importa la clase con la probabilidad estimada más alta (incluso si esa probabilidad es bastante baja), puede usar el método pre `dict_classes()` en su lugar"
      ]
    },
    {
      "cell_type": "code",
      "metadata": {
        "id": "CuE10X4IOxxo"
      },
      "source": [
        "predict_classes = [np.argmax(i) for i in y_proba]"
      ],
      "execution_count": 54,
      "outputs": []
    },
    {
      "cell_type": "code",
      "metadata": {
        "id": "GGKdB6FaPqEP",
        "colab": {
          "base_uri": "https://localhost:8080/"
        },
        "outputId": "fe807b75-b79d-4230-8cfa-724ba23ca417"
      },
      "source": [
        "np.array(class_names)[predict_classes]"
      ],
      "execution_count": 55,
      "outputs": [
        {
          "output_type": "execute_result",
          "data": {
            "text/plain": [
              "array(['Ankle boot', 'Pullover', 'Trouser'], dtype='<U11')"
            ]
          },
          "metadata": {},
          "execution_count": 55
        }
      ]
    },
    {
      "cell_type": "code",
      "metadata": {
        "id": "UdUs8OBrPrkQ",
        "colab": {
          "base_uri": "https://localhost:8080/"
        },
        "outputId": "cd47e98e-47cf-4d04-b76f-d6469fd80e86"
      },
      "source": [
        "y_new = y_test[:3]\n",
        "y_new"
      ],
      "execution_count": 56,
      "outputs": [
        {
          "output_type": "execute_result",
          "data": {
            "text/plain": [
              "array([9, 2, 1], dtype=uint8)"
            ]
          },
          "metadata": {},
          "execution_count": 56
        }
      ]
    },
    {
      "cell_type": "code",
      "metadata": {
        "id": "DzpyRq4BPs9Q",
        "colab": {
          "base_uri": "https://localhost:8080/",
          "height": 165
        },
        "outputId": "ecb51ec6-bf50-43ab-b2c1-9ecd8bc83d6a"
      },
      "source": [
        "plt.figure(figsize=(7.2, 2.4))\n",
        "for index, image in enumerate(X_new):\n",
        "    plt.subplot(1, 3, index + 1)\n",
        "    plt.imshow(image, cmap=\"binary\", interpolation=\"nearest\")\n",
        "    plt.axis('off')\n",
        "    plt.title(class_names[y_test[index]], fontsize=12)"
      ],
      "execution_count": 57,
      "outputs": [
        {
          "output_type": "display_data",
          "data": {
            "image/png": "[encoded data removed]",
            "text/plain": [
              "<Figure size 518.4x172.8 with 3 Axes>"
            ]
          },
          "metadata": {}
        }
      ]
    },
    {
      "cell_type": "markdown",
      "metadata": {
        "id": "jtQYTx1xtxRj"
      },
      "source": [
        "## Reto Opcional"
      ]
    },
    {
      "cell_type": "markdown",
      "metadata": {
        "id": "IoLkVlT6uWt4"
      },
      "source": [
        "Suba una imagen propia y haga una predicción usando el modelo entrenado"
      ]
    },
    {
      "cell_type": "markdown",
      "metadata": {
        "id": "kh67NgAhvmTk"
      },
      "source": [
        "Haga click **aquí** si tiene problemas con la solución:\n",
        "\n",
        "<!-----\n",
        "from google.colab import files\n",
        "uploaded = files.upload()\n",
        "#Usando OpenCV\n",
        "import cv2\n",
        "data = cv2.imread(\"img.jpg\",cv2.IMREAD_GRAYSCALE)\n",
        "data = cv2.resize(data,(28,28))\n",
        "#Predecir\n",
        "y_pred = model.predict_classes(X_new.reshape(1,28,28))\n",
        "----->"
      ]
    }
  ]
}